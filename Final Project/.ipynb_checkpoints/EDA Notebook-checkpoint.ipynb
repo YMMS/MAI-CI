{
 "cells": [
  {
   "cell_type": "markdown",
   "metadata": {},
   "source": [
    "<b>Scratch Pad</b>  \n",
    "User interaction data (ie # of comments, per subreddit etc)"
   ]
  },
  {
   "cell_type": "code",
   "execution_count": 8,
   "metadata": {
    "collapsed": false
   },
   "outputs": [],
   "source": [
    "import json\n",
    "import os\n",
    "import pandas as pd\n",
    "import numpy as np\n",
    "import matplotlib.pyplot as plt\n",
    "from ggplot import *\n",
    "import networkx as nx\n",
    "%matplotlib inline \n",
    "os.chdir(\"C:/Users/macle/Desktop/UPC Masters/Semester 2/CI/Final Project\")"
   ]
  },
  {
   "cell_type": "code",
   "execution_count": 2,
   "metadata": {
    "collapsed": true
   },
   "outputs": [],
   "source": [
    "with open('reddit_data.json','r') as data_file:    \n",
    "    reddit_data = json.load(data_file)"
   ]
  },
  {
   "cell_type": "code",
   "execution_count": 3,
   "metadata": {
    "collapsed": false
   },
   "outputs": [
    {
     "data": {
      "text/html": [
       "<div>\n",
       "<table border=\"1\" class=\"dataframe\">\n",
       "  <thead>\n",
       "    <tr style=\"text-align: right;\">\n",
       "      <th></th>\n",
       "      <th>user</th>\n",
       "      <th>subreddit</th>\n",
       "      <th>submission</th>\n",
       "      <th>utc_stamp</th>\n",
       "      <th>rnd_words</th>\n",
       "    </tr>\n",
       "  </thead>\n",
       "  <tbody>\n",
       "    <tr>\n",
       "      <th>0</th>\n",
       "      <td>popesnutsack</td>\n",
       "      <td>worldpolitics</td>\n",
       "      <td>[102 million dead California trees 'unpreceden...</td>\n",
       "      <td>1479651635</td>\n",
       "      <td>[water, If, one, tree]</td>\n",
       "    </tr>\n",
       "    <tr>\n",
       "      <th>1</th>\n",
       "      <td>popesnutsack</td>\n",
       "      <td>Offensive_Wallpapers</td>\n",
       "      <td>[Ya gotta love PornHub comments [2400 x 1350]]</td>\n",
       "      <td>1479651372</td>\n",
       "      <td>[My, next, alimoni, payment]</td>\n",
       "    </tr>\n",
       "    <tr>\n",
       "      <th>2</th>\n",
       "      <td>popesnutsack</td>\n",
       "      <td>funny</td>\n",
       "      <td>[\"Oh my fucking god!\"]</td>\n",
       "      <td>1479649683</td>\n",
       "      <td>[Now, hard, on]</td>\n",
       "    </tr>\n",
       "    <tr>\n",
       "      <th>3</th>\n",
       "      <td>popesnutsack</td>\n",
       "      <td>ImGoingToHellForThis</td>\n",
       "      <td>[First Day in Office]</td>\n",
       "      <td>1479517797</td>\n",
       "      <td>[Can, hope, cheeto, board]</td>\n",
       "    </tr>\n",
       "    <tr>\n",
       "      <th>4</th>\n",
       "      <td>popesnutsack</td>\n",
       "      <td>mildlyinteresting</td>\n",
       "      <td>[We do Not hire LIBERALS. Rude sign in conveni...</td>\n",
       "      <td>1479512926</td>\n",
       "      <td>[Veri, eloqu, craft, wordsmith]</td>\n",
       "    </tr>\n",
       "  </tbody>\n",
       "</table>\n",
       "</div>"
      ],
      "text/plain": [
       "           user             subreddit  \\\n",
       "0  popesnutsack         worldpolitics   \n",
       "1  popesnutsack  Offensive_Wallpapers   \n",
       "2  popesnutsack                 funny   \n",
       "3  popesnutsack  ImGoingToHellForThis   \n",
       "4  popesnutsack     mildlyinteresting   \n",
       "\n",
       "                                          submission   utc_stamp  \\\n",
       "0  [102 million dead California trees 'unpreceden...  1479651635   \n",
       "1     [Ya gotta love PornHub comments [2400 x 1350]]  1479651372   \n",
       "2                             [\"Oh my fucking god!\"]  1479649683   \n",
       "3                              [First Day in Office]  1479517797   \n",
       "4  [We do Not hire LIBERALS. Rude sign in conveni...  1479512926   \n",
       "\n",
       "                         rnd_words  \n",
       "0           [water, If, one, tree]  \n",
       "1     [My, next, alimoni, payment]  \n",
       "2                  [Now, hard, on]  \n",
       "3       [Can, hope, cheeto, board]  \n",
       "4  [Veri, eloqu, craft, wordsmith]  "
      ]
     },
     "execution_count": 3,
     "metadata": {},
     "output_type": "execute_result"
    }
   ],
   "source": [
    "df = pd.DataFrame(reddit_data,columns=['user','subreddit','submission','utc_stamp','rnd_words'])\n",
    "df.head()"
   ]
  },
  {
   "cell_type": "markdown",
   "metadata": {},
   "source": [
    "<h2>Dataset Size</h2>"
   ]
  },
  {
   "cell_type": "code",
   "execution_count": 4,
   "metadata": {
    "collapsed": false
   },
   "outputs": [
    {
     "name": "stdout",
     "output_type": "stream",
     "text": [
      "Unique Users = 734\n",
      "Unique Subreddits = 7785\n",
      "Unique Submissions = 45446\n"
     ]
    },
    {
     "data": {
      "text/plain": [
       "(466342, 5)"
      ]
     },
     "execution_count": 4,
     "metadata": {},
     "output_type": "execute_result"
    }
   ],
   "source": [
    "print(\"Unique Users = \" + str(len(df.groupby('user')['user'].nunique())))\n",
    "print(\"Unique Subreddits = \" + str(len(df.groupby('subreddit')['subreddit'].nunique())))\n",
    "print(\"Unique Submissions = \" + str(len(df.groupby(['user','subreddit'])['submission'].nunique())))\n",
    "df.shape"
   ]
  },
  {
   "cell_type": "markdown",
   "metadata": {},
   "source": [
    "<h2>Subreddit Data</h2>"
   ]
  },
  {
   "cell_type": "code",
   "execution_count": 5,
   "metadata": {
    "collapsed": false
   },
   "outputs": [
    {
     "data": {
      "image/png": "[encoded data removed]",
      "text/plain": [
       "<matplotlib.figure.Figure at 0x16b4f31bba8>"
      ]
     },
     "metadata": {},
     "output_type": "display_data"
    }
   ],
   "source": [
    "user_subs = df.groupby(['user'])['subreddit'].nunique()\n",
    "plt.hist(user_subs.values, bins=100)\n",
    "plt.title(\"User vs Sub Counts Histogram\")\n",
    "plt.show()"
   ]
  },
  {
   "cell_type": "code",
   "execution_count": 6,
   "metadata": {
    "collapsed": false
   },
   "outputs": [
    {
     "data": {
      "text/html": [
       "<div>\n",
       "<table border=\"1\" class=\"dataframe\">\n",
       "  <thead>\n",
       "    <tr style=\"text-align: right;\">\n",
       "      <th></th>\n",
       "      <th>sub</th>\n",
       "      <th>user_count</th>\n",
       "    </tr>\n",
       "  </thead>\n",
       "  <tbody>\n",
       "    <tr>\n",
       "      <th>332</th>\n",
       "      <td>AskReddit</td>\n",
       "      <td>559</td>\n",
       "    </tr>\n",
       "    <tr>\n",
       "      <th>6529</th>\n",
       "      <td>pics</td>\n",
       "      <td>452</td>\n",
       "    </tr>\n",
       "    <tr>\n",
       "      <th>5295</th>\n",
       "      <td>funny</td>\n",
       "      <td>440</td>\n",
       "    </tr>\n",
       "    <tr>\n",
       "      <th>7370</th>\n",
       "      <td>todayilearned</td>\n",
       "      <td>412</td>\n",
       "    </tr>\n",
       "    <tr>\n",
       "      <th>7558</th>\n",
       "      <td>videos</td>\n",
       "      <td>389</td>\n",
       "    </tr>\n",
       "    <tr>\n",
       "      <th>5393</th>\n",
       "      <td>gifs</td>\n",
       "      <td>381</td>\n",
       "    </tr>\n",
       "    <tr>\n",
       "      <th>5336</th>\n",
       "      <td>gaming</td>\n",
       "      <td>375</td>\n",
       "    </tr>\n",
       "    <tr>\n",
       "      <th>7706</th>\n",
       "      <td>worldnews</td>\n",
       "      <td>363</td>\n",
       "    </tr>\n",
       "    <tr>\n",
       "      <th>6294</th>\n",
       "      <td>news</td>\n",
       "      <td>348</td>\n",
       "    </tr>\n",
       "    <tr>\n",
       "      <th>6209</th>\n",
       "      <td>movies</td>\n",
       "      <td>321</td>\n",
       "    </tr>\n",
       "    <tr>\n",
       "      <th>3220</th>\n",
       "      <td>Showerthoughts</td>\n",
       "      <td>316</td>\n",
       "    </tr>\n",
       "    <tr>\n",
       "      <th>4246</th>\n",
       "      <td>aww</td>\n",
       "      <td>315</td>\n",
       "    </tr>\n",
       "    <tr>\n",
       "      <th>6141</th>\n",
       "      <td>mildlyinteresting</td>\n",
       "      <td>310</td>\n",
       "    </tr>\n",
       "    <tr>\n",
       "      <th>3844</th>\n",
       "      <td>WTF</td>\n",
       "      <td>310</td>\n",
       "    </tr>\n",
       "    <tr>\n",
       "      <th>1755</th>\n",
       "      <td>IAmA</td>\n",
       "      <td>282</td>\n",
       "    </tr>\n",
       "    <tr>\n",
       "      <th>6575</th>\n",
       "      <td>politics</td>\n",
       "      <td>271</td>\n",
       "    </tr>\n",
       "    <tr>\n",
       "      <th>131</th>\n",
       "      <td>AdviceAnimals</td>\n",
       "      <td>271</td>\n",
       "    </tr>\n",
       "    <tr>\n",
       "      <th>7268</th>\n",
       "      <td>television</td>\n",
       "      <td>230</td>\n",
       "    </tr>\n",
       "    <tr>\n",
       "      <th>6351</th>\n",
       "      <td>nottheonion</td>\n",
       "      <td>230</td>\n",
       "    </tr>\n",
       "    <tr>\n",
       "      <th>6868</th>\n",
       "      <td>science</td>\n",
       "      <td>221</td>\n",
       "    </tr>\n",
       "    <tr>\n",
       "      <th>5105</th>\n",
       "      <td>explainlikeimfive</td>\n",
       "      <td>221</td>\n",
       "    </tr>\n",
       "    <tr>\n",
       "      <th>2387</th>\n",
       "      <td>Music</td>\n",
       "      <td>213</td>\n",
       "    </tr>\n",
       "    <tr>\n",
       "      <th>2099</th>\n",
       "      <td>LifeProTips</td>\n",
       "      <td>212</td>\n",
       "    </tr>\n",
       "    <tr>\n",
       "      <th>7253</th>\n",
       "      <td>technology</td>\n",
       "      <td>210</td>\n",
       "    </tr>\n",
       "    <tr>\n",
       "      <th>3577</th>\n",
       "      <td>The_Donald</td>\n",
       "      <td>198</td>\n",
       "    </tr>\n",
       "    <tr>\n",
       "      <th>1949</th>\n",
       "      <td>Jokes</td>\n",
       "      <td>192</td>\n",
       "    </tr>\n",
       "    <tr>\n",
       "      <th>2589</th>\n",
       "      <td>OldSchoolCool</td>\n",
       "      <td>189</td>\n",
       "    </tr>\n",
       "    <tr>\n",
       "      <th>5734</th>\n",
       "      <td>interestingasfuck</td>\n",
       "      <td>188</td>\n",
       "    </tr>\n",
       "    <tr>\n",
       "      <th>7346</th>\n",
       "      <td>tifu</td>\n",
       "      <td>181</td>\n",
       "    </tr>\n",
       "    <tr>\n",
       "      <th>6496</th>\n",
       "      <td>pcmasterrace</td>\n",
       "      <td>180</td>\n",
       "    </tr>\n",
       "    <tr>\n",
       "      <th>7074</th>\n",
       "      <td>space</td>\n",
       "      <td>165</td>\n",
       "    </tr>\n",
       "    <tr>\n",
       "      <th>511</th>\n",
       "      <td>BlackPeopleTwitter</td>\n",
       "      <td>164</td>\n",
       "    </tr>\n",
       "    <tr>\n",
       "      <th>4784</th>\n",
       "      <td>creepy</td>\n",
       "      <td>160</td>\n",
       "    </tr>\n",
       "    <tr>\n",
       "      <th>4868</th>\n",
       "      <td>dataisbeautiful</td>\n",
       "      <td>160</td>\n",
       "    </tr>\n",
       "    <tr>\n",
       "      <th>5222</th>\n",
       "      <td>food</td>\n",
       "      <td>159</td>\n",
       "    </tr>\n",
       "    <tr>\n",
       "      <th>1432</th>\n",
       "      <td>Futurology</td>\n",
       "      <td>154</td>\n",
       "    </tr>\n",
       "    <tr>\n",
       "      <th>7092</th>\n",
       "      <td>sports</td>\n",
       "      <td>152</td>\n",
       "    </tr>\n",
       "    <tr>\n",
       "      <th>4458</th>\n",
       "      <td>books</td>\n",
       "      <td>150</td>\n",
       "    </tr>\n",
       "    <tr>\n",
       "      <th>6523</th>\n",
       "      <td>photoshopbattles</td>\n",
       "      <td>146</td>\n",
       "    </tr>\n",
       "    <tr>\n",
       "      <th>7694</th>\n",
       "      <td>woahdude</td>\n",
       "      <td>144</td>\n",
       "    </tr>\n",
       "    <tr>\n",
       "      <th>4211</th>\n",
       "      <td>atheism</td>\n",
       "      <td>141</td>\n",
       "    </tr>\n",
       "    <tr>\n",
       "      <th>1792</th>\n",
       "      <td>ImGoingToHellForThis</td>\n",
       "      <td>137</td>\n",
       "    </tr>\n",
       "    <tr>\n",
       "      <th>3776</th>\n",
       "      <td>UpliftingNews</td>\n",
       "      <td>136</td>\n",
       "    </tr>\n",
       "    <tr>\n",
       "      <th>931</th>\n",
       "      <td>DIY</td>\n",
       "      <td>135</td>\n",
       "    </tr>\n",
       "    <tr>\n",
       "      <th>3705</th>\n",
       "      <td>TumblrInAction</td>\n",
       "      <td>130</td>\n",
       "    </tr>\n",
       "    <tr>\n",
       "      <th>3760</th>\n",
       "      <td>Unexpected</td>\n",
       "      <td>127</td>\n",
       "    </tr>\n",
       "    <tr>\n",
       "      <th>6713</th>\n",
       "      <td>reactiongifs</td>\n",
       "      <td>127</td>\n",
       "    </tr>\n",
       "    <tr>\n",
       "      <th>3718</th>\n",
       "      <td>TwoXChromosomes</td>\n",
       "      <td>127</td>\n",
       "    </tr>\n",
       "    <tr>\n",
       "      <th>6140</th>\n",
       "      <td>mildlyinfuriating</td>\n",
       "      <td>122</td>\n",
       "    </tr>\n",
       "    <tr>\n",
       "      <th>1082</th>\n",
       "      <td>Documentaries</td>\n",
       "      <td>121</td>\n",
       "    </tr>\n",
       "  </tbody>\n",
       "</table>\n",
       "</div>"
      ],
      "text/plain": [
       "                       sub  user_count\n",
       "332              AskReddit         559\n",
       "6529                  pics         452\n",
       "5295                 funny         440\n",
       "7370         todayilearned         412\n",
       "7558                videos         389\n",
       "5393                  gifs         381\n",
       "5336                gaming         375\n",
       "7706             worldnews         363\n",
       "6294                  news         348\n",
       "6209                movies         321\n",
       "3220        Showerthoughts         316\n",
       "4246                   aww         315\n",
       "6141     mildlyinteresting         310\n",
       "3844                   WTF         310\n",
       "1755                  IAmA         282\n",
       "6575              politics         271\n",
       "131          AdviceAnimals         271\n",
       "7268            television         230\n",
       "6351           nottheonion         230\n",
       "6868               science         221\n",
       "5105     explainlikeimfive         221\n",
       "2387                 Music         213\n",
       "2099           LifeProTips         212\n",
       "7253            technology         210\n",
       "3577            The_Donald         198\n",
       "1949                 Jokes         192\n",
       "2589         OldSchoolCool         189\n",
       "5734     interestingasfuck         188\n",
       "7346                  tifu         181\n",
       "6496          pcmasterrace         180\n",
       "7074                 space         165\n",
       "511     BlackPeopleTwitter         164\n",
       "4784                creepy         160\n",
       "4868       dataisbeautiful         160\n",
       "5222                  food         159\n",
       "1432            Futurology         154\n",
       "7092                sports         152\n",
       "4458                 books         150\n",
       "6523      photoshopbattles         146\n",
       "7694              woahdude         144\n",
       "4211               atheism         141\n",
       "1792  ImGoingToHellForThis         137\n",
       "3776         UpliftingNews         136\n",
       "931                    DIY         135\n",
       "3705        TumblrInAction         130\n",
       "3760            Unexpected         127\n",
       "6713          reactiongifs         127\n",
       "3718       TwoXChromosomes         127\n",
       "6140     mildlyinfuriating         122\n",
       "1082         Documentaries         121"
      ]
     },
     "execution_count": 6,
     "metadata": {},
     "output_type": "execute_result"
    }
   ],
   "source": [
    "sub_users = df.groupby(['subreddit'])['user'].nunique()\n",
    "data_tuple = pd.DataFrame([(sub,count) for sub,count in sub_users.items()],columns=[\"sub\",\"user_count\"])\n",
    "sorted_df = data_tuple.sort_values(by='user_count',ascending=False)\n",
    "sorted_df.head(50)"
   ]
  },
  {
   "cell_type": "markdown",
   "metadata": {},
   "source": [
    "<h2>Network Data</h2>"
   ]
  },
  {
   "cell_type": "code",
   "execution_count": 32,
   "metadata": {
    "collapsed": false
   },
   "outputs": [],
   "source": [
    "f = {'subreddit':['count'], 'utc_stamp':[np.min,np.max],'submission': 'sum','rnd_words': 'sum'}\n",
    "grouped = df.groupby(['user','subreddit']).agg(f)"
   ]
  },
  {
   "cell_type": "code",
   "execution_count": 34,
   "metadata": {
    "collapsed": false
   },
   "outputs": [
    {
     "data": {
      "text/plain": [
       "Index(['AskReddit', 'Awwducational', 'Bestbuy', 'CasualConversation',\n",
       "       'Defenders', 'DivinityOriginalSin', 'Futurology', 'GeekSquad',\n",
       "       'GoogleCardboard', 'Jokes', 'KHX', 'KingdomHearts',\n",
       "       'MakeNewFriendsHere', 'NanatsunoTaizai', 'OnePiece', 'Overwatch',\n",
       "       'PhotoshopRequest', 'Rabbits', 'Rainmeter', 'SpiderGwen',\n",
       "       'TalesFromRetail', 'VirginiaBeach', 'atheism', 'comics', 'cosplay',\n",
       "       'funny', 'gifs', 'h1z1', 'jailbreak', 'manga', 'manhwa',\n",
       "       'mildlyinfuriating', 'natureismetal', 'nonononoyes', 'pcmasterrace',\n",
       "       'pokemon', 'smashup', 'talesfromtechsupport', 'techsupportgore',\n",
       "       'whowouldwin'],\n",
       "      dtype='object', name='subreddit')"
      ]
     },
     "execution_count": 34,
     "metadata": {},
     "output_type": "execute_result"
    }
   ],
   "source": [
    "grouped['subreddit']['count'][usr[0]].keys()"
   ]
  },
  {
   "cell_type": "code",
   "execution_count": 65,
   "metadata": {
    "collapsed": false
   },
   "outputs": [
    {
     "data": {
      "text/plain": [
       "734"
      ]
     },
     "execution_count": 65,
     "metadata": {},
     "output_type": "execute_result"
    }
   ],
   "source": [
    "users = df.groupby('user')['user'].all()\n",
    "len(users)"
   ]
  },
  {
   "cell_type": "code",
   "execution_count": 68,
   "metadata": {
    "collapsed": false
   },
   "outputs": [
    {
     "name": "stdout",
     "output_type": "stream",
     "text": [
      "0.0 % complete\n",
      "6.81 % complete\n",
      "13.62 % complete\n",
      "20.44 % complete\n",
      "27.25 % complete\n",
      "34.06 % complete\n",
      "40.87 % complete\n",
      "47.68 % complete\n",
      "54.5 % complete\n",
      "61.31 % complete\n",
      "68.12 % complete\n",
      "74.93 % complete\n",
      "81.74 % complete\n",
      "88.56 % complete\n",
      "95.37 % complete\n"
     ]
    }
   ],
   "source": [
    "G = nx.Graph()\n",
    "user_count = len(df.groupby('user')['user'].nunique())\n",
    "loop_count = 0\n",
    "for usr in users:\n",
    "    if loop_count % 50 == 0:\n",
    "        print (str(round(loop_count/user_count*100,2)) + \" % complete\")\n",
    "    loop_count = loop_count + 1\n",
    "    for i,i_sub in enumerate(grouped['subreddit']['count'][usr].keys()):\n",
    "        for j,j_sub in enumerate(grouped['subreddit']['count'][usr].keys()):\n",
    "            if j > i:\n",
    "                if G.has_edge(i_sub,j_sub) == False:\n",
    "                    G.add_edge(i_sub,j_sub,{'weight':1})\n",
    "                else:\n",
    "                    G[i_sub][j_sub]['weight'] = G[i_sub][j_sub]['weight'] + 1"
   ]
  },
  {
   "cell_type": "code",
   "execution_count": 71,
   "metadata": {
    "collapsed": false
   },
   "outputs": [
    {
     "data": {
      "text/plain": [
       "'Photoshop_WTF'"
      ]
     },
     "execution_count": 71,
     "metadata": {},
     "output_type": "execute_result"
    }
   ],
   "source": [
    "G.nodes()[0]"
   ]
  }
 ],
 "metadata": {
  "kernelspec": {
   "display_name": "Python 3",
   "language": "python",
   "name": "python3"
  },
  "language_info": {
   "codemirror_mode": {
    "name": "ipython",
    "version": 3
   },
   "file_extension": ".py",
   "mimetype": "text/x-python",
   "name": "python",
   "nbconvert_exporter": "python",
   "pygments_lexer": "ipython3",
   "version": "3.5.0"
  }
 },
 "nbformat": 4,
 "nbformat_minor": 0
}
