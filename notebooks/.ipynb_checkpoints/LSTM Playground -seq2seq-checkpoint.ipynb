{
 "cells": [
  {
   "cell_type": "code",
   "execution_count": 29,
   "metadata": {
    "collapsed": true
   },
   "outputs": [],
   "source": [
    "import pandas as pd\n",
    "import numpy as np\n",
    "import tensorflow as tf\n",
    "import json\n",
    "import random"
   ]
  },
  {
   "cell_type": "code",
   "execution_count": 4,
   "metadata": {
    "collapsed": false
   },
   "outputs": [],
   "source": [
    "with open('../SubRecommender/data/train_reddit_data.json','r') as data_file:    \n",
    "    reddit_data = json.load(data_file)"
   ]
  },
  {
   "cell_type": "code",
   "execution_count": 30,
   "metadata": {
    "collapsed": true
   },
   "outputs": [],
   "source": [
    "def chunks(l, n):\n",
    "    n = max(1, n)\n",
    "    return (l[i:i+n] for i in range(0, len(l), n))"
   ]
  },
  {
   "cell_type": "code",
   "execution_count": 60,
   "metadata": {
    "collapsed": false
   },
   "outputs": [],
   "source": [
    "df = pd.DataFrame(reddit_data,columns=['user','subreddit','utc_stamp'])\n",
    "df['utc_stamp'] = pd.to_datetime(df['utc_stamp'],unit='s')\n",
    "df.sort_values(by=['user','utc_stamp'], ascending=True, inplace=True)\n",
    "users = list(df.groupby('user')['user'].nunique().keys())\n",
    "sub_list = list(df.groupby('subreddit')['subreddit'].nunique().keys())\n",
    "training_sequences = []\n",
    "training_labels = []\n",
    "seq_lengths = []\n",
    "for usr in users:\n",
    "    user_comment_subs = list(df.loc[df['user'] == usr]['subreddit'].values)\n",
    "    comment_chunks = chunks(user_comment_subs,25)\n",
    "    for chnk in comment_chunks:\n",
    "        label = sub_list.index(random.choice(chnk))\n",
    "        training_labels.append(label)\n",
    "        chnk_seq = [sub_list.index(sub) for sub in chnk if sub_list.index(sub) != label]\n",
    "        training_sequences.append(chnk_seq)  \n",
    "        seq_lengths.append(len(chnk_seq))"
   ]
  },
  {
   "cell_type": "code",
   "execution_count": 54,
   "metadata": {
    "collapsed": false
   },
   "outputs": [
    {
     "name": "stdout",
     "output_type": "stream",
     "text": [
      "training_seq = ['techsupport', 'indie', 'funny', 'gameideas', 'pcmasterrace', 'skateboarding', 'skateboarding', 'skateboarding', 'skateboarding', 'CodAW', 'gaming', 'GrandTheftAutoV', 'trees', 'gaming', 'skateboarding', 'pcmasterrace', 'pcmasterrace', 'pcmasterrace', 'pcmasterrace', 'pcmasterrace', 'pcmasterrace', 'whatisthisthing', 'longboarding', 'pcmasterrace']\n",
      "training_label = pics\n"
     ]
    }
   ],
   "source": [
    "print('training_seq = ' + str(training_sequences[10]))\n",
    "print('training_label = ' + training_labels[10])"
   ]
  },
  {
   "cell_type": "code",
   "execution_count": 61,
   "metadata": {
    "collapsed": false
   },
   "outputs": [
    {
     "data": {
      "text/html": [
       "<div>\n",
       "<table border=\"1\" class=\"dataframe\">\n",
       "  <thead>\n",
       "    <tr style=\"text-align: right;\">\n",
       "      <th></th>\n",
       "      <th>seq_length</th>\n",
       "      <th>sub_label</th>\n",
       "      <th>sub_seqs</th>\n",
       "    </tr>\n",
       "  </thead>\n",
       "  <tbody>\n",
       "    <tr>\n",
       "      <th>0</th>\n",
       "      <td>21</td>\n",
       "      <td>1623</td>\n",
       "      <td>[1298, 1297, 1298, 1298, 1298, 1298, 1298, 129...</td>\n",
       "    </tr>\n",
       "    <tr>\n",
       "      <th>1</th>\n",
       "      <td>6</td>\n",
       "      <td>4164</td>\n",
       "      <td>[3465, 4267, 1908, 2959, 1623, 1623]</td>\n",
       "    </tr>\n",
       "    <tr>\n",
       "      <th>2</th>\n",
       "      <td>3</td>\n",
       "      <td>4164</td>\n",
       "      <td>[1908, 3803, 3803]</td>\n",
       "    </tr>\n",
       "    <tr>\n",
       "      <th>3</th>\n",
       "      <td>10</td>\n",
       "      <td>4164</td>\n",
       "      <td>[263, 263, 184, 184, 184, 852, 852, 1374, 1298...</td>\n",
       "    </tr>\n",
       "    <tr>\n",
       "      <th>4</th>\n",
       "      <td>3</td>\n",
       "      <td>4078</td>\n",
       "      <td>[4164, 4164, 852]</td>\n",
       "    </tr>\n",
       "  </tbody>\n",
       "</table>\n",
       "</div>"
      ],
      "text/plain": [
       "   seq_length  sub_label                                           sub_seqs\n",
       "0          21       1623  [1298, 1297, 1298, 1298, 1298, 1298, 1298, 129...\n",
       "1           6       4164               [3465, 4267, 1908, 2959, 1623, 1623]\n",
       "2           3       4164                                 [1908, 3803, 3803]\n",
       "3          10       4164  [263, 263, 184, 184, 184, 852, 852, 1374, 1298...\n",
       "4           3       4078                                  [4164, 4164, 852]"
      ]
     },
     "execution_count": 61,
     "metadata": {},
     "output_type": "execute_result"
    }
   ],
   "source": [
    "train_df = pd.DataFrame({'sub_seqs':training_sequences,'sub_label':training_labels,'seq_length':seq_lengths})\n",
    "train_df.head()"
   ]
  },
  {
   "cell_type": "code",
   "execution_count": 73,
   "metadata": {
    "collapsed": false
   },
   "outputs": [],
   "source": [
    "train_len, test_len = np.floor(len(train_df)*0.8), np.floor(len(train_df)*0.2)\n",
    "train, test = train_df.ix[:train_len-1], train_df.ix[train_len:train_len + test_len]"
   ]
  },
  {
   "cell_type": "code",
   "execution_count": 62,
   "metadata": {
    "collapsed": true
   },
   "outputs": [],
   "source": [
    "class SimpleDataIterator():\n",
    "    def __init__(self, df):\n",
    "        self.df = df\n",
    "        self.size = len(self.df)\n",
    "        self.epochs = 0\n",
    "        self.shuffle()\n",
    "\n",
    "    def shuffle(self):\n",
    "        self.df = self.df.sample(frac=1).reset_index(drop=True)\n",
    "        self.cursor = 0\n",
    "\n",
    "    def next_batch(self, n):\n",
    "        if self.cursor+n-1 > self.size:\n",
    "            self.epochs += 1\n",
    "            self.shuffle()\n",
    "        res = self.df.ix[self.cursor:self.cursor+n-1]\n",
    "        self.cursor += n\n",
    "        return res['sub_seqs'], res['sub_label'], res['seq_length']"
   ]
  },
  {
   "cell_type": "code",
   "execution_count": 64,
   "metadata": {
    "collapsed": false
   },
   "outputs": [
    {
     "name": "stdout",
     "output_type": "stream",
     "text": [
      "Input sequences\n",
      " 0    [4183, 4183, 946, 1103, 3300, 3300, 946, 1103,...\n",
      "1    [3081, 969, 2605, 2605, 861, 969, 861, 3257, 1...\n",
      "2    [1927, 2283, 4004, 4200, 194, 1927, 2809, 194,...\n",
      "Name: sub_seqs, dtype: object\n",
      "\n",
      "Target values\n",
      " 0     755\n",
      "1    3041\n",
      "2    2566\n",
      "Name: sub_label, dtype: int64\n",
      "\n",
      "Sequence lengths\n",
      " 0    18\n",
      "1    12\n",
      "2    24\n",
      "Name: seq_length, dtype: int64\n"
     ]
    }
   ],
   "source": [
    "data = SimpleDataIterator(train_df)\n",
    "d = data.next_batch(3)\n",
    "print('Input sequences\\n', d[0], end='\\n\\n')\n",
    "print('Target values\\n', d[1], end='\\n\\n')\n",
    "print('Sequence lengths\\n', d[2])"
   ]
  },
  {
   "cell_type": "code",
   "execution_count": 65,
   "metadata": {
    "collapsed": true
   },
   "outputs": [],
   "source": [
    "class PaddedDataIterator(SimpleDataIterator):\n",
    "    def next_batch(self, n):\n",
    "        if self.cursor+n > self.size:\n",
    "            self.epochs += 1\n",
    "            self.shuffle()\n",
    "        res = self.df.ix[self.cursor:self.cursor+n-1]\n",
    "        self.cursor += n\n",
    "\n",
    "        # Pad sequences with 0s so they are all the same length\n",
    "        maxlen = max(res['seq_length'])\n",
    "        x = np.zeros([n, maxlen], dtype=np.int32)\n",
    "        for i, x_i in enumerate(x):\n",
    "            x_i[:res['seq_length'].values[i]] = res['sub_seqs'].values[i]\n",
    "\n",
    "        return x, res['sub_label'], res['seq_length']"
   ]
  },
  {
   "cell_type": "code",
   "execution_count": 66,
   "metadata": {
    "collapsed": false
   },
   "outputs": [
    {
     "name": "stdout",
     "output_type": "stream",
     "text": [
      "Input sequences\n",
      " [[1794 3990 1794 1794 3990 4428 4428 3990 4428  296 1777 1777 3542 4428\n",
      "  1794 3990 3990 3990 3990 3990 3990 3990 2920]\n",
      " [2989 2070 3366  606 3415 2841 3102 4432 3102 4433 3661 4352 4352  833\n",
      "  3665 2582 2582 2582 1777 2841 2271 2841   12]\n",
      " [1960 1960 1960 4218 4218 1960 2320 2320 4067 1777 1777 4067 2320 1777\n",
      "  1960    0    0    0    0    0    0    0    0]]\n",
      "\n"
     ]
    }
   ],
   "source": [
    "data = PaddedDataIterator(train_df)\n",
    "d = data.next_batch(3)\n",
    "print('Input sequences\\n', d[0], end='\\n\\n')"
   ]
  },
  {
   "cell_type": "code",
   "execution_count": 68,
   "metadata": {
    "collapsed": true
   },
   "outputs": [],
   "source": [
    "vocab = sub_list"
   ]
  },
  {
   "cell_type": "code",
   "execution_count": 87,
   "metadata": {
    "collapsed": true
   },
   "outputs": [],
   "source": [
    "class BucketedDataIterator():\n",
    "    def __init__(self, df, num_buckets = 5):\n",
    "        df = df.sort_values('seq_length').reset_index(drop=True)\n",
    "        self.size = len(df) / num_buckets\n",
    "        self.dfs = []\n",
    "        for bucket in range(num_buckets):\n",
    "            self.dfs.append(df.ix[bucket*self.size: (bucket+1)*self.size - 1])\n",
    "        self.num_buckets = num_buckets\n",
    "\n",
    "        # cursor[i] will be the cursor for the ith bucket\n",
    "        self.cursor = np.array([0] * num_buckets)\n",
    "        self.shuffle()\n",
    "\n",
    "        self.epochs = 0\n",
    "\n",
    "    def shuffle(self):\n",
    "        #sorts dataframe by sequence length, but keeps it random within the same length\n",
    "        for i in range(self.num_buckets):\n",
    "            self.dfs[i] = self.dfs[i].sample(frac=1).reset_index(drop=True)\n",
    "            self.cursor[i] = 0\n",
    "\n",
    "    def next_batch(self, n):\n",
    "        if np.any(self.cursor+n+1 > self.size):\n",
    "            self.epochs += 1\n",
    "            self.shuffle()\n",
    "\n",
    "        i = np.random.randint(0,self.num_buckets)\n",
    "\n",
    "        res = self.dfs[i].ix[self.cursor[i]:self.cursor[i]+n-1]\n",
    "        self.cursor[i] += n\n",
    "\n",
    "        # Pad sequences with 0s so they are all the same length\n",
    "        maxlen = max(res['seq_length'])\n",
    "        x = np.zeros([n, maxlen], dtype=np.int32)\n",
    "        for i, x_i in enumerate(x):\n",
    "            x_i[:res['seq_length'].values[i]] = res['sub_label'].values[i]\n",
    "\n",
    "        return x, res['sub_label'], res['seq_length']"
   ]
  },
  {
   "cell_type": "code",
   "execution_count": 88,
   "metadata": {
    "collapsed": true
   },
   "outputs": [],
   "source": [
    "def reset_graph():\n",
    "    if 'sess' in globals() and sess:\n",
    "        sess.close()\n",
    "    tf.reset_default_graph()\n",
    "\n",
    "def build_graph(\n",
    "    vocab_size = len(vocab),\n",
    "    state_size = 64,\n",
    "    batch_size = 256,\n",
    "    num_classes = len(vocab)):\n",
    "\n",
    "    reset_graph()\n",
    "\n",
    "    # Placeholders\n",
    "    x = tf.placeholder(tf.int32, [batch_size, None]) # [batch_size, num_steps]\n",
    "    seqlen = tf.placeholder(tf.int32, [batch_size])\n",
    "    y = tf.placeholder(tf.int32, [batch_size])\n",
    "    keep_prob = tf.placeholder_with_default(1.0, [])\n",
    "\n",
    "    # Embedding layer\n",
    "    embeddings = tf.get_variable('embedding_matrix', [vocab_size, state_size])\n",
    "    rnn_inputs = tf.nn.embedding_lookup(embeddings, x)\n",
    "\n",
    "    # RNN\n",
    "    cell = tf.nn.rnn_cell.GRUCell(state_size)\n",
    "    init_state = tf.get_variable('init_state', [1, state_size],\n",
    "                                 initializer=tf.constant_initializer(0.0))\n",
    "    init_state = tf.tile(init_state, [batch_size, 1])\n",
    "    rnn_outputs, final_state = tf.nn.dynamic_rnn(cell, rnn_inputs, sequence_length=seqlen,\n",
    "                                                 initial_state=init_state)\n",
    "\n",
    "    # Add dropout, as the model otherwise quickly overfits\n",
    "    rnn_outputs = tf.nn.dropout(rnn_outputs, keep_prob)\n",
    "\n",
    "    \"\"\"\n",
    "    Obtain the last relevant output. The best approach in the future will be to use:\n",
    "\n",
    "        last_rnn_output = tf.gather_nd(rnn_outputs, tf.pack([tf.range(batch_size), seqlen-1], axis=1))\n",
    "\n",
    "    which is the Tensorflow equivalent of numpy's rnn_outputs[range(30), seqlen-1, :], but the\n",
    "    gradient for this op has not been implemented as of this writing.\n",
    "\n",
    "    The below solution works, but throws a UserWarning re: the gradient.\n",
    "    \"\"\"\n",
    "    idx = tf.range(batch_size)*tf.shape(rnn_outputs)[1] + (seqlen - 1)\n",
    "    last_rnn_output = tf.gather(tf.reshape(rnn_outputs, [-1, state_size]), idx)\n",
    "\n",
    "    # Softmax layer\n",
    "    with tf.variable_scope('softmax'):\n",
    "        W = tf.get_variable('W', [state_size, num_classes])\n",
    "        b = tf.get_variable('b', [num_classes], initializer=tf.constant_initializer(0.0))\n",
    "    logits = tf.matmul(last_rnn_output, W) + b\n",
    "    preds = tf.nn.softmax(logits)\n",
    "    correct = tf.equal(tf.cast(tf.argmax(preds,1),tf.int32), y)\n",
    "    accuracy = tf.reduce_mean(tf.cast(correct, tf.float32))\n",
    "\n",
    "    loss = tf.reduce_mean(tf.nn.sparse_softmax_cross_entropy_with_logits(logits, y))\n",
    "    train_step = tf.train.AdamOptimizer(1e-4).minimize(loss)\n",
    "\n",
    "    return {\n",
    "        'x': x,\n",
    "        'seqlen': seqlen,\n",
    "        'y': y,\n",
    "        'dropout': keep_prob,\n",
    "        'loss': loss,\n",
    "        'ts': train_step,\n",
    "        'preds': preds,\n",
    "        'accuracy': accuracy\n",
    "    }\n",
    "\n",
    "def train_graph(graph, batch_size = 256, num_epochs = 10, iterator = PaddedDataIterator,save=False):\n",
    "    with tf.Session() as sess:\n",
    "        sess.run(tf.global_variables_initializer())\n",
    "        tr = iterator(train)\n",
    "        te = iterator(test)\n",
    "\n",
    "        step, accuracy = 0, 0\n",
    "        tr_losses, te_losses = [], []\n",
    "        current_epoch = 0\n",
    "        while current_epoch < num_epochs:\n",
    "            step += 1\n",
    "            batch = tr.next_batch(batch_size)\n",
    "            feed = {g['x']: batch[0], g['y']: batch[1], g['seqlen']: batch[2], g['dropout']: 0.6}\n",
    "            accuracy_, _ = sess.run([g['accuracy'], g['ts']], feed_dict=feed)\n",
    "            accuracy += accuracy_\n",
    "\n",
    "            if tr.epochs > current_epoch:\n",
    "                current_epoch += 1\n",
    "                tr_losses.append(accuracy / step)\n",
    "                step, accuracy = 0, 0\n",
    "\n",
    "                #eval test set\n",
    "                te_epoch = te.epochs\n",
    "                while te.epochs == te_epoch:\n",
    "                    step += 1\n",
    "                    batch = te.next_batch(batch_size)\n",
    "                    feed = {g['x']: batch[0], g['y']: batch[1], g['seqlen']: batch[2]}\n",
    "                    accuracy_ = sess.run([g['accuracy']], feed_dict=feed)[0]\n",
    "                    accuracy += accuracy_\n",
    "\n",
    "                te_losses.append(accuracy / step)\n",
    "                step, accuracy = 0,0\n",
    "                print(\"Accuracy after epoch\", current_epoch, \" - tr:\", tr_losses[-1], \"- te:\", te_losses[-1])\n",
    "                \n",
    "        if isinstance(save, str):\n",
    "            g['saver'].save(sess, save)\n",
    "\n",
    "    return tr_losses, te_losses\n",
    "\n",
    "def recommend_subs(g, checkpoint, pred_data,iterator):\n",
    "    te = iterator(pred_data)\n",
    "    with tf.Session() as sess:\n",
    "        sess.run(tf.global_variables_initializer())\n",
    "        g['saver'].restore(sess, checkpoint)\n",
    "        feed = {g['x']: pred_data}\n",
    "        preds = sess.run([g['preds']], feed_dict=feed)\n",
    "    return preds"
   ]
  },
  {
   "cell_type": "code",
   "execution_count": 91,
   "metadata": {
    "collapsed": false
   },
   "outputs": [
    {
     "name": "stderr",
     "output_type": "stream",
     "text": [
      "c:\\python35\\lib\\site-packages\\tensorflow\\python\\ops\\gradients_impl.py:91: UserWarning: Converting sparse IndexedSlices to a dense Tensor of unknown shape. This may consume a large amount of memory.\n",
      "  \"Converting sparse IndexedSlices to a dense Tensor of unknown shape. \"\n"
     ]
    },
    {
     "name": "stdout",
     "output_type": "stream",
     "text": [
      "Accuracy after epoch 1  - tr: 0.00572916666667 - te: 0.01171875\n",
      "Accuracy after epoch 2  - tr: 0.046875 - te: 0.0859375\n",
      "Accuracy after epoch 3  - tr: 0.078125 - te: 0.19140625\n",
      "Accuracy after epoch 4  - tr: 0.17138671875 - te: 0.2734375\n",
      "Accuracy after epoch 5  - tr: 0.157986111111 - te: 0.33984375\n",
      "Accuracy after epoch 6  - tr: 0.243489583333 - te: 0.328125\n",
      "Accuracy after epoch 7  - tr: 0.286892361111 - te: 0.36328125\n",
      "Accuracy after epoch 8  - tr: 0.287388392857 - te: 0.375\n",
      "Accuracy after epoch 9  - tr: 0.29833984375 - te: 0.28515625\n",
      "Accuracy after epoch 10  - tr: 0.2359375 - te: 0.33203125\n"
     ]
    }
   ],
   "source": [
    "g = build_graph()\n",
    "tr_losses, te_losses = train_graph(g,num_epochs=10,iterator=BucketedDataIterator)"
   ]
  },
  {
   "cell_type": "code",
   "execution_count": null,
   "metadata": {
    "collapsed": true
   },
   "outputs": [],
   "source": []
  },
  {
   "cell_type": "code",
   "execution_count": null,
   "metadata": {
    "collapsed": true
   },
   "outputs": [],
   "source": [
    "g = build_seq2seq_graph()\n",
    "tr_losses, te_losses = train_graph(g, iterator=BucketedDataIterator)"
   ]
  }
 ],
 "metadata": {
  "kernelspec": {
   "display_name": "Python 3",
   "language": "python",
   "name": "python3"
  },
  "language_info": {
   "codemirror_mode": {
    "name": "ipython",
    "version": 3
   },
   "file_extension": ".py",
   "mimetype": "text/x-python",
   "name": "python",
   "nbconvert_exporter": "python",
   "pygments_lexer": "ipython3",
   "version": "3.5.2"
  }
 },
 "nbformat": 4,
 "nbformat_minor": 2
}
