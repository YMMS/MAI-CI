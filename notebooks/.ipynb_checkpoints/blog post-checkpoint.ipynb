{
 "cells": [
  {
   "cell_type": "markdown",
   "metadata": {},
   "source": [
    "<h2>Introduction</h2>\n",
    "As part of a project course in my second semester, we were tasked with building a system of our chosing that encorporated or showcased any of the Computational Intelligence techniques we learned about in class. For our project, we decided to investigate the application of Recurrent Nueral Networks to the task of building a Subreddit recommender system for Reddit users. In this post, I outline some of the implementation details of the final system. A minimal webapp for the final model can be interacted with [here.](http://ponderinghydrogen.pythonanywhere.com/) The final research paper for the project can be found [here.](http://cole-maclean.github.io/blog/files/subreddit-recommender.pdf) My collaboraters on the project are Barbara Garza and Suren Oganesian.\n",
    "\n",
    "<h3>Model Hypothesis</h3>\n",
    "\n",
    "The goal of the project is to utilize the sequence prediction power of RNN's to predict possibly interesting subreddits to a user based on their comment histroy. The hypothesis of the recommender model is, given an ordered sequence of user subreddit interactions, patterns will emerge that favour the discovery of paticular new subreddits given that historical user interaction sequence. The intuition is, that as users interact with the Reddit ecosystem, they discover new subreddits of interest, but these new discoveries are influenced by the communities they have previously been interacting with. We can then train a model to recognize these emergent subreddit discoveries based on users historical subreddit discovery patterns. When the model is presented with a new sequence of user interaction, it \"remembers\" other users that historically had similiar interaction habits and recommend their subreddits that the current user has yet to discover.  \n",
    " \n",
    "This sequential view of user interaction/subreddit discovery is similiar in structure to other problems being solved with the use of Recurrent Neural Networks, such as [Character Level Language Modelling](http://karpathy.github.io/2015/05/21/rnn-effectiveness/) and [Automatic Authorship Detection](http://r2rt.com/recurrent-neural-networks-in-tensorflow-iii-variable-length-sequences.html). Due to the successes of these similiarly structured problems, we have decided to explore RNN models for the subbreddit Recommendator System.\n",
    "\n",
    "<h3>The Data</h3>\n",
    "The secret sauce in any machine learning system, we need data. Reddit provides a convenient API for scrapping its public facing data, and the python package [PRAW](https://praw.readthedocs.io/en/latest/) is a popular and well documented wrapper that we used in this project. With the aim of developing sequences of user subreddit interactions, all we need for our raw data is a list of 3-tuples in the form [username,subreddit,utc timestamp]. The following script provides a helper function to collect and store random user comment data from Reddit's streaming 'all' comments. Note that PRAW authentication config data needs to be stored in a file named 'secret.ini' with:  \n",
    "[reddit]  \n",
    "api_key: key  \n",
    "client_id: id  \n",
    "client_api_key: client key  \n",
    "redirect_url: redir url  \n",
    "user_agent: subreddit-recommender by /u/upcmaici v 0.0.1  "
   ]
  },
  {
   "cell_type": "code",
   "execution_count": 5,
   "metadata": {
    "collapsed": true
   },
   "outputs": [],
   "source": [
    "import praw\n",
    "import configparser\n",
    "import random\n",
    "import pandas as pd\n",
    "import numpy as np\n",
    "import sys\n",
    "\n",
    "#Import configuration parameters, user agent for PRAW Reddit object\n",
    "config = configparser.ConfigParser()\n",
    "config.read('secrets.ini')\n",
    "\n",
    "#load user agent string\n",
    "reddit_user_agent = config.get('reddit', 'user_agent')\n",
    "client_id = config.get('reddit', 'client_id')\n",
    "client_secret = config.get('reddit', 'client_api_key')\n",
    "\n",
    "#main data scrapping script\n",
    "def scrape_data(n_scrape_loops = 10):\n",
    "\n",
    "    \"\"\"This is the main function that runs the scrapping functionality through praw. The random_submission method \n",
    "    is called n_submissions times to obtain n random submissions. After receiving a random submission, the .comments\n",
    "    method on the submission object is used to get the comments in the submission. The minimum number of comments for\n",
    "    all the comments in the submission or max_sub_comments are randomly selected, and the author of each comment is\n",
    "    obtained. The comment history of each randomly selected comment author is parsed, and comment, submission and\n",
    "    subreddit data are collected and stored.\n",
    "\n",
    "    parameters:\n",
    "\n",
    "    n_submissions - the number of random submissions to select in finding random comments and comment authors\n",
    "    to parse their comment history from\n",
    "\n",
    "    max_sub_comments - the maximum number of comments to randomly select from a random submission for author\n",
    "    search and comment history parsing\n",
    "\n",
    "    \"\"\"\n",
    "    reddit_data = []\n",
    "    #initialize the praw Reddit object\n",
    "    r = praw.Reddit(user_agent=reddit_user_agent,client_id = client_id,client_secret=client_secret) \n",
    "    for scrape_loop in range(n_scrape_loops):\n",
    "        try:\n",
    "            all_comments = r.get_comments('all')\n",
    "            print (\"Scrape Loop \" + str(scrape_loop))\n",
    "            for cmt in all_comments:\n",
    "                user = cmt.author        \n",
    "                if user:\n",
    "                    for user_comment in user.get_comments(limit=None):\n",
    "                        reddit_data.append([user.name,user_comment.subreddit.display_name,\n",
    "                                      user_comment.created_utc])\n",
    "        except Exception as e:\n",
    "            print(e)\n",
    "    return reddit_data"
   ]
  },
  {
   "cell_type": "code",
   "execution_count": 6,
   "metadata": {
    "collapsed": false
   },
   "outputs": [
    {
     "name": "stdout",
     "output_type": "stream",
     "text": [
      "Scrape Loop 0\n",
      "Scrape Loop 1\n",
      "Scrape Loop 2\n",
      "Scrape Loop 3\n",
      "Scrape Loop 4\n",
      "Scrape Loop 5\n",
      "Scrape Loop 6\n",
      "Scrape Loop 7\n",
      "Scrape Loop 8\n",
      "Scrape Loop 9\n"
     ]
    }
   ],
   "source": [
    "raw_data = scrape_data(10)"
   ]
  },
  {
   "cell_type": "code",
   "execution_count": 9,
   "metadata": {
    "collapsed": false
   },
   "outputs": [
    {
     "name": "stdout",
     "output_type": "stream",
     "text": [
      "Collected 164620 comments\n"
     ]
    },
    {
     "data": {
      "text/plain": [
       "[['razerfreak12', 'Jokes', 1486672230.0],\n",
       " ['razerfreak12', 'Sat', 1485102559.0],\n",
       " ['razerfreak12', 'Sat', 1485030783.0],\n",
       " ['razerfreak12', 'Sat', 1485020033.0],\n",
       " ['razerfreak12', 'Sat', 1485019996.0],\n",
       " ['razerfreak12', 'Sat', 1485015274.0],\n",
       " ['razerfreak12', 'Cricket', 1484840002.0],\n",
       " ['razerfreak12', 'Cricket', 1484834126.0],\n",
       " ['razerfreak12', 'Sat', 1482449779.0],\n",
       " ['razerfreak12', 'Sat', 1480814096.0]]"
      ]
     },
     "execution_count": 9,
     "metadata": {},
     "output_type": "execute_result"
    }
   ],
   "source": [
    "print(\"Collected \" + str(len(raw_data)) + \" comments\")\n",
    "raw_data[0:10]"
   ]
  },
  {
   "cell_type": "markdown",
   "metadata": {},
   "source": [
    "<h2>Data Munging</h2>\n",
    "We need to parse the raw data into a structure consumpable by a supervised learning algorithm like RNN's. First we build a model vocabulary and ditribution of subreddit popularity from the collect raw data. We use this to build the training dataset, the subreddit interaction sequence for each user, ordered and then split into chunks representing different periods of Reddit interaction and discovery. From each chunk, we can randomly remove a single subreddit from the interaction as the \"discovered\" subreddit and use it as our training label for the interaction sequences. This formulation brings with it a hyperparameter that will require tuning, namely the sequence size of each chunk of user interaction periods. The proposed model utilizes the distribution of subreddits existing in the dataset to weight the random selection of a subreddit as the sequence label, which gives a higher probability of selection to rarer subreddits. This will smoothen the distribution of training labels across the models vocabulary of subreddits in the dataset. Also, each users interaction sequence has been compressed to only represent the sequence of non-repeating subreddits, to eliminate the repeatative structure of users constantly commenting in a single subreddit, while providing information of the users habits in the reddit ecosystem more generally, allowing the model to distinguish broader patterns from the compressed sequences."
   ]
  },
  {
   "cell_type": "code",
   "execution_count": 10,
   "metadata": {
    "collapsed": true
   },
   "outputs": [],
   "source": [
    "def chunks(l, n):\n",
    "    n = max(1, n)\n",
    "    return (l[i:i+n] for i in range(0, len(l), n))\n",
    "\n",
    "def normalize(lst):\n",
    "    s = sum(lst)\n",
    "    normed = [itm/s for itm in lst]\n",
    "    normed[-1] = (normed[-1] + (1-sum(normed)))#pad last value with what ever difference neeeded to make sum to exactly 1\n",
    "    return normed"
   ]
  },
  {
   "cell_type": "code",
   "execution_count": 23,
   "metadata": {
    "collapsed": false
   },
   "outputs": [
    {
     "name": "stdout",
     "output_type": "stream",
     "text": [
      "Vocab size = 3622\n"
     ]
    }
   ],
   "source": [
    "\"\"\"This routine develops the models vocabulary and vocab_probs is also built, representing the inverse probability \n",
    "of encounting a paticular subreddit in the given dataset, which is then used to bias the selection of rarer\n",
    "subreddits as labels to \n",
    "smooth the distribution of training labels across all subreddits in the vocabulary\"\"\"\n",
    "\n",
    "df = pd.DataFrame(raw_data,columns=['user','subreddit','utc_stamp'])\n",
    "train_data = None#free up train_data memory\n",
    "vocab_counts = df[\"subreddit\"].value_counts()\n",
    "tmp_vocab = list(vocab_counts.keys())\n",
    "total_counts = sum(vocab_counts.values)\n",
    "inv_prob = [total_counts/vocab_counts[sub] for sub in tmp_vocab]\n",
    "vocab = [\"Unseen-Sub\"] + tmp_vocab #build place holder, Unseen-Sub, for all subs not in vocab\n",
    "tmp_vocab_probs = normalize(inv_prob)\n",
    "#force probs sum to 1 by adding differenc to \"Unseen-sub\" probability\n",
    "vocab_probs = [1-sum(tmp_vocab_probs)] + tmp_vocab_probs\n",
    "print(\"Vocab size = \" + str(len(vocab)))"
   ]
  },
  {
   "cell_type": "code",
   "execution_count": 27,
   "metadata": {
    "collapsed": true
   },
   "outputs": [],
   "source": [
    "sequence_chunk_size = 15\n",
    "def remove_repeating_subs(raw_data):\n",
    "    cache_data = {}\n",
    "    prev_usr = None\n",
    "    past_sub = None\n",
    "    for comment_data in raw_data:\n",
    "        current_usr = comment_data[0]\n",
    "        if current_usr != prev_usr:#New user found in sorted comment data, begin sequence extraction for new user\n",
    "            if prev_usr != None and prev_usr not in cache_data.keys():#dump sequences to cache for previous user if not in cache\n",
    "                cache_data[prev_usr] = usr_sub_seq\n",
    "            usr_sub_seq = [comment_data[1]] #initialize user sub sequence list with first sub for current user\n",
    "            past_sub = comment_data[1]\n",
    "        else:#if still iterating through the same user, add new sub to sequence if not a repeat\n",
    "            if comment_data[1] != past_sub:#Check that next sub comment is not a repeat of the last interacted with sub,\n",
    "                                            #filtering out repeated interactions\n",
    "                usr_sub_seq.append(comment_data[1])\n",
    "                past_sub = comment_data[1]\n",
    "        prev_usr = current_usr #update previous user to being the current one before looping to next comment\n",
    "    return cache_data\n",
    "\n",
    "def build_training_sequences(usr_data):\n",
    "    train_seqs = []\n",
    "    #split user sub sequences into provided chunks of size sequence_chunk_size\n",
    "    for usr,usr_sub_seq in usr_data.items():\n",
    "        comment_chunks = chunks(usr_sub_seq,sequence_chunk_size)\n",
    "        for chnk in comment_chunks:\n",
    "            #for each chunk, filter out potential labels to select as training label, filter by the top subs filter list\n",
    "            filtered_subs = [vocab.index(sub) for sub in chnk]\n",
    "            if filtered_subs:\n",
    "                #randomly select the label from filtered subs, using the vocab probability distribution to smooth out\n",
    "                #representation of subreddit labels\n",
    "                filter_probs = normalize([vocab_probs[sub_indx] for sub_indx in filtered_subs])\n",
    "                label = np.random.choice(filtered_subs,1,p=filter_probs)[0]\n",
    "                #build sequence by ensuring users sub exists in models vocabulary and filtering out the selected\n",
    "                #label for this subreddit sequence\n",
    "                chnk_seq = [vocab.index(sub) for sub in chnk if sub in vocab and vocab.index(sub) != label] \n",
    "                train_seqs.append([chnk_seq,label,len(chnk_seq)]) \n",
    "    return train_seqs"
   ]
  },
  {
   "cell_type": "code",
   "execution_count": 36,
   "metadata": {
    "collapsed": false
   },
   "outputs": [
    {
     "data": {
      "text/html": [
       "<div>\n",
       "<table border=\"1\" class=\"dataframe\">\n",
       "  <thead>\n",
       "    <tr style=\"text-align: right;\">\n",
       "      <th></th>\n",
       "      <th>seq_length</th>\n",
       "      <th>sub_label</th>\n",
       "      <th>sub_seqs</th>\n",
       "    </tr>\n",
       "  </thead>\n",
       "  <tbody>\n",
       "    <tr>\n",
       "      <th>0</th>\n",
       "      <td>10</td>\n",
       "      <td>228</td>\n",
       "      <td>[194, 121, 872, 1, 515, 1804, 121, 1, 173, 1804]</td>\n",
       "    </tr>\n",
       "    <tr>\n",
       "      <th>1</th>\n",
       "      <td>13</td>\n",
       "      <td>2432</td>\n",
       "      <td>[228, 121, 515, 228, 1, 228, 173, 228, 515, 1,...</td>\n",
       "    </tr>\n",
       "    <tr>\n",
       "      <th>2</th>\n",
       "      <td>12</td>\n",
       "      <td>515</td>\n",
       "      <td>[228, 121, 1, 228, 1, 228, 228, 121, 228, 121,...</td>\n",
       "    </tr>\n",
       "    <tr>\n",
       "      <th>3</th>\n",
       "      <td>13</td>\n",
       "      <td>194</td>\n",
       "      <td>[228, 515, 611, 1, 228, 229, 1306, 1, 228, 1, ...</td>\n",
       "    </tr>\n",
       "    <tr>\n",
       "      <th>4</th>\n",
       "      <td>12</td>\n",
       "      <td>726</td>\n",
       "      <td>[1, 228, 228, 611, 228, 515, 228, 666, 611, 66...</td>\n",
       "    </tr>\n",
       "  </tbody>\n",
       "</table>\n",
       "</div>"
      ],
      "text/plain": [
       "   seq_length  sub_label                                           sub_seqs\n",
       "0          10        228   [194, 121, 872, 1, 515, 1804, 121, 1, 173, 1804]\n",
       "1          13       2432  [228, 121, 515, 228, 1, 228, 173, 228, 515, 1,...\n",
       "2          12        515  [228, 121, 1, 228, 1, 228, 228, 121, 228, 121,...\n",
       "3          13        194  [228, 515, 611, 1, 228, 229, 1306, 1, 228, 1, ...\n",
       "4          12        726  [1, 228, 228, 611, 228, 515, 228, 666, 611, 66..."
      ]
     },
     "execution_count": 36,
     "metadata": {},
     "output_type": "execute_result"
    }
   ],
   "source": [
    "pp_user_data = remove_repeating_subs(raw_data)\n",
    "train_data = build_training_sequences(pp_user_data)\n",
    "seqs,lbls,lngths = zip(*train_data)\n",
    "train_df = pd.DataFrame({'sub_seqs':seqs,\n",
    "                         'sub_label':lbls,\n",
    "                         'seq_length':lngths})\n",
    "train_df.head()"
   ]
  },
  {
   "cell_type": "markdown",
   "metadata": {},
   "source": [
    "<h3>Tensorflow Model Architecture</h3>\n",
    "\n",
    "Originally, we built the model directly on-top of tensorflow, using the fantastic tutorials from [R2RT](http://r2rt.com/) as reference. However, building and managing various nueral network architectures with Tensorflow can be cumbersome, and higher level wrapper packages exist to abstract away some of the more tedious variable and graph definition steps required for tensorflow models. We chose the [tflearn](http://tflearn.org/) python package, which has an API similiar to sklearn, which the team had more experience with. With tflearn, it's rather easy to plug and play with different layers, and we experimented with LSTM, GRU and multi-layered Bi-Directional RNN architectures."
   ]
  },
  {
   "cell_type": "code",
   "execution_count": 39,
   "metadata": {
    "collapsed": false
   },
   "outputs": [],
   "source": [
    "import tensorflow as tf\n",
    "import tflearn\n",
    "from tflearn.data_utils import to_categorical, pad_sequences\n",
    "import numpy as np\n",
    "\n",
    "def train_model(train,test,vocab_size):\n",
    "\n",
    "    trainX = train['sub_seqs']\n",
    "    trainY = train['sub_label']\n",
    "    testX =  test['sub_seqs']\n",
    "    testY =  test['sub_label']\n",
    "\n",
    "    # Sequence padding\n",
    "    trainX = pad_sequences(trainX, maxlen=sequence_chunk_size, value=0.,padding='post')\n",
    "    testX = pad_sequences(testX, maxlen=sequence_chunk_size, value=0.,padding='post')\n",
    "\n",
    "    # Converting labels to binary vectors\n",
    "    trainY = to_categorical(trainY, nb_classes=vocab_size)\n",
    "    testY = to_categorical(testY, nb_classes=vocab_size)\n",
    "\n",
    "    # Network building\n",
    "    net = tflearn.input_data([None, 15])\n",
    "    net = tflearn.embedding(net, input_dim=vocab_size, output_dim=128,trainable=True)\n",
    "    net = tflearn.gru(net, n_units=128, dropout=0.6,weights_init=tflearn.initializations.xavier(),return_seq=False)\n",
    "    net = tflearn.fully_connected(net, vocab_size, activation='softmax',weights_init=tflearn.initializations.xavier())\n",
    "    net = tflearn.regression(net, optimizer='adam', learning_rate=0.0001,\n",
    "                             loss='categorical_crossentropy')\n",
    "\n",
    "    # Training\n",
    "    model = tflearn.DNN(net, tensorboard_verbose=2)\n",
    "\n",
    "    model.fit(trainX, trainY, validation_set=(testX, testY), show_metric=False,\n",
    "              batch_size=256,n_epoch=2)\n",
    "    \n",
    "    return model"
   ]
  },
  {
   "cell_type": "code",
   "execution_count": 40,
   "metadata": {
    "collapsed": false
   },
   "outputs": [
    {
     "name": "stdout",
     "output_type": "stream",
     "text": [
      "Training Step: 29  | total loss: \u001b[1m\u001b[32m8.19501\u001b[0m\u001b[0m | time: 1.103s\n",
      "| Adam | epoch: 002 | loss: 8.19501 -- iter: 3584/3813\n",
      "Training Step: 30  | total loss: \u001b[1m\u001b[32m8.19485\u001b[0m\u001b[0m | time: 2.189s\n",
      "| Adam | epoch: 002 | loss: 8.19485 | val_loss: 8.19560 -- iter: 3813/3813\n",
      "--\n"
     ]
    }
   ],
   "source": [
    "split_perc=0.8\n",
    "train_len, test_len = np.floor(len(train_df)*split_perc), np.floor(len(train_df)*(1-split_perc))\n",
    "train, test = train_df.ix[:train_len-1], train_df.ix[train_len:train_len + test_len]\n",
    "model = train_model(train,test,len(vocab))"
   ]
  },
  {
   "cell_type": "markdown",
   "metadata": {},
   "source": [
    "<h2>Vizualizng the Model</h2>\n",
    "As part of the model, and high dimension embedding space is learned representing the subreddits in the vocabulary as vectors that can be reasoned about with \"distance\" from each other in the embedding space, and visualized with dimensionality reduction techniques, similiar the concepts used in [word2vec.](http://www.deeplearningweekly.com/blog/demystifying-word2vec) The tutorial by Arthur Juliani [here](https://medium.com/@awjuliani/visualizing-deep-learning-with-t-sne-tutorial-and-video-e7c59ee4080c#.xdlzpd34w) was used to build the embedding visualization."
   ]
  },
  {
   "cell_type": "code",
   "execution_count": 42,
   "metadata": {
    "collapsed": false
   },
   "outputs": [],
   "source": [
    "from sklearn.manifold import TSNE\n",
    "embedding = tflearn.get_layer_variables_by_name(\"Embedding\")[0]\n",
    "finalWs = model.get_weights(embedding)\n",
    "tsne = TSNE(perplexity=30, n_components=2, init='pca', n_iter=5000)\n",
    "lowDWeights = tsne.fit_transform(finalWs)"
   ]
  },
  {
   "cell_type": "code",
   "execution_count": 45,
   "metadata": {
    "collapsed": false
   },
   "outputs": [
    {
     "data": {
      "text/html": [
       "\n",
       "    <div class=\"bk-root\">\n",
       "        <a href=\"http://bokeh.pydata.org\" target=\"_blank\" class=\"bk-logo bk-logo-small bk-logo-notebook\"></a>\n",
       "        <span id=\"bfa4e23d-6e65-4e0f-ae74-4fd5fb114ece\">Loading BokehJS ...</span>\n",
       "    </div>"
      ]
     },
     "metadata": {},
     "output_type": "display_data"
    },
    {
     "data": {
      "application/javascript": [
       "\n",
       "(function(global) {\n",
       "  function now() {\n",
       "    return new Date();\n",
       "  }\n",
       "\n",
       "  var force = true;\n",
       "\n",
       "  if (typeof (window._bokeh_onload_callbacks) === \"undefined\" || force === true) {\n",
       "    window._bokeh_onload_callbacks = [];\n",
       "    window._bokeh_is_loading = undefined;\n",
       "  }\n",
       "\n",
       "\n",
       "  \n",
       "  if (typeof (window._bokeh_timeout) === \"undefined\" || force === true) {\n",
       "    window._bokeh_timeout = Date.now() + 5000;\n",
       "    window._bokeh_failed_load = false;\n",
       "  }\n",
       "\n",
       "  var NB_LOAD_WARNING = {'data': {'text/html':\n",
       "     \"<div style='background-color: #fdd'>\\n\"+\n",
       "     \"<p>\\n\"+\n",
       "     \"BokehJS does not appear to have successfully loaded. If loading BokehJS from CDN, this \\n\"+\n",
       "     \"may be due to a slow or bad network connection. Possible fixes:\\n\"+\n",
       "     \"</p>\\n\"+\n",
       "     \"<ul>\\n\"+\n",
       "     \"<li>re-rerun `output_notebook()` to attempt to load from CDN again, or</li>\\n\"+\n",
       "     \"<li>use INLINE resources instead, as so:</li>\\n\"+\n",
       "     \"</ul>\\n\"+\n",
       "     \"<code>\\n\"+\n",
       "     \"from bokeh.resources import INLINE\\n\"+\n",
       "     \"output_notebook(resources=INLINE)\\n\"+\n",
       "     \"</code>\\n\"+\n",
       "     \"</div>\"}};\n",
       "\n",
       "  function display_loaded() {\n",
       "    if (window.Bokeh !== undefined) {\n",
       "      document.getElementById(\"bfa4e23d-6e65-4e0f-ae74-4fd5fb114ece\").textContent = \"BokehJS successfully loaded.\";\n",
       "    } else if (Date.now() < window._bokeh_timeout) {\n",
       "      setTimeout(display_loaded, 100)\n",
       "    }\n",
       "  }\n",
       "\n",
       "  function run_callbacks() {\n",
       "    window._bokeh_onload_callbacks.forEach(function(callback) { callback() });\n",
       "    delete window._bokeh_onload_callbacks\n",
       "    console.info(\"Bokeh: all callbacks have finished\");\n",
       "  }\n",
       "\n",
       "  function load_libs(js_urls, callback) {\n",
       "    window._bokeh_onload_callbacks.push(callback);\n",
       "    if (window._bokeh_is_loading > 0) {\n",
       "      console.log(\"Bokeh: BokehJS is being loaded, scheduling callback at\", now());\n",
       "      return null;\n",
       "    }\n",
       "    if (js_urls == null || js_urls.length === 0) {\n",
       "      run_callbacks();\n",
       "      return null;\n",
       "    }\n",
       "    console.log(\"Bokeh: BokehJS not loaded, scheduling load and callback at\", now());\n",
       "    window._bokeh_is_loading = js_urls.length;\n",
       "    for (var i = 0; i < js_urls.length; i++) {\n",
       "      var url = js_urls[i];\n",
       "      var s = document.createElement('script');\n",
       "      s.src = url;\n",
       "      s.async = false;\n",
       "      s.onreadystatechange = s.onload = function() {\n",
       "        window._bokeh_is_loading--;\n",
       "        if (window._bokeh_is_loading === 0) {\n",
       "          console.log(\"Bokeh: all BokehJS libraries loaded\");\n",
       "          run_callbacks()\n",
       "        }\n",
       "      };\n",
       "      s.onerror = function() {\n",
       "        console.warn(\"failed to load library \" + url);\n",
       "      };\n",
       "      console.log(\"Bokeh: injecting script tag for BokehJS library: \", url);\n",
       "      document.getElementsByTagName(\"head\")[0].appendChild(s);\n",
       "    }\n",
       "  };var element = document.getElementById(\"bfa4e23d-6e65-4e0f-ae74-4fd5fb114ece\");\n",
       "  if (element == null) {\n",
       "    console.log(\"Bokeh: ERROR: autoload.js configured with elementid 'bfa4e23d-6e65-4e0f-ae74-4fd5fb114ece' but no matching script tag was found. \")\n",
       "    return false;\n",
       "  }\n",
       "\n",
       "  var js_urls = [\"https://cdn.pydata.org/bokeh/release/bokeh-0.12.4.min.js\", \"https://cdn.pydata.org/bokeh/release/bokeh-widgets-0.12.4.min.js\"];\n",
       "\n",
       "  var inline_js = [\n",
       "    function(Bokeh) {\n",
       "      Bokeh.set_log_level(\"info\");\n",
       "    },\n",
       "    \n",
       "    function(Bokeh) {\n",
       "      \n",
       "      document.getElementById(\"bfa4e23d-6e65-4e0f-ae74-4fd5fb114ece\").textContent = \"BokehJS is loading...\";\n",
       "    },\n",
       "    function(Bokeh) {\n",
       "      console.log(\"Bokeh: injecting CSS: https://cdn.pydata.org/bokeh/release/bokeh-0.12.4.min.css\");\n",
       "      Bokeh.embed.inject_css(\"https://cdn.pydata.org/bokeh/release/bokeh-0.12.4.min.css\");\n",
       "      console.log(\"Bokeh: injecting CSS: https://cdn.pydata.org/bokeh/release/bokeh-widgets-0.12.4.min.css\");\n",
       "      Bokeh.embed.inject_css(\"https://cdn.pydata.org/bokeh/release/bokeh-widgets-0.12.4.min.css\");\n",
       "    }\n",
       "  ];\n",
       "\n",
       "  function run_inline_js() {\n",
       "    \n",
       "    if ((window.Bokeh !== undefined) || (force === true)) {\n",
       "      for (var i = 0; i < inline_js.length; i++) {\n",
       "        inline_js[i](window.Bokeh);\n",
       "      }if (force === true) {\n",
       "        display_loaded();\n",
       "      }} else if (Date.now() < window._bokeh_timeout) {\n",
       "      setTimeout(run_inline_js, 100);\n",
       "    } else if (!window._bokeh_failed_load) {\n",
       "      console.log(\"Bokeh: BokehJS failed to load within specified timeout.\");\n",
       "      window._bokeh_failed_load = true;\n",
       "    } else if (force !== true) {\n",
       "      var cell = $(document.getElementById(\"bfa4e23d-6e65-4e0f-ae74-4fd5fb114ece\")).parents('.cell').data().cell;\n",
       "      cell.output_area.append_execute_result(NB_LOAD_WARNING)\n",
       "    }\n",
       "\n",
       "  }\n",
       "\n",
       "  if (window._bokeh_is_loading === 0) {\n",
       "    console.log(\"Bokeh: BokehJS loaded, going straight to plotting\");\n",
       "    run_inline_js();\n",
       "  } else {\n",
       "    load_libs(js_urls, function() {\n",
       "      console.log(\"Bokeh: BokehJS plotting callback run at\", now());\n",
       "      run_inline_js();\n",
       "    });\n",
       "  }\n",
       "}(this));"
      ]
     },
     "metadata": {},
     "output_type": "display_data"
    },
    {
     "data": {
      "text/html": [
       "\n",
       "\n",
       "    <div class=\"bk-root\">\n",
       "        <div class=\"bk-plotdiv\" id=\"acdb9c79-6871-4b2d-8b5c-e7cfef1e1613\"></div>\n",
       "    </div>\n",
       "<script type=\"text/javascript\">\n",
       "  \n",
       "  (function(global) {\n",
       "    function now() {\n",
       "      return new Date();\n",
       "    }\n",
       "  \n",
       "    var force = false;\n",
       "  \n",
       "    if (typeof (window._bokeh_onload_callbacks) === \"undefined\" || force === true) {\n",
       "      window._bokeh_onload_callbacks = [];\n",
       "      window._bokeh_is_loading = undefined;\n",
       "    }\n",
       "  \n",
       "  \n",
       "    \n",
       "    if (typeof (window._bokeh_timeout) === \"undefined\" || force === true) {\n",
       "      window._bokeh_timeout = Date.now() + 0;\n",
       "      window._bokeh_failed_load = false;\n",
       "    }\n",
       "  \n",
       "    var NB_LOAD_WARNING = {'data': {'text/html':\n",
       "       \"<div style='background-color: #fdd'>\\n\"+\n",
       "       \"<p>\\n\"+\n",
       "       \"BokehJS does not appear to have successfully loaded. If loading BokehJS from CDN, this \\n\"+\n",
       "       \"may be due to a slow or bad network connection. Possible fixes:\\n\"+\n",
       "       \"</p>\\n\"+\n",
       "       \"<ul>\\n\"+\n",
       "       \"<li>re-rerun `output_notebook()` to attempt to load from CDN again, or</li>\\n\"+\n",
       "       \"<li>use INLINE resources instead, as so:</li>\\n\"+\n",
       "       \"</ul>\\n\"+\n",
       "       \"<code>\\n\"+\n",
       "       \"from bokeh.resources import INLINE\\n\"+\n",
       "       \"output_notebook(resources=INLINE)\\n\"+\n",
       "       \"</code>\\n\"+\n",
       "       \"</div>\"}};\n",
       "  \n",
       "    function display_loaded() {\n",
       "      if (window.Bokeh !== undefined) {\n",
       "        document.getElementById(\"acdb9c79-6871-4b2d-8b5c-e7cfef1e1613\").textContent = \"BokehJS successfully loaded.\";\n",
       "      } else if (Date.now() < window._bokeh_timeout) {\n",
       "        setTimeout(display_loaded, 100)\n",
       "      }\n",
       "    }\n",
       "  \n",
       "    function run_callbacks() {\n",
       "      window._bokeh_onload_callbacks.forEach(function(callback) { callback() });\n",
       "      delete window._bokeh_onload_callbacks\n",
       "      console.info(\"Bokeh: all callbacks have finished\");\n",
       "    }\n",
       "  \n",
       "    function load_libs(js_urls, callback) {\n",
       "      window._bokeh_onload_callbacks.push(callback);\n",
       "      if (window._bokeh_is_loading > 0) {\n",
       "        console.log(\"Bokeh: BokehJS is being loaded, scheduling callback at\", now());\n",
       "        return null;\n",
       "      }\n",
       "      if (js_urls == null || js_urls.length === 0) {\n",
       "        run_callbacks();\n",
       "        return null;\n",
       "      }\n",
       "      console.log(\"Bokeh: BokehJS not loaded, scheduling load and callback at\", now());\n",
       "      window._bokeh_is_loading = js_urls.length;\n",
       "      for (var i = 0; i < js_urls.length; i++) {\n",
       "        var url = js_urls[i];\n",
       "        var s = document.createElement('script');\n",
       "        s.src = url;\n",
       "        s.async = false;\n",
       "        s.onreadystatechange = s.onload = function() {\n",
       "          window._bokeh_is_loading--;\n",
       "          if (window._bokeh_is_loading === 0) {\n",
       "            console.log(\"Bokeh: all BokehJS libraries loaded\");\n",
       "            run_callbacks()\n",
       "          }\n",
       "        };\n",
       "        s.onerror = function() {\n",
       "          console.warn(\"failed to load library \" + url);\n",
       "        };\n",
       "        console.log(\"Bokeh: injecting script tag for BokehJS library: \", url);\n",
       "        document.getElementsByTagName(\"head\")[0].appendChild(s);\n",
       "      }\n",
       "    };var element = document.getElementById(\"acdb9c79-6871-4b2d-8b5c-e7cfef1e1613\");\n",
       "    if (element == null) {\n",
       "      console.log(\"Bokeh: ERROR: autoload.js configured with elementid 'acdb9c79-6871-4b2d-8b5c-e7cfef1e1613' but no matching script tag was found. \")\n",
       "      return false;\n",
       "    }\n",
       "  \n",
       "    var js_urls = [];\n",
       "  \n",
       "    var inline_js = [\n",
       "      function(Bokeh) {\n",
       "        (function() {\n",
       "          var fn = function() {\n",
       "            var docs_json = {\"2abb99bf-f997-4073-a1b9-b0c033bdad95\":{\"roots\":{\"references\":[{\"attributes\":{},\"id\":\"ceac0320-1e5b-40fc-8a0d-62d2eeede674\",\"type\":\"ToolEvents\"},{\"attributes\":{\"plot\":{\"id\":\"e5a075df-c524-4d77-852f-c53b5d5387de\",\"subtype\":\"Figure\",\"type\":\"Plot\"}},\"id\":\"2d9302b4-7e45-4be4-8067-f0f8bffa0da8\",\"type\":\"ZoomInTool\"},{\"attributes\":{\"bottom_units\":\"screen\",\"fill_alpha\":{\"value\":0.5},\"fill_color\":{\"value\":\"lightgrey\"},\"left_units\":\"screen\",\"level\":\"overlay\",\"line_alpha\":{\"value\":1.0},\"line_color\":{\"value\":\"black\"},\"line_dash\":[4,4],\"line_width\":{\"value\":2},\"plot\":null,\"render_mode\":\"css\",\"right_units\":\"screen\",\"top_units\":\"screen\"},\"id\":\"7a62e8be-2e1f-4617-9292-67c9f78a888a\",\"type\":\"BoxAnnotation\"},{\"attributes\":{\"plot\":{\"id\":\"e5a075df-c524-4d77-852f-c53b5d5387de\",\"subtype\":\"Figure\",\"type\":\"Plot\"}},\"id\":\"11671461-883f-4cd2-9fb4-b2a49ebe24f4\",\"type\":\"PanTool\"},{\"attributes\":{\"callback\":null,\"plot\":{\"id\":\"e5a075df-c524-4d77-852f-c53b5d5387de\",\"subtype\":\"Figure\",\"type\":\"Plot\"}},\"id\":\"eb177768-cc36-4b75-b0e2-e5d0e8647de5\",\"type\":\"HoverTool\"},{\"attributes\":{\"callback\":null,\"column_names\":[\"labels\",\"x\",\"y\"],\"data\":{\"labels\":[\"\",\"\",\"\",\"\",\"\",\"\",\"\",\"\",\"\",\"\",\"\",\"\",\"\",\"\",\"\",\"\",\"\",\"\",\"\",\"\",\"\",\"\",\"\",\"\",\"\",\"\",\"\",\"\",\"\",\"\",\"\",\"\",\"\",\"\",\"\",\"\",\"\",\"\",\"\",\"\",\"\",\"\",\"\",\"\",\"\",\"\",\"\",\"\",\"\",\"\",\"\",\"\",\"\",\"\",\"\",\"\",\"\",\"\",\"\",\"\",\"\",\"\",\"\",\"\",\"\",\"\",\"\",\"\",\"\",\"\",\"\",\"\",\"\",\"\",\"\",\"\",\"\",\"\",\"\",\"\",\"\",\"\",\"\",\"\",\"\",\"\",\"\",\"\",\"\",\"\",\"\",\"\",\"\",\"\",\"\",\"\",\"\",\"\",\"\",\"\",\"\",\"\",\"\",\"\",\"\",\"\",\"\",\"\",\"\",\"\",\"\",\"\",\"\",\"\",\"\",\"\",\"\",\"\",\"\",\"\",\"\",\"\",\"\",\"\",\"\",\"\",\"\",\"\",\"\",\"\",\"\",\"\",\"\",\"\",\"\",\"\",\"\",\"\",\"\",\"\",\"\",\"\",\"\",\"\",\"summonerschool\",\"\",\"\",\"\",\"\",\"\",\"\",\"\",\"\",\"\",\"\",\"\",\"\",\"\",\"\",\"\",\"\",\"\",\"\",\"\",\"\",\"\",\"\",\"\",\"\",\"\",\"\",\"\",\"\",\"\",\"\",\"\",\"\",\"\",\"\",\"\",\"\",\"\",\"\",\"\",\"\",\"\",\"\",\"\",\"\",\"\",\"\",\"\",\"\",\"\",\"\",\"\",\"\",\"\",\"\",\"\",\"\",\"\",\"\",\"\",\"\",\"\",\"\",\"\",\"\",\"\",\"\",\"\",\"\",\"\",\"\",\"\",\"\",\"\",\"\",\"\",\"\",\"\",\"\",\"\",\"\",\"\",\"\",\"\",\"\",\"\",\"\",\"\",\"\",\"\",\"\",\"\",\"\",\"\",\"\",\"\",\"\",\"\",\"\",\"\",\"\",\"\",\"\",\"\",\"\",\"\",\"\",\"\",\"\",\"\",\"\",\"\",\"\",\"\",\"\",\"\",\"\",\"\",\"\",\"\",\"\",\"\",\"\",\"\",\"\",\"\",\"\",\"\",\"\",\"\",\"\",\"\",\"\",\"AnarchismOnline\",\"\",\"\",\"\",\"\",\"\",\"\",\"\",\"\",\"\",\"\",\"\",\"\",\"\",\"\",\"\",\"\",\"\",\"\",\"\",\"\",\"\",\"\",\"\",\"ModernMagic\",\"\",\"\",\"\",\"\",\"\",\"\",\"\",\"\",\"\",\"\",\"\",\"\",\"\",\"\",\"\",\"\",\"\",\"\",\"\",\"\",\"\",\"\",\"\",\"sanfrancisco\",\"\",\"\",\"\",\"\",\"\",\"\",\"\",\"\",\"\",\"\",\"\",\"\",\"\",\"\",\"\",\"\",\"\",\"\",\"\",\"\",\"\",\"\",\"\",\"\",\"\",\"\",\"\",\"streetwear\",\"\",\"\",\"\",\"\",\"\",\"\",\"\",\"\",\"\",\"\",\"\",\"\",\"\",\"\",\"\",\"\",\"\",\"\",\"\",\"\",\"\",\"\",\"\",\"\",\"\",\"\",\"\",\"\",\"\",\"\",\"\",\"\",\"\",\"\",\"\",\"\",\"\",\"\",\"\",\"\",\"\",\"\",\"\",\"\",\"\",\"\",\"\",\"\",\"\",\"\",\"\",\"\",\"\",\"\",\"\",\"\",\"\",\"\",\"\",\"\",\"\",\"\",\"\",\"\",\"\",\"\",\"\",\"\",\"\",\"ModelUSMeta\",\"\",\"\",\"\",\"\",\"\",\"\",\"\",\"\",\"\",\"\",\"\",\"\",\"\",\"\",\"\",\"\",\"\",\"\",\"\",\"\",\"\",\"\",\"\",\"\",\"\",\"\",\"\",\"\",\"\",\"\",\"\",\"\",\"\",\"\",\"\",\"\",\"COMPLETEANARCHY\",\"\",\"\",\"\",\"\",\"\",\"\",\"\",\"\",\"\",\"\",\"\",\"\",\"\",\"\",\"\",\"\",\"\",\"\",\"\",\"\",\"\",\"\",\"\",\"\",\"\",\"\",\"\",\"\",\"\",\"\",\"\",\"\",\"\",\"\",\"\",\"\",\"\",\"\",\"\",\"\",\"\",\"\",\"\",\"leangains\",\"\",\"\",\"\",\"\",\"\",\"\",\"\",\"\",\"\",\"\",\"\",\"\",\"\",\"\",\"\",\"\",\"\",\"\",\"\",\"\",\"\",\"\",\"\",\"\",\"\",\"\",\"\",\"\",\"\",\"\",\"\",\"\",\"\",\"\",\"\",\"\",\"\",\"\",\"\",\"\",\"\",\"\",\"\",\"\",\"\",\"\",\"\",\"\",\"\",\"\",\"\",\"\",\"\",\"\",\"\",\"\",\"\",\"\",\"\",\"Anarcho_Capitalism\",\"\",\"\",\"\",\"\",\"\",\"\",\"\",\"\",\"\",\"\",\"\",\"\",\"\",\"\",\"\",\"\",\"\",\"\",\"\",\"\",\"\",\"\",\"\",\"\",\"\",\"\",\"\",\"\",\"\",\"\",\"\",\"\",\"\",\"\",\"\",\"\",\"\",\"\",\"\",\"\",\"\",\"\",\"\",\"\",\"\",\"\",\"\",\"\",\"\",\"\",\"\",\"\",\"\",\"\",\"\",\"\",\"\",\"\",\"\",\"\",\"\",\"\",\"\",\"\",\"\",\"\",\"\",\"\",\"\",\"\",\"\",\"\",\"\",\"\",\"\",\"\",\"\",\"\",\"\",\"\",\"\",\"\",\"\",\"\",\"\",\"\",\"\",\"\",\"\",\"\",\"\",\"\",\"\",\"\",\"\",\"\",\"\",\"\",\"\",\"\",\"\",\"\",\"\",\"\",\"\",\"\",\"\",\"\",\"\",\"\",\"\",\"\",\"\",\"\",\"\",\"\",\"\",\"\",\"\",\"\",\"\",\"\",\"\",\"ModelEasternState\",\"\",\"\",\"\",\"\",\"\",\"\",\"\",\"\",\"\",\"\",\"\",\"\",\"\",\"\",\"\",\"\",\"\",\"\",\"\",\"\",\"\",\"\",\"\",\"\",\"\",\"forhonor\",\"\",\"\",\"\",\"\",\"\",\"\",\"\",\"\",\"\",\"\",\"\",\"\",\"\",\"\",\"\",\"\",\"\",\"\",\"\",\"\",\"\",\"\",\"\",\"\",\"\",\"\",\"\",\"\",\"\",\"\",\"\",\"\",\"\",\"\",\"\",\"\",\"\",\"\",\"\",\"\",\"\",\"\",\"\",\"\",\"\",\"\",\"\",\"\",\"\",\"\",\"\",\"\",\"\",\"\",\"\",\"\",\"\",\"\",\"\",\"\",\"\",\"\",\"\",\"\",\"\",\"\",\"\",\"\",\"\",\"\",\"\",\"\",\"\",\"\",\"\",\"\",\"\",\"\",\"\",\"\",\"\",\"\",\"\",\"\",\"\",\"\",\"\",\"\",\"\",\"\",\"\",\"\",\"\",\"\",\"\",\"\",\"\",\"\",\"\",\"\",\"\",\"\",\"\",\"\",\"\",\"\",\"\",\"\",\"\",\"\",\"\",\"\",\"\",\"\",\"\",\"\",\"\",\"\",\"\",\"\",\"\",\"\",\"\",\"\",\"\",\"\",\"\",\"\",\"\",\"\",\"\",\"\",\"\",\"\",\"\",\"\",\"\",\"\",\"\",\"\",\"\",\"\",\"\",\"\",\"\",\"\",\"\",\"\",\"\",\"\",\"\",\"\",\"\",\"\",\"\",\"\",\"\",\"\",\"\",\"\",\"\",\"\",\"\",\"\",\"\",\"\",\"\",\"\",\"\",\"\",\"\",\"\",\"\",\"\",\"\",\"\",\"\",\"\",\"\",\"\",\"\",\"\",\"\",\"\",\"\",\"\",\"\",\"\",\"\",\"\",\"\",\"\",\"\",\"\",\"\",\"\",\"\",\"\",\"\",\"\",\"\",\"\",\"\",\"\",\"\",\"\",\"\",\"\",\"\",\"\",\"\",\"\",\"\",\"\",\"\",\"StrangerThings\",\"\",\"\",\"\",\"\",\"\",\"\",\"\",\"\",\"\",\"\",\"\",\"\",\"\",\"\",\"\",\"\",\"\",\"\",\"\",\"\",\"\",\"\",\"\",\"\",\"\",\"\",\"\",\"\",\"\",\"\",\"\",\"\",\"\",\"\",\"\",\"\",\"\",\"\",\"\",\"\",\"\",\"\",\"\",\"\",\"\",\"\",\"\",\"\",\"\",\"U2Band\",\"\",\"\",\"\",\"\",\"\",\"\",\"\",\"\",\"\",\"\",\"\",\"\",\"\",\"\",\"\",\"\",\"\",\"\",\"\",\"\",\"\",\"\",\"\",\"\",\"\",\"\",\"\",\"\",\"\",\"\",\"\",\"\",\"\",\"\",\"\",\"\",\"\",\"\",\"\",\"\",\"jacksonville\",\"\",\"\",\"\",\"\",\"\",\"\",\"\",\"\",\"\",\"\",\"\",\"\",\"\",\"\",\"\",\"\",\"\",\"\",\"\",\"\",\"\",\"\",\"\",\"\",\"\",\"\",\"\",\"\",\"\",\"\",\"\",\"\",\"\",\"\",\"\",\"\",\"\",\"\",\"\",\"\",\"\",\"\",\"\",\"\",\"\",\"\",\"\",\"\",\"\",\"\",\"\",\"\",\"\",\"\",\"\",\"\",\"\",\"\",\"\",\"\",\"\",\"\",\"\",\"\",\"\",\"\",\"\",\"\",\"\",\"\",\"\",\"\",\"\",\"\",\"\",\"\",\"\",\"\",\"\",\"\",\"\",\"\",\"\",\"\",\"\",\"\",\"\",\"\",\"\",\"\",\"\",\"\",\"\",\"\",\"\",\"\",\"\",\"\",\"\",\"\",\"\",\"\",\"\",\"\",\"\",\"\",\"notcirclejerk\",\"\",\"\",\"\",\"\",\"\",\"\",\"\",\"\",\"\",\"\",\"\",\"\",\"\",\"\",\"\",\"\",\"\",\"\",\"\",\"\",\"\",\"\",\"\",\"\",\"\",\"\",\"\",\"\",\"\",\"\",\"\",\"\",\"\",\"\",\"\",\"\",\"\",\"\",\"\",\"\",\"\",\"\",\"\",\"\",\"\",\"\",\"\",\"\",\"\",\"\",\"\",\"\",\"\",\"\",\"\",\"\",\"\",\"\",\"\",\"\",\"\",\"\",\"\",\"\",\"\",\"\",\"\",\"\",\"\",\"\",\"\",\"\",\"\",\"\",\"\",\"rockhounds\",\"\",\"\",\"\",\"\",\"\",\"\",\"\",\"\",\"\",\"\",\"\",\"\",\"\",\"\",\"\",\"\",\"\",\"\",\"\",\"\",\"\",\"\",\"\",\"\",\"\",\"\",\"\",\"\",\"\",\"\",\"\",\"\",\"\",\"\",\"\",\"\",\"\",\"\",\"\",\"\",\"\",\"\",\"\",\"\",\"\",\"\",\"\",\"\",\"\",\"\",\"\",\"\",\"\",\"\",\"\",\"\",\"\",\"\",\"\",\"\",\"\",\"\",\"\",\"\",\"\",\"\",\"\",\"\",\"\",\"\",\"ShittyLifeProTips\",\"\",\"\",\"\",\"\",\"\",\"\",\"\",\"\",\"\",\"\",\"\",\"\",\"\",\"\",\"\",\"\",\"\",\"\",\"\",\"\",\"\",\"\",\"\",\"\",\"\",\"\",\"\",\"\",\"\",\"\",\"\",\"\",\"\",\"\",\"\",\"\",\"\",\"\",\"\",\"\",\"\",\"\",\"\",\"\",\"\",\"\",\"\",\"\",\"\",\"\",\"\",\"\",\"\",\"\",\"\",\"\",\"\",\"\",\"\",\"\",\"\",\"\",\"\",\"\",\"\",\"\",\"\",\"\",\"\",\"\",\"\",\"\",\"\",\"\",\"\",\"\",\"\",\"\",\"\",\"\",\"\",\"\",\"\",\"\",\"\",\"\",\"\",\"\",\"\",\"\",\"\",\"\",\"\",\"\",\"\",\"\",\"\",\"\",\"\",\"\",\"\",\"\",\"\",\"\",\"\",\"\",\"\",\"\",\"\",\"\",\"\",\"\",\"\",\"\",\"\",\"\",\"\",\"\",\"\",\"\",\"\",\"\",\"\",\"\",\"\",\"\",\"\",\"\",\"\",\"\",\"\",\"\",\"\",\"\",\"\",\"\",\"\",\"\",\"\",\"\",\"\",\"\",\"\",\"\",\"\",\"\",\"\",\"\",\"\",\"\",\"\",\"\",\"\",\"\",\"\",\"\",\"\",\"\",\"\",\"\",\"\",\"\",\"\",\"\",\"\",\"\",\"\",\"\",\"\",\"\",\"\",\"\",\"\",\"\",\"\",\"\",\"\",\"\",\"\",\"\",\"\",\"\",\"\",\"\",\"\",\"\",\"\",\"\",\"\",\"\",\"\",\"\",\"\",\"\",\"\",\"\",\"\",\"\",\"\",\"\",\"\",\"\",\"\",\"\",\"\",\"\",\"\",\"\",\"\",\"\",\"\",\"\",\"\",\"\",\"\",\"\",\"\",\"\",\"\",\"\",\"\",\"\",\"\",\"\",\"\",\"\",\"\",\"\",\"\",\"\",\"\",\"\",\"\",\"\",\"\",\"\",\"\",\"\",\"\",\"\",\"\",\"\",\"\",\"\",\"\",\"\",\"\",\"\",\"\",\"\",\"\",\"\",\"\",\"\",\"\",\"\",\"\",\"\",\"\",\"\",\"\",\"\",\"\",\"\",\"\",\"\",\"\",\"\",\"\",\"\",\"\",\"\",\"\",\"\",\"\",\"\",\"\",\"\",\"\",\"\",\"\",\"\",\"\",\"\",\"\",\"\",\"escafrisky\",\"\",\"\",\"\",\"\",\"\",\"\",\"\",\"\",\"\",\"\",\"\",\"\",\"\",\"\",\"\",\"\",\"\",\"\",\"\",\"\",\"\",\"\",\"\",\"\",\"\",\"\",\"\",\"\",\"\",\"\",\"\",\"\",\"\",\"\",\"\",\"\",\"\",\"\",\"\",\"\",\"\",\"\",\"\",\"\",\"\",\"\",\"\",\"\",\"\",\"\",\"\",\"\",\"\",\"\",\"\",\"\",\"\",\"\",\"\",\"\",\"\",\"\",\"\",\"\",\"\",\"\",\"\",\"\",\"\",\"sugarfreemua\",\"\",\"\",\"\",\"\",\"\",\"\",\"\",\"\",\"\",\"\",\"\",\"\",\"\",\"\",\"\",\"\",\"\",\"\",\"\",\"\",\"\",\"\",\"\",\"\",\"\",\"\",\"faeria\",\"\",\"\",\"\",\"\",\"\",\"\",\"\",\"\",\"\",\"\",\"\",\"\",\"\",\"\",\"\",\"\",\"\",\"\",\"\",\"\",\"\",\"\",\"\",\"\",\"\",\"\",\"\",\"\",\"\",\"\",\"\",\"\",\"\",\"\",\"\",\"\",\"\",\"\",\"\",\"\",\"\",\"\",\"\",\"\",\"\",\"\",\"\",\"\",\"\",\"\",\"\",\"calexit\",\"\",\"\",\"\",\"\",\"\",\"\",\"\",\"\",\"\",\"\",\"\",\"\",\"\",\"\",\"\",\"\",\"\",\"\",\"\",\"\",\"\",\"\",\"\",\"\",\"\",\"\",\"\",\"\",\"\",\"\",\"\",\"\",\"\",\"\",\"\",\"\",\"pokemonzetaomicron\",\"\",\"\",\"\",\"\",\"\",\"\",\"\",\"\",\"\",\"\",\"\",\"\",\"\",\"\",\"\",\"\",\"\",\"\",\"\",\"\",\"\",\"\",\"\",\"\",\"\",\"\",\"\",\"\",\"\",\"\",\"\",\"\",\"\",\"\",\"\",\"\",\"\",\"\",\"\",\"\",\"\",\"\",\"\",\"\",\"\",\"\",\"\",\"\",\"\",\"\",\"\",\"\",\"\",\"\",\"\",\"\",\"\",\"\",\"\",\"\",\"\",\"\",\"\",\"\",\"\",\"\",\"\",\"\",\"\",\"\",\"\",\"\",\"\",\"\",\"\",\"\",\"\",\"\",\"\",\"\",\"\",\"\",\"\",\"\",\"\",\"\",\"\",\"\",\"\",\"\",\"\",\"\",\"\",\"\",\"\",\"\",\"\",\"\",\"\",\"\",\"\",\"\",\"\",\"\",\"\",\"\",\"\",\"\",\"\",\"\",\"\",\"\",\"\",\"\",\"\",\"\",\"\",\"\",\"\",\"\",\"\",\"\",\"\",\"\",\"\",\"\",\"\",\"\",\"\",\"\",\"\",\"\",\"\",\"\",\"\",\"\",\"\",\"\",\"\",\"\",\"\",\"\",\"\",\"ecig_vendors\",\"\",\"\",\"\",\"\",\"\",\"\",\"\",\"\",\"\",\"\",\"\",\"\",\"\",\"\",\"\",\"\",\"\",\"\",\"\",\"\",\"\",\"\",\"\",\"\",\"\",\"\",\"\",\"\",\"\",\"\",\"\",\"\",\"\",\"\",\"\",\"\",\"\",\"\",\"\",\"\",\"\",\"\",\"\",\"\",\"\",\"\",\"\",\"\",\"\",\"\",\"\",\"\",\"\",\"\",\"\",\"\",\"\",\"\",\"\",\"\",\"\",\"\",\"\",\"\",\"\",\"\",\"\",\"\",\"\",\"\",\"\",\"\",\"\",\"\",\"\",\"\",\"\",\"\",\"\",\"\",\"\",\"\",\"\",\"\",\"\",\"\",\"\",\"\",\"\",\"\",\"\",\"\",\"\",\"\",\"\",\"\",\"\",\"\",\"\",\"\",\"\",\"\",\"\",\"\",\"\",\"\",\"\",\"\",\"\",\"\",\"\",\"\",\"\",\"\",\"\",\"\",\"\",\"\",\"\",\"\",\"\",\"\",\"\",\"\",\"\",\"\",\"\",\"\",\"\",\"\",\"\",\"\",\"\",\"\",\"\",\"\",\"\",\"\",\"\",\"\",\"\",\"\",\"\",\"\",\"\",\"\",\"\",\"\",\"MusicInTheMaking\",\"\",\"\",\"\",\"\",\"\",\"\",\"\",\"\",\"\",\"\",\"\",\"\",\"\",\"\",\"\",\"\",\"\",\"\",\"\",\"\",\"\",\"\",\"\",\"\",\"\",\"\",\"\",\"\",\"\",\"\",\"\",\"\",\"\",\"\",\"\",\"\",\"\",\"\",\"crossfit\",\"\",\"\",\"\",\"\",\"\",\"\",\"\",\"\",\"\",\"\",\"\",\"\",\"\",\"\",\"\",\"\",\"\",\"\",\"\",\"\",\"\",\"\",\"\",\"\",\"\",\"\",\"\",\"\",\"\",\"\",\"\",\"\",\"\",\"\",\"\",\"\",\"\",\"\",\"\",\"\",\"\",\"\",\"\",\"\",\"\",\"\",\"\",\"\",\"\",\"\",\"\",\"\",\"\",\"\",\"\",\"\",\"\",\"\",\"\",\"\",\"\",\"\",\"\",\"\",\"\",\"\",\"\",\"\",\"\",\"\",\"\",\"\",\"\",\"\",\"\",\"\",\"\",\"\",\"\",\"\",\"\",\"\",\"\",\"\",\"\",\"\",\"\",\"\",\"\",\"\",\"\",\"\",\"\",\"\",\"\",\"\",\"\",\"\",\"\",\"\",\"\",\"\",\"\",\"\",\"\",\"\",\"\",\"\",\"\",\"\",\"\",\"\",\"\",\"\",\"drugsarebeautiful\",\"\",\"\",\"\",\"\",\"\",\"\",\"\",\"\",\"\",\"\",\"\",\"\",\"\",\"\",\"\",\"\",\"\",\"\",\"\",\"\",\"\",\"\",\"\",\"\",\"\",\"\",\"\",\"\",\"\",\"\",\"\",\"\",\"\",\"\",\"\",\"\",\"\",\"\",\"\",\"\",\"\",\"\",\"\",\"\",\"\",\"\",\"\",\"\",\"\",\"\",\"\",\"\",\"\",\"\",\"\",\"\",\"\",\"\",\"\",\"\",\"\",\"\",\"\",\"\",\"\",\"\",\"\",\"\",\"\",\"\",\"\",\"\",\"\",\"\",\"\",\"\",\"\",\"\",\"\",\"\",\"\",\"\",\"\",\"\",\"\",\"\",\"\",\"\",\"\",\"\",\"WorldSilverCoins\",\"\",\"\",\"\",\"\",\"\",\"\",\"\",\"\",\"\",\"\",\"\",\"\",\"\",\"\",\"\",\"\",\"\",\"\",\"\",\"\",\"\",\"\",\"\",\"\",\"\",\"\",\"\",\"\",\"\",\"\",\"\",\"\",\"\",\"\",\"\",\"\",\"\",\"\",\"\",\"\",\"\",\"\",\"\",\"\",\"\",\"\",\"\",\"\",\"\",\"\",\"\",\"\",\"\",\"\",\"\",\"\",\"\",\"\",\"\",\"\",\"\",\"\",\"\",\"\",\"\",\"\",\"\",\"\",\"\",\"\",\"\",\"\",\"\",\"\",\"\",\"\",\"\",\"\",\"\",\"\",\"\",\"\",\"\",\"\",\"\",\"\",\"\",\"\",\"\",\"\",\"\",\"\",\"\",\"\",\"\",\"\",\"\",\"\",\"\",\"\",\"\",\"\",\"\",\"\",\"\",\"\",\"\",\"\",\"\",\"\",\"\",\"\",\"DnB\",\"\",\"\",\"\",\"\",\"\",\"\",\"\",\"\",\"\",\"\",\"\",\"\",\"\",\"\",\"\",\"\",\"\",\"\",\"\",\"\",\"\",\"\",\"\",\"\",\"\",\"\",\"\",\"\",\"\",\"\",\"\",\"\",\"\",\"\",\"\",\"\",\"\",\"\",\"\",\"\",\"\",\"\",\"\",\"\",\"\",\"\",\"\",\"\",\"\",\"\",\"\",\"\",\"\",\"\",\"\",\"\",\"\",\"\",\"\",\"\",\"\",\"\",\"\",\"\",\"\",\"\",\"\",\"\",\"\",\"\",\"\",\"\",\"\",\"\",\"\",\"\",\"\",\"\",\"\",\"\",\"\",\"\",\"\",\"\",\"\",\"\",\"\",\"\",\"\",\"\",\"\",\"\",\"\",\"\",\"\",\"\",\"\",\"\",\"\",\"\",\"\",\"\",\"\",\"\",\"\",\"\",\"\",\"\",\"\",\"\",\"\",\"\",\"\",\"\",\"\",\"\",\"\",\"\",\"\",\"\",\"\",\"\",\"\",\"\",\"\",\"\",\"\",\"\",\"\",\"\",\"\",\"\",\"\",\"\",\"\",\"\",\"\",\"\",\"\",\"\",\"\",\"\",\"\",\"\",\"\",\"\",\"\",\"\",\"\",\"\",\"\",\"\",\"\",\"\",\"\",\"\",\"\",\"\",\"\",\"\",\"\",\"\",\"\",\"\",\"\",\"\",\"\",\"\",\"\",\"\",\"\",\"\",\"\",\"\",\"\",\"\",\"\",\"\",\"\",\"\",\"\",\"\",\"\",\"\",\"\",\"\",\"\",\"\",\"\",\"\",\"\",\"\",\"\",\"\",\"\",\"\",\"\",\"\",\"\",\"\",\"\",\"\",\"\",\"\",\"\",\"\",\"\",\"\",\"\",\"\",\"\",\"\",\"\",\"\",\"\",\"\",\"\",\"\",\"\",\"\",\"\",\"\",\"\",\"\",\"\",\"\",\"\",\"\",\"\",\"\",\"\",\"\",\"\",\"\",\"\",\"\",\"\",\"\",\"\",\"\",\"\",\"\",\"\",\"\",\"\",\"\",\"\",\"\",\"\",\"\",\"\",\"\",\"\",\"\",\"\",\"\",\"\",\"\",\"\",\"\",\"\",\"\",\"\",\"\",\"\",\"\",\"\",\"\",\"\",\"\",\"\",\"\",\"\",\"\",\"\",\"\",\"\",\"\",\"\",\"\",\"\",\"\",\"\",\"\",\"\",\"\",\"\",\"\",\"\",\"\",\"\",\"\",\"\",\"\",\"\",\"\",\"\",\"\",\"\",\"\",\"\",\"\",\"\",\"\",\"\",\"\",\"\",\"\",\"\",\"\",\"\",\"\",\"\",\"\",\"\",\"\",\"\",\"\",\"\",\"\",\"\",\"\",\"\",\"\",\"\",\"\",\"\",\"\",\"\",\"\",\"\",\"\",\"\",\"\",\"\",\"\",\"\",\"\",\"\",\"\",\"\",\"\",\"\",\"\",\"\",\"\",\"\",\"\",\"\",\"\",\"\",\"\",\"\",\"\",\"\",\"\",\"\",\"\",\"\",\"\",\"\",\"\",\"\",\"\",\"\",\"\",\"\",\"\",\"\",\"\",\"\",\"\",\"\",\"\",\"\",\"\",\"\",\"\",\"\",\"\",\"\",\"\",\"\",\"\",\"\",\"\",\"\",\"\",\"\",\"\",\"\",\"\",\"\",\"\",\"\",\"\",\"\",\"\",\"\",\"\",\"\",\"\",\"\",\"\",\"\",\"\",\"\",\"\",\"\",\"\",\"\",\"\",\"\",\"\",\"\",\"\",\"\",\"\",\"\",\"\",\"\",\"\",\"\",\"\",\"\",\"\",\"\",\"\",\"\",\"\",\"\",\"\",\"\",\"\",\"\",\"\",\"\",\"\",\"\",\"\",\"singing\",\"\",\"\",\"\",\"\",\"\",\"\",\"\",\"\",\"\",\"\",\"\",\"\",\"\",\"\",\"\",\"\",\"\",\"\",\"\",\"\",\"\",\"\",\"\",\"\",\"\",\"\",\"\",\"\",\"\",\"\",\"\",\"\",\"\",\"\",\"\",\"\",\"\",\"\",\"\",\"\",\"\",\"\",\"\",\"\",\"\",\"\",\"\",\"\",\"\",\"\",\"\",\"\",\"\",\"\",\"\",\"\",\"\",\"\",\"\",\"\",\"\",\"\",\"\",\"\",\"\",\"\",\"\",\"\",\"\",\"\",\"\",\"\",\"\",\"\",\"\",\"\",\"\",\"\",\"\",\"\",\"\",\"\",\"\",\"\",\"\",\"\",\"\",\"\",\"\",\"\",\"\",\"\",\"\",\"\",\"\",\"\",\"\",\"\",\"\",\"\",\"\",\"\",\"\",\"\",\"\",\"\",\"\",\"\",\"\",\"\",\"\",\"\",\"\",\"\",\"\",\"\",\"\",\"\",\"\",\"\",\"\",\"\",\"\",\"\",\"\",\"\",\"\",\"\",\"\",\"\",\"\",\"\",\"\",\"\",\"\",\"\",\"\",\"\",\"\",\"\",\"\",\"\",\"\",\"\",\"\",\"\",\"\",\"\",\"\",\"\",\"\",\"\",\"\",\"\",\"\",\"\",\"\",\"\",\"\",\"\",\"\",\"\",\"\",\"\",\"\",\"\",\"\",\"\",\"\",\"\",\"\",\"\",\"\",\"\",\"\",\"\",\"\",\"\",\"\",\"\",\"\",\"\",\"\",\"\",\"\",\"\",\"\",\"\",\"\",\"\",\"\",\"\",\"\",\"\",\"\",\"\",\"\",\"\",\"\",\"\",\"\",\"\",\"\",\"\",\"\",\"\",\"\",\"\",\"\",\"\",\"\",\"\",\"\",\"\",\"\",\"youwritewho\",\"\",\"\",\"\",\"\",\"\",\"\",\"\",\"\",\"\",\"\",\"\",\"\",\"\",\"\",\"\",\"\",\"\",\"\",\"\",\"\",\"\",\"\",\"\",\"\",\"\",\"\",\"\",\"\",\"\",\"\",\"\",\"\",\"\",\"\",\"\",\"\",\"\",\"\",\"\",\"\",\"\",\"\",\"\",\"\",\"\",\"\",\"\",\"\",\"\",\"\",\"\",\"\",\"\",\"\",\"\",\"\",\"\",\"\",\"\",\"\",\"\",\"\",\"Dodgers\",\"\",\"\",\"education\",\"\",\"\",\"\",\"\",\"\",\"\",\"\",\"\",\"\",\"\",\"\",\"\",\"\",\"\",\"\",\"\",\"\",\"\",\"\",\"\",\"\",\"\",\"\",\"\",\"\",\"\",\"\",\"\",\"\",\"\",\"\",\"\",\"\",\"\",\"\",\"\",\"\",\"\",\"\",\"\",\"\",\"\",\"\",\"\",\"\",\"\",\"\",\"\",\"\",\"\",\"\",\"\",\"\",\"\",\"\",\"\",\"\",\"\",\"\",\"\",\"\",\"\",\"\",\"\",\"\",\"\",\"\",\"\",\"\",\"\",\"\",\"\",\"\",\"\",\"\",\"\",\"\",\"\",\"\",\"\",\"\",\"\",\"\",\"\",\"\",\"\",\"\",\"\",\"\",\"\",\"\",\"\",\"\",\"\",\"\",\"\",\"\",\"\",\"\",\"\",\"\",\"\",\"\",\"\",\"\",\"\",\"\",\"\",\"\",\"\",\"\",\"\",\"\",\"\",\"\",\"\",\"\",\"\",\"\",\"\",\"\",\"\",\"\",\"\",\"\",\"\",\"\",\"\",\"\",\"\",\"\",\"\",\"\",\"\",\"\",\"\",\"\",\"\",\"\",\"\",\"\",\"\",\"\",\"\",\"\",\"\",\"\",\"\",\"\",\"\",\"\",\"\",\"\",\"\",\"\",\"\",\"\",\"\",\"\",\"\",\"\",\"\",\"\",\"\",\"Leatherworking\",\"\",\"\",\"\",\"\",\"\",\"\",\"\",\"\",\"\",\"\",\"\",\"\",\"\",\"\",\"\",\"\",\"\",\"\",\"\",\"\",\"\",\"\",\"\",\"\",\"\",\"\",\"\",\"\",\"\",\"\",\"\",\"\",\"\",\"\",\"\",\"\",\"\",\"\",\"\",\"\",\"\",\"\",\"\",\"\",\"\",\"\",\"\",\"\",\"\",\"\",\"\",\"\",\"\",\"\",\"\",\"\",\"\",\"\",\"\",\"\",\"\",\"\",\"\",\"\",\"\",\"\",\"\",\"\",\"\",\"\",\"\",\"\",\"\",\"\",\"\",\"\",\"\",\"\",\"\",\"\",\"\",\"\",\"\",\"\",\"\",\"\",\"\",\"\",\"\",\"\",\"\",\"\",\"\",\"\",\"\",\"\",\"\",\"\",\"\",\"\",\"\",\"\",\"\",\"\",\"\",\"\",\"\",\"\",\"\",\"\",\"\",\"\",\"\",\"\",\"\",\"\",\"\",\"\",\"\",\"\",\"\",\"\",\"\",\"\",\"\",\"\",\"\",\"\",\"\",\"\",\"\",\"\",\"\",\"raidsecrets\",\"\",\"\",\"\",\"\",\"\",\"RunnersInChicago\",\"\",\"\",\"\",\"\",\"\",\"\",\"\",\"\",\"\",\"\",\"\",\"\",\"\",\"\",\"\",\"\",\"\",\"\",\"\",\"\",\"\",\"\",\"\",\"\",\"\",\"\",\"\",\"\",\"\",\"\",\"\",\"\",\"\",\"\",\"\",\"\",\"\",\"\",\"\",\"\",\"\",\"\",\"\",\"\",\"\",\"\",\"\",\"\",\"\",\"\",\"\",\"\",\"\",\"\",\"\",\"\",\"\",\"\",\"\",\"\",\"\",\"\",\"\",\"\",\"\",\"\",\"\",\"\",\"\",\"\",\"\",\"\",\"\",\"\",\"\",\"\",\"\",\"\",\"\",\"\",\"\",\"\",\"\",\"\",\"\",\"\",\"\",\"\",\"\",\"\",\"\",\"\",\"\",\"\",\"\",\"\",\"\",\"\",\"\",\"\",\"\",\"\",\"\",\"\",\"\",\"\",\"\",\"\",\"\",\"\",\"\",\"\",\"\",\"\",\"\",\"\",\"\",\"\",\"\",\"\",\"\",\"\",\"\",\"\",\"\",\"\",\"\",\"\",\"\",\"\",\"\",\"\",\"\",\"\",\"\",\"\",\"\",\"\",\"\",\"\",\"\",\"\",\"\",\"\",\"\",\"\",\"\",\"\",\"\",\"\",\"\",\"\",\"\",\"\",\"\",\"\",\"\",\"\",\"\",\"\",\"\",\"\",\"\",\"\",\"\",\"\",\"\",\"\",\"\",\"\",\"\",\"\",\"\",\"\",\"\",\"\",\"\",\"thepiratebay\",\"\",\"\",\"\",\"\",\"\",\"\",\"\",\"\",\"\",\"\",\"\",\"\",\"\",\"\",\"\",\"\"],\"x\":{\"__ndarray__\":\"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\",\"dtype\":\"float64\",\"shape\":[3622]},\"y\":{\"__ndarray__\":\"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\",\"dtype\":\"float64\",\"shape\":[3622]}}},\"id\":\"3157f207-288b-4d4f-b772-ab0b7909ded0\",\"type\":\"ColumnDataSource\"},{\"attributes\":{\"fill_alpha\":{\"value\":0.6},\"fill_color\":{\"value\":\"#1f77b4\"},\"line_color\":{\"value\":null},\"radius\":{\"units\":\"data\",\"value\":0.1},\"x\":{\"field\":\"x\"},\"y\":{\"field\":\"y\"}},\"id\":\"aae990f0-c424-4c02-a396-746dafe17756\",\"type\":\"Circle\"},{\"attributes\":{\"overlay\":{\"id\":\"7dcdf56e-c8a9-4a63-8a46-7f0037a7acc6\",\"type\":\"PolyAnnotation\"},\"plot\":{\"id\":\"e5a075df-c524-4d77-852f-c53b5d5387de\",\"subtype\":\"Figure\",\"type\":\"Plot\"}},\"id\":\"03c78e18-518c-4823-aeb5-a5789ee3a4d3\",\"type\":\"PolySelectTool\"},{\"attributes\":{\"plot\":{\"id\":\"e5a075df-c524-4d77-852f-c53b5d5387de\",\"subtype\":\"Figure\",\"type\":\"Plot\"}},\"id\":\"29ff46b1-270b-4975-8701-18d4f3d92611\",\"type\":\"RedoTool\"},{\"attributes\":{\"callback\":null,\"overlay\":{\"id\":\"7a62e8be-2e1f-4617-9292-67c9f78a888a\",\"type\":\"BoxAnnotation\"},\"plot\":{\"id\":\"e5a075df-c524-4d77-852f-c53b5d5387de\",\"subtype\":\"Figure\",\"type\":\"Plot\"},\"renderers\":[{\"id\":\"0ac3a967-0aee-46e2-84b5-a160d847c357\",\"type\":\"GlyphRenderer\"}]},\"id\":\"01453616-23d2-47f5-87dd-935ae054d48e\",\"type\":\"BoxSelectTool\"},{\"attributes\":{\"callback\":null},\"id\":\"01fda1be-c5f7-40e8-abac-910ddbe7e0f8\",\"type\":\"DataRange1d\"},{\"attributes\":{},\"id\":\"715fb951-6cb7-43a2-9e71-c2b763732d0f\",\"type\":\"BasicTickFormatter\"},{\"attributes\":{\"fill_alpha\":{\"value\":0.1},\"fill_color\":{\"value\":\"#1f77b4\"},\"line_alpha\":{\"value\":0.1},\"line_color\":{\"value\":\"#1f77b4\"},\"radius\":{\"units\":\"data\",\"value\":0.1},\"x\":{\"field\":\"x\"},\"y\":{\"field\":\"y\"}},\"id\":\"4eafcaa3-a431-4ab9-bd93-12c735b4ff70\",\"type\":\"Circle\"},{\"attributes\":{\"plot\":{\"id\":\"e5a075df-c524-4d77-852f-c53b5d5387de\",\"subtype\":\"Figure\",\"type\":\"Plot\"}},\"id\":\"3951cc99-794a-4319-ba98-c4d7773c91d2\",\"type\":\"CrosshairTool\"},{\"attributes\":{\"plot\":{\"id\":\"e5a075df-c524-4d77-852f-c53b5d5387de\",\"subtype\":\"Figure\",\"type\":\"Plot\"}},\"id\":\"37b62fde-8576-41f4-b4cf-2fa9a6b2a8ab\",\"type\":\"SaveTool\"},{\"attributes\":{\"callback\":null},\"id\":\"291c82ac-e2b5-4578-abc2-ea550123c005\",\"type\":\"DataRange1d\"},{\"attributes\":{\"plot\":{\"id\":\"e5a075df-c524-4d77-852f-c53b5d5387de\",\"subtype\":\"Figure\",\"type\":\"Plot\"},\"ticker\":{\"id\":\"28eb14a7-ca59-414b-9119-4070245ec614\",\"type\":\"BasicTicker\"}},\"id\":\"5b85091a-78a1-45a9-875a-6bdbed470489\",\"type\":\"Grid\"},{\"attributes\":{\"fill_alpha\":{\"value\":0.5},\"fill_color\":{\"value\":\"lightgrey\"},\"level\":\"overlay\",\"line_alpha\":{\"value\":1.0},\"line_color\":{\"value\":\"black\"},\"line_dash\":[4,4],\"line_width\":{\"value\":2},\"plot\":null,\"xs_units\":\"screen\",\"ys_units\":\"screen\"},\"id\":\"06e81773-0538-478c-abfa-4e027101ea6f\",\"type\":\"PolyAnnotation\"},{\"attributes\":{\"below\":[{\"id\":\"e515389a-14e7-44ff-bca3-0014a6ae26c9\",\"type\":\"LinearAxis\"}],\"left\":[{\"id\":\"bdda6dbb-0bec-40a6-b5ee-aa034829e2da\",\"type\":\"LinearAxis\"}],\"renderers\":[{\"id\":\"e515389a-14e7-44ff-bca3-0014a6ae26c9\",\"type\":\"LinearAxis\"},{\"id\":\"5b85091a-78a1-45a9-875a-6bdbed470489\",\"type\":\"Grid\"},{\"id\":\"bdda6dbb-0bec-40a6-b5ee-aa034829e2da\",\"type\":\"LinearAxis\"},{\"id\":\"aca17d40-4998-49e0-a87d-cca9dc9291df\",\"type\":\"Grid\"},{\"id\":\"8f6a45eb-bfd8-425f-a86a-4dd9690c2219\",\"type\":\"BoxAnnotation\"},{\"id\":\"7a62e8be-2e1f-4617-9292-67c9f78a888a\",\"type\":\"BoxAnnotation\"},{\"id\":\"7dcdf56e-c8a9-4a63-8a46-7f0037a7acc6\",\"type\":\"PolyAnnotation\"},{\"id\":\"06e81773-0538-478c-abfa-4e027101ea6f\",\"type\":\"PolyAnnotation\"},{\"id\":\"0ac3a967-0aee-46e2-84b5-a160d847c357\",\"type\":\"GlyphRenderer\"},{\"id\":\"6f223e0c-ca22-4424-b56a-50fc1884b366\",\"type\":\"LabelSet\"}],\"title\":{\"id\":\"aba7f918-301b-4186-a60b-ed938015d0ac\",\"type\":\"Title\"},\"tool_events\":{\"id\":\"ceac0320-1e5b-40fc-8a0d-62d2eeede674\",\"type\":\"ToolEvents\"},\"toolbar\":{\"id\":\"9fdea5a5-a19b-457e-8e8f-5734ebff2bb4\",\"type\":\"Toolbar\"},\"x_range\":{\"id\":\"01fda1be-c5f7-40e8-abac-910ddbe7e0f8\",\"type\":\"DataRange1d\"},\"y_range\":{\"id\":\"291c82ac-e2b5-4578-abc2-ea550123c005\",\"type\":\"DataRange1d\"}},\"id\":\"e5a075df-c524-4d77-852f-c53b5d5387de\",\"subtype\":\"Figure\",\"type\":\"Plot\"},{\"attributes\":{\"data_source\":{\"id\":\"3157f207-288b-4d4f-b772-ab0b7909ded0\",\"type\":\"ColumnDataSource\"},\"glyph\":{\"id\":\"aae990f0-c424-4c02-a396-746dafe17756\",\"type\":\"Circle\"},\"hover_glyph\":null,\"nonselection_glyph\":{\"id\":\"4eafcaa3-a431-4ab9-bd93-12c735b4ff70\",\"type\":\"Circle\"},\"selection_glyph\":null},\"id\":\"0ac3a967-0aee-46e2-84b5-a160d847c357\",\"type\":\"GlyphRenderer\"},{\"attributes\":{\"plot\":{\"id\":\"e5a075df-c524-4d77-852f-c53b5d5387de\",\"subtype\":\"Figure\",\"type\":\"Plot\"}},\"id\":\"93475bf7-dbd4-4f14-8c67-c926b45c9731\",\"type\":\"WheelZoomTool\"},{\"attributes\":{},\"id\":\"27507306-98c5-4024-9a51-570ab0aac5eb\",\"type\":\"BasicTicker\"},{\"attributes\":{\"plot\":{\"id\":\"e5a075df-c524-4d77-852f-c53b5d5387de\",\"subtype\":\"Figure\",\"type\":\"Plot\"}},\"id\":\"4ff5d1ef-3251-4471-bc0f-baf486420d9d\",\"type\":\"ResetTool\"},{\"attributes\":{\"plot\":{\"id\":\"e5a075df-c524-4d77-852f-c53b5d5387de\",\"subtype\":\"Figure\",\"type\":\"Plot\"}},\"id\":\"30892e1b-789e-491b-aa52-91c85bf0d424\",\"type\":\"UndoTool\"},{\"attributes\":{\"overlay\":{\"id\":\"8f6a45eb-bfd8-425f-a86a-4dd9690c2219\",\"type\":\"BoxAnnotation\"},\"plot\":{\"id\":\"e5a075df-c524-4d77-852f-c53b5d5387de\",\"subtype\":\"Figure\",\"type\":\"Plot\"}},\"id\":\"6d64d882-c43e-4a71-8f3d-1c1e49882c8a\",\"type\":\"BoxZoomTool\"},{\"attributes\":{\"formatter\":{\"id\":\"715fb951-6cb7-43a2-9e71-c2b763732d0f\",\"type\":\"BasicTickFormatter\"},\"plot\":{\"id\":\"e5a075df-c524-4d77-852f-c53b5d5387de\",\"subtype\":\"Figure\",\"type\":\"Plot\"},\"ticker\":{\"id\":\"27507306-98c5-4024-9a51-570ab0aac5eb\",\"type\":\"BasicTicker\"}},\"id\":\"bdda6dbb-0bec-40a6-b5ee-aa034829e2da\",\"type\":\"LinearAxis\"},{\"attributes\":{\"callback\":null,\"plot\":{\"id\":\"e5a075df-c524-4d77-852f-c53b5d5387de\",\"subtype\":\"Figure\",\"type\":\"Plot\"}},\"id\":\"93f7eaff-29dd-49ba-af92-1bd24c52aa55\",\"type\":\"TapTool\"},{\"attributes\":{},\"id\":\"28eb14a7-ca59-414b-9119-4070245ec614\",\"type\":\"BasicTicker\"},{\"attributes\":{\"formatter\":{\"id\":\"57ab66b9-62a5-47ad-a973-d08c5694390e\",\"type\":\"BasicTickFormatter\"},\"plot\":{\"id\":\"e5a075df-c524-4d77-852f-c53b5d5387de\",\"subtype\":\"Figure\",\"type\":\"Plot\"},\"ticker\":{\"id\":\"28eb14a7-ca59-414b-9119-4070245ec614\",\"type\":\"BasicTicker\"}},\"id\":\"e515389a-14e7-44ff-bca3-0014a6ae26c9\",\"type\":\"LinearAxis\"},{\"attributes\":{\"bottom_units\":\"screen\",\"fill_alpha\":{\"value\":0.5},\"fill_color\":{\"value\":\"lightgrey\"},\"left_units\":\"screen\",\"level\":\"overlay\",\"line_alpha\":{\"value\":1.0},\"line_color\":{\"value\":\"black\"},\"line_dash\":[4,4],\"line_width\":{\"value\":2},\"plot\":null,\"render_mode\":\"css\",\"right_units\":\"screen\",\"top_units\":\"screen\"},\"id\":\"8f6a45eb-bfd8-425f-a86a-4dd9690c2219\",\"type\":\"BoxAnnotation\"},{\"attributes\":{\"callback\":null,\"overlay\":{\"id\":\"06e81773-0538-478c-abfa-4e027101ea6f\",\"type\":\"PolyAnnotation\"},\"plot\":{\"id\":\"e5a075df-c524-4d77-852f-c53b5d5387de\",\"subtype\":\"Figure\",\"type\":\"Plot\"}},\"id\":\"f48dbbd8-e01d-4ae9-acbc-b2a56e4b8a21\",\"type\":\"LassoSelectTool\"},{\"attributes\":{\"active_drag\":\"auto\",\"active_scroll\":\"auto\",\"active_tap\":\"auto\",\"tools\":[{\"id\":\"eb177768-cc36-4b75-b0e2-e5d0e8647de5\",\"type\":\"HoverTool\"},{\"id\":\"3951cc99-794a-4319-ba98-c4d7773c91d2\",\"type\":\"CrosshairTool\"},{\"id\":\"11671461-883f-4cd2-9fb4-b2a49ebe24f4\",\"type\":\"PanTool\"},{\"id\":\"93475bf7-dbd4-4f14-8c67-c926b45c9731\",\"type\":\"WheelZoomTool\"},{\"id\":\"2d9302b4-7e45-4be4-8067-f0f8bffa0da8\",\"type\":\"ZoomInTool\"},{\"id\":\"4fbae9d7-6c81-4943-ae81-b36f86a41709\",\"type\":\"ZoomOutTool\"},{\"id\":\"6d64d882-c43e-4a71-8f3d-1c1e49882c8a\",\"type\":\"BoxZoomTool\"},{\"id\":\"30892e1b-789e-491b-aa52-91c85bf0d424\",\"type\":\"UndoTool\"},{\"id\":\"29ff46b1-270b-4975-8701-18d4f3d92611\",\"type\":\"RedoTool\"},{\"id\":\"4ff5d1ef-3251-4471-bc0f-baf486420d9d\",\"type\":\"ResetTool\"},{\"id\":\"93f7eaff-29dd-49ba-af92-1bd24c52aa55\",\"type\":\"TapTool\"},{\"id\":\"37b62fde-8576-41f4-b4cf-2fa9a6b2a8ab\",\"type\":\"SaveTool\"},{\"id\":\"01453616-23d2-47f5-87dd-935ae054d48e\",\"type\":\"BoxSelectTool\"},{\"id\":\"03c78e18-518c-4823-aeb5-a5789ee3a4d3\",\"type\":\"PolySelectTool\"},{\"id\":\"f48dbbd8-e01d-4ae9-acbc-b2a56e4b8a21\",\"type\":\"LassoSelectTool\"}]},\"id\":\"9fdea5a5-a19b-457e-8e8f-5734ebff2bb4\",\"type\":\"Toolbar\"},{\"attributes\":{\"plot\":{\"id\":\"e5a075df-c524-4d77-852f-c53b5d5387de\",\"subtype\":\"Figure\",\"type\":\"Plot\"},\"source\":{\"id\":\"3157f207-288b-4d4f-b772-ab0b7909ded0\",\"type\":\"ColumnDataSource\"},\"text\":{\"field\":\"labels\"},\"text_align\":\"center\",\"text_color\":{\"value\":\"#555555\"},\"text_font_size\":{\"value\":\"10pt\"},\"x\":{\"field\":\"x\"},\"y\":{\"field\":\"y\"},\"y_offset\":{\"value\":8}},\"id\":\"6f223e0c-ca22-4424-b56a-50fc1884b366\",\"type\":\"LabelSet\"},{\"attributes\":{\"plot\":null,\"text\":\"\"},\"id\":\"aba7f918-301b-4186-a60b-ed938015d0ac\",\"type\":\"Title\"},{\"attributes\":{\"plot\":{\"id\":\"e5a075df-c524-4d77-852f-c53b5d5387de\",\"subtype\":\"Figure\",\"type\":\"Plot\"}},\"id\":\"4fbae9d7-6c81-4943-ae81-b36f86a41709\",\"type\":\"ZoomOutTool\"},{\"attributes\":{\"dimension\":1,\"plot\":{\"id\":\"e5a075df-c524-4d77-852f-c53b5d5387de\",\"subtype\":\"Figure\",\"type\":\"Plot\"},\"ticker\":{\"id\":\"27507306-98c5-4024-9a51-570ab0aac5eb\",\"type\":\"BasicTicker\"}},\"id\":\"aca17d40-4998-49e0-a87d-cca9dc9291df\",\"type\":\"Grid\"},{\"attributes\":{\"fill_alpha\":{\"value\":0.5},\"fill_color\":{\"value\":\"lightgrey\"},\"level\":\"overlay\",\"line_alpha\":{\"value\":1.0},\"line_color\":{\"value\":\"black\"},\"line_dash\":[4,4],\"line_width\":{\"value\":2},\"plot\":null,\"xs_units\":\"screen\",\"ys_units\":\"screen\"},\"id\":\"7dcdf56e-c8a9-4a63-8a46-7f0037a7acc6\",\"type\":\"PolyAnnotation\"},{\"attributes\":{},\"id\":\"57ab66b9-62a5-47ad-a973-d08c5694390e\",\"type\":\"BasicTickFormatter\"}],\"root_ids\":[\"e5a075df-c524-4d77-852f-c53b5d5387de\"]},\"title\":\"Bokeh Application\",\"version\":\"0.12.4\"}};\n",
       "            var render_items = [{\"docid\":\"2abb99bf-f997-4073-a1b9-b0c033bdad95\",\"elementid\":\"acdb9c79-6871-4b2d-8b5c-e7cfef1e1613\",\"modelid\":\"e5a075df-c524-4d77-852f-c53b5d5387de\"}];\n",
       "            \n",
       "            Bokeh.embed.embed_items(docs_json, render_items);\n",
       "          };\n",
       "          if (document.readyState != \"loading\") fn();\n",
       "          else document.addEventListener(\"DOMContentLoaded\", fn);\n",
       "        })();\n",
       "      },\n",
       "      function(Bokeh) {\n",
       "      }\n",
       "    ];\n",
       "  \n",
       "    function run_inline_js() {\n",
       "      \n",
       "      if ((window.Bokeh !== undefined) || (force === true)) {\n",
       "        for (var i = 0; i < inline_js.length; i++) {\n",
       "          inline_js[i](window.Bokeh);\n",
       "        }if (force === true) {\n",
       "          display_loaded();\n",
       "        }} else if (Date.now() < window._bokeh_timeout) {\n",
       "        setTimeout(run_inline_js, 100);\n",
       "      } else if (!window._bokeh_failed_load) {\n",
       "        console.log(\"Bokeh: BokehJS failed to load within specified timeout.\");\n",
       "        window._bokeh_failed_load = true;\n",
       "      } else if (force !== true) {\n",
       "        var cell = $(document.getElementById(\"acdb9c79-6871-4b2d-8b5c-e7cfef1e1613\")).parents('.cell').data().cell;\n",
       "        cell.output_area.append_execute_result(NB_LOAD_WARNING)\n",
       "      }\n",
       "  \n",
       "    }\n",
       "  \n",
       "    if (window._bokeh_is_loading === 0) {\n",
       "      console.log(\"Bokeh: BokehJS loaded, going straight to plotting\");\n",
       "      run_inline_js();\n",
       "    } else {\n",
       "      load_libs(js_urls, function() {\n",
       "        console.log(\"Bokeh: BokehJS plotting callback run at\", now());\n",
       "        run_inline_js();\n",
       "      });\n",
       "    }\n",
       "  }(this));\n",
       "</script>"
      ]
     },
     "metadata": {},
     "output_type": "display_data"
    }
   ],
   "source": [
    "from bokeh.plotting import figure, show, output_notebook,output_file\n",
    "from bokeh.models import ColumnDataSource, LabelSet\n",
    "\n",
    "\n",
    "sparse_labels = [lbl if random.random() <=0.01 else '' for lbl in vocab]\n",
    "source = ColumnDataSource({'x':lowDWeights[:,0],'y':lowDWeights[:,1],'labels':sparse_labels})\n",
    "\n",
    "\n",
    "TOOLS=\"hover,crosshair,pan,wheel_zoom,zoom_in,zoom_out,box_zoom,undo,redo,reset,tap,save,box_select,poly_select,lasso_select,\"\n",
    "\n",
    "p = figure(tools=TOOLS)\n",
    "\n",
    "p.scatter(\"x\", \"y\", radius=0.1, fill_alpha=0.6,\n",
    "          line_color=None,source=source)\n",
    "\n",
    "labels = LabelSet(x=\"x\", y=\"y\", text=\"labels\", y_offset=8,\n",
    "                  text_font_size=\"10pt\", text_color=\"#555555\", text_align='center',\n",
    "                 source=source)\n",
    "p.add_layout(labels)\n",
    "\n",
    "#output_file(\"embedding.html\")\n",
    "output_notebook()\n",
    "show(p)"
   ]
  },
  {
   "cell_type": "markdown",
   "metadata": {},
   "source": [
    "<h2>Saving the Model</h2>\n",
    "To save the model for use in making real-world predictions, potentially as part of a webapp, we need to freeze the tensorflow graph and transform the variables into constants to maintain the final network. The tutorial [here](https://blog.metaflow.fr/tensorflow-how-to-freeze-a-model-and-serve-it-with-a-python-api-d4f3596b3adc#.eopkd8pys) walks us through how to accomplish this."
   ]
  },
  {
   "cell_type": "code",
   "execution_count": 50,
   "metadata": {
    "collapsed": true
   },
   "outputs": [],
   "source": [
    "from tensorflow.python.framework import graph_util\n",
    "def freeze_graph(model):\n",
    "    # We precise the file fullname of our freezed graph\n",
    "    output_graph = \"/tmp/frozen_model.pb\"\n",
    "\n",
    "    # Before exporting our graph, we need to precise what is our output node\n",
    "    # This is how TF decides what part of the Graph he has to keep and what part it can dump\n",
    "    # NOTE: this variable is plural, because you can have multiple output nodes\n",
    "    output_node_names = \"InputData/X,FullyConnected/Softmax\"\n",
    "\n",
    "    # We clear devices to allow TensorFlow to control on which device it will load operations\n",
    "    clear_devices = True\n",
    "    \n",
    "    # We import the meta graph and retrieve a Saver\n",
    "    #saver = tf.train.import_meta_graph(input_checkpoint + '.meta', clear_devices=clear_devices)\n",
    "\n",
    "    # We retrieve the protobuf graph definition\n",
    "    graph = model.net.graph\n",
    "    input_graph_def = graph.as_graph_def()\n",
    "\n",
    "    # We start a session and restore the graph weights\n",
    "    # We use a built-in TF helper to export variables to constants\n",
    "    sess = model.session\n",
    "    output_graph_def = graph_util.convert_variables_to_constants(\n",
    "        sess, # The session is used to retrieve the weights\n",
    "        input_graph_def, # The graph_def is used to retrieve the nodes \n",
    "        output_node_names.split(\",\") # The output node names are used to select the usefull nodes\n",
    "    ) \n",
    "\n",
    "    # Finally we serialize and dump the output graph to the filesystem\n",
    "    with tf.gfile.GFile(output_graph, \"wb\") as f:\n",
    "        f.write(output_graph_def.SerializeToString())\n",
    "    print(\"%d ops in the final graph.\" % len(output_graph_def.node))"
   ]
  },
  {
   "cell_type": "code",
   "execution_count": 51,
   "metadata": {
    "collapsed": false
   },
   "outputs": [
    {
     "name": "stdout",
     "output_type": "stream",
     "text": [
      "INFO:tensorflow:Froze 152 variables.\n"
     ]
    },
    {
     "name": "stderr",
     "output_type": "stream",
     "text": [
      "INFO:tensorflow:Froze 152 variables.\n"
     ]
    },
    {
     "name": "stdout",
     "output_type": "stream",
     "text": [
      "Converted 8 variables to const ops.\n",
      "607 ops in the final graph.\n"
     ]
    }
   ],
   "source": [
    "freeze_graph(model)"
   ]
  },
  {
   "cell_type": "code",
   "execution_count": 53,
   "metadata": {
    "collapsed": true
   },
   "outputs": [],
   "source": [
    "def load_graph(frozen_graph_filename):\n",
    "    # We load the protobuf file from the disk and parse it to retrieve the \n",
    "    # unserialized graph_def\n",
    "    with tf.gfile.GFile(frozen_graph_filename, \"rb\") as f:\n",
    "        graph_def = tf.GraphDef()\n",
    "        graph_def.ParseFromString(f.read())\n",
    "\n",
    "    # Then, we can use again a convenient built-in function to import a graph_def into the \n",
    "    # current default Graph\n",
    "    with tf.Graph().as_default() as graph:\n",
    "        tf.import_graph_def(\n",
    "            graph_def, \n",
    "            input_map=None, \n",
    "            return_elements=None, \n",
    "            name=\"prefix\", \n",
    "            op_dict=None, \n",
    "            producer_op_list=None\n",
    "        )\n",
    "    return graph"
   ]
  },
  {
   "cell_type": "code",
   "execution_count": 54,
   "metadata": {
    "collapsed": false
   },
   "outputs": [],
   "source": [
    "grph = load_graph(\"/tmp/frozen_model.pb\")"
   ]
  },
  {
   "cell_type": "code",
   "execution_count": 55,
   "metadata": {
    "collapsed": false
   },
   "outputs": [
    {
     "name": "stdout",
     "output_type": "stream",
     "text": [
      "[[ 0.00027533  0.00027857  0.00027701 ...,  0.00027729  0.00027822\n",
      "   0.00027989]]\n"
     ]
    }
   ],
   "source": [
    "x = grph.get_tensor_by_name('prefix/InputData/X:0')\n",
    "y = grph.get_tensor_by_name(\"prefix/FullyConnected/Softmax:0\")\n",
    "\n",
    "# We launch a Session\n",
    "with tf.Session(graph=grph) as sess:\n",
    "    # Note: we didn't initialize/restore anything, everything is stored in the graph_def\n",
    "    y_out = sess.run(y, feed_dict={\n",
    "        x: [[1]*sequence_chunk_size] \n",
    "    })\n",
    "    print(y_out) # [[ False ]] Yay, it works!"
   ]
  },
  {
   "cell_type": "markdown",
   "metadata": {},
   "source": [
    "<h2>Final Recommender</h2>\n",
    "Using the model to predict the most likely subreddits to be of interest to a user, we can collect Reddit data for a specific user and provide the final recommendations."
   ]
  },
  {
   "cell_type": "code",
   "execution_count": 63,
   "metadata": {
    "collapsed": true
   },
   "outputs": [],
   "source": [
    "from collections import Counter\n",
    "def collect_user_data(user):\n",
    "    #Import configuration parameters, user agent for PRAW Reddit object\n",
    "    config = configparser.ConfigParser()\n",
    "    config.read('secrets.ini')\n",
    "\n",
    "    #load user agent string\n",
    "    reddit_user_agent = config.get('reddit', 'user_agent')\n",
    "    client_id = config.get('reddit', 'client_id')\n",
    "    client_secret = config.get('reddit', 'client_api_key')\n",
    "    #initialize the praw Reddit object\n",
    "    r = praw.Reddit(user_agent=reddit_user_agent,client_id = client_id,client_secret=client_secret) \n",
    "    praw_user = r.get_redditor(user)\n",
    "    user_data = [(user_comment.subreddit.display_name,\n",
    "                  user_comment.created_utc) for user_comment in praw_user.get_comments(limit=None)]\n",
    "    return sorted(user_data,key=lambda x: x[1]) #sort by ascending utc timestamp\n",
    "\n",
    "def user_recs(user,n_recs=10,chunk_size=sequence_chunk_size):\n",
    "    user_data = collect_user_data(user)\n",
    "    user_sub_seq = [vocab.index(data[0]) if data[0] in vocab else 0 for data in user_data]\n",
    "    non_repeating_subs = []\n",
    "    for i,sub in enumerate(user_sub_seq):\n",
    "        if i == 0:\n",
    "            non_repeating_subs.append(sub)\n",
    "        elif sub != user_sub_seq[i-1]:\n",
    "            non_repeating_subs.append(sub)\n",
    "    user_subs = set([vocab[sub_index] for sub_index in non_repeating_subs])\n",
    "    sub_chunks = list(chunks(non_repeating_subs,chunk_size))\n",
    "    user_input = pad_sequences(sub_chunks, maxlen=chunk_size, value=0.,padding='post')\n",
    "    x = grph.get_tensor_by_name('prefix/InputData/X:0')\n",
    "    y = grph.get_tensor_by_name(\"prefix/FullyConnected/Softmax:0\")\n",
    "    with tf.Session(graph=grph) as sess:\n",
    "        sub_probs = sess.run(y, feed_dict={\n",
    "            x: user_input\n",
    "        })\n",
    "    recs = [np.argmax(probs) for probs in sub_probs]\n",
    "    filtered_recs = [filt_rec for filt_rec in recs if filt_rec not in user_sub_seq]\n",
    "    top_x_recs,cnt = zip(*Counter(filtered_recs).most_common(n_recs))\n",
    "    sub_recs = [vocab[sub_index] for sub_index in top_x_recs]\n",
    "    return sub_recs"
   ]
  },
  {
   "cell_type": "code",
   "execution_count": 64,
   "metadata": {
    "collapsed": false
   },
   "outputs": [
    {
     "data": {
      "text/plain": [
       "['CruciblePlaybook', 'pipetobaccomarket']"
      ]
     },
     "execution_count": 64,
     "metadata": {},
     "output_type": "execute_result"
    }
   ],
   "source": [
    "user_recs(\"ponderinghydrogen\")"
   ]
  },
  {
   "cell_type": "markdown",
   "metadata": {},
   "source": [
    "<h2>The Web App</h2>\n",
    "Those are all the pieces required to build a functioning subreddit recommender system that users can try! Using Flask, a simple web app can be made taking as input any valid reddit user name and outputting recommendations for that user. A minimal web app doing just that can be interacted with [here](http://ponderinghydrogen.pythonanywhere.com/)\n",
    "\n",
    "![title](wepapp.PNG)\n",
    "\n",
    "<h2>Final Thoughts</h2>\n",
    "The model being served in the above webapp is an under-tuned and under-dataed proof-of-concept single layer RNN, but it is still  surprisingly capable of suggesting interesting subreddits to some testers I've had use the app. Nueral Networks really are powerful methods for tackling difficult problems, and with better and better Machine Learning research and tooling being released daily, and increasingly powerful computers, the pool of potential problems solvable by a determined engineer keeps getting larger. I'm looking forward to tackling the next one."
   ]
  }
 ],
 "metadata": {
  "kernelspec": {
   "display_name": "Python 3",
   "language": "python",
   "name": "python3"
  },
  "language_info": {
   "codemirror_mode": {
    "name": "ipython",
    "version": 3
   },
   "file_extension": ".py",
   "mimetype": "text/x-python",
   "name": "python",
   "nbconvert_exporter": "python",
   "pygments_lexer": "ipython3",
   "version": "3.5.2"
  }
 },
 "nbformat": 4,
 "nbformat_minor": 0
}
