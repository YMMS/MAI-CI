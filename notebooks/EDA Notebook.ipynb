{
 "cells": [
  {
   "cell_type": "markdown",
   "metadata": {},
   "source": [
    "<b>Scratch Pad</b>  \n",
    "User interaction data (ie # of comments, per subreddit etc)  - Can be used as word move weight/count  \n",
    "Architecture - WMD fed into net with features as top X closest users (ie user 1,8,56,123) which are ordered by their inherent embedding distances from a reference user (ie a default sub user), could also include furthest users, add NLP/content features for fine tuning suggestions from close users.  \n",
    "Need to deal with aging problem of recommender systems  \n",
    "Need to update network gefx file  \n",
    "identify users very far from you to introduce outside perspectives  \n",
    "Center of gravity of user comments over time of user account age  \n",
    "comment -> subreddit sequenced RNN, predict next subreddit to comment in?  \n",
    "Use subbeddit tags and related subreddits for network connections in embedding network\n",
    "\n"
   ]
  },
  {
   "cell_type": "code",
   "execution_count": 1,
   "metadata": {
    "collapsed": false
   },
   "outputs": [],
   "source": [
    "import json\n",
    "import os\n",
    "import pandas as pd\n",
    "import numpy as np\n",
    "import matplotlib.pyplot as plt\n",
    "from ggplot import *\n",
    "import networkx as nx\n",
    "from networkx.readwrite import json_graph\n",
    "from operator import itemgetter\n",
    "from collections import Counter\n",
    "from bs4 import BeautifulSoup\n",
    "from pyemd import emd\n",
    "import random\n",
    "from sklearn.metrics import euclidean_distances\n",
    "%matplotlib inline"
   ]
  },
  {
   "cell_type": "markdown",
   "metadata": {},
   "source": [
    "<h1>Introduction</h1>\n",
    "In this notebook, we explore a dataset compiled using Reddit's PRAW API in collecting historical user subbreddit comments. The goal of this analysis is to inform the development of a Recurrent Nueral Network model that can be used as a recommender system in recommending users new subreddits based on their historical subreddit commenting patterns.  \n",
    "\n",
    "<h2>Dataset</h2>\n",
    "\n",
    "The dataset was compiled using a python scrapper developed using Reddit's PRAW API. The raw data is a list of 3-tuples of [username,subreddit,utc timestamp]. Each row represents a single comments made by the user."
   ]
  },
  {
   "cell_type": "code",
   "execution_count": 2,
   "metadata": {
    "collapsed": false
   },
   "outputs": [],
   "source": [
    "with open('../SubRecommender/data/train_reddit_data.json','r') as data_file:    \n",
    "    reddit_data = json.load(data_file)"
   ]
  },
  {
   "cell_type": "code",
   "execution_count": 3,
   "metadata": {
    "collapsed": false
   },
   "outputs": [
    {
     "data": {
      "text/html": [
       "<div>\n",
       "<table border=\"1\" class=\"dataframe\">\n",
       "  <thead>\n",
       "    <tr style=\"text-align: right;\">\n",
       "      <th></th>\n",
       "      <th>user</th>\n",
       "      <th>subreddit</th>\n",
       "      <th>utc_stamp</th>\n",
       "    </tr>\n",
       "  </thead>\n",
       "  <tbody>\n",
       "    <tr>\n",
       "      <th>0</th>\n",
       "      <td>kabanossi</td>\n",
       "      <td>photoshopbattles</td>\n",
       "      <td>2016-12-26 10:24:59</td>\n",
       "    </tr>\n",
       "    <tr>\n",
       "      <th>1</th>\n",
       "      <td>kabanossi</td>\n",
       "      <td>GetMotivated</td>\n",
       "      <td>2016-12-26 10:23:14</td>\n",
       "    </tr>\n",
       "    <tr>\n",
       "      <th>2</th>\n",
       "      <td>kabanossi</td>\n",
       "      <td>vmware</td>\n",
       "      <td>2016-12-26 10:21:16</td>\n",
       "    </tr>\n",
       "    <tr>\n",
       "      <th>3</th>\n",
       "      <td>kabanossi</td>\n",
       "      <td>carporn</td>\n",
       "      <td>2016-12-26 10:20:18</td>\n",
       "    </tr>\n",
       "    <tr>\n",
       "      <th>4</th>\n",
       "      <td>kabanossi</td>\n",
       "      <td>DIY</td>\n",
       "      <td>2016-12-26 10:17:59</td>\n",
       "    </tr>\n",
       "  </tbody>\n",
       "</table>\n",
       "</div>"
      ],
      "text/plain": [
       "        user         subreddit           utc_stamp\n",
       "0  kabanossi  photoshopbattles 2016-12-26 10:24:59\n",
       "1  kabanossi      GetMotivated 2016-12-26 10:23:14\n",
       "2  kabanossi            vmware 2016-12-26 10:21:16\n",
       "3  kabanossi           carporn 2016-12-26 10:20:18\n",
       "4  kabanossi               DIY 2016-12-26 10:17:59"
      ]
     },
     "execution_count": 3,
     "metadata": {},
     "output_type": "execute_result"
    }
   ],
   "source": [
    "df = pd.DataFrame(reddit_data,columns=['user','subreddit','utc_stamp'])\n",
    "df['utc_stamp'] = pd.to_datetime(df['utc_stamp'],unit='s')\n",
    "df.head()"
   ]
  },
  {
   "cell_type": "code",
   "execution_count": 4,
   "metadata": {
    "collapsed": false
   },
   "outputs": [
    {
     "name": "stdout",
     "output_type": "stream",
     "text": [
      "Unique Users = 1849\n",
      "Unique Subreddits = 11476\n"
     ]
    },
    {
     "data": {
      "text/plain": [
       "(1218648, 3)"
      ]
     },
     "execution_count": 4,
     "metadata": {},
     "output_type": "execute_result"
    }
   ],
   "source": [
    "print(\"Unique Users = \" + str(len(df.groupby('user')['user'].nunique())))\n",
    "print(\"Unique Subreddits = \" + str(len(df.groupby('subreddit')['subreddit'].nunique())))\n",
    "df.shape"
   ]
  },
  {
   "cell_type": "markdown",
   "metadata": {},
   "source": [
    "<h2>Subreddit Data</h2>"
   ]
  },
  {
   "cell_type": "code",
   "execution_count": 5,
   "metadata": {
    "collapsed": false
   },
   "outputs": [
    {
     "data": {
      "image/png": "[encoded data removed]",
      "text/plain": [
       "<matplotlib.figure.Figure at 0x17a8645eba8>"
      ]
     },
     "metadata": {},
     "output_type": "display_data"
    }
   ],
   "source": [
    "user_subs = df.groupby(['user'])['subreddit'].nunique()\n",
    "plt.hist(user_subs.values, bins=100)\n",
    "plt.title(\"User vs Sub Counts Histogram\")\n",
    "plt.show()"
   ]
  },
  {
   "cell_type": "code",
   "execution_count": 6,
   "metadata": {
    "collapsed": false
   },
   "outputs": [
    {
     "data": {
      "text/html": [
       "<div>\n",
       "<table border=\"1\" class=\"dataframe\">\n",
       "  <thead>\n",
       "    <tr style=\"text-align: right;\">\n",
       "      <th></th>\n",
       "      <th>sub</th>\n",
       "      <th>user_count</th>\n",
       "    </tr>\n",
       "  </thead>\n",
       "  <tbody>\n",
       "    <tr>\n",
       "      <th>458</th>\n",
       "      <td>AskReddit</td>\n",
       "      <td>1419</td>\n",
       "    </tr>\n",
       "    <tr>\n",
       "      <th>9660</th>\n",
       "      <td>pics</td>\n",
       "      <td>1143</td>\n",
       "    </tr>\n",
       "    <tr>\n",
       "      <th>7882</th>\n",
       "      <td>funny</td>\n",
       "      <td>1101</td>\n",
       "    </tr>\n",
       "    <tr>\n",
       "      <th>10880</th>\n",
       "      <td>todayilearned</td>\n",
       "      <td>1081</td>\n",
       "    </tr>\n",
       "    <tr>\n",
       "      <th>11374</th>\n",
       "      <td>worldnews</td>\n",
       "      <td>1010</td>\n",
       "    </tr>\n",
       "    <tr>\n",
       "      <th>11165</th>\n",
       "      <td>videos</td>\n",
       "      <td>988</td>\n",
       "    </tr>\n",
       "    <tr>\n",
       "      <th>7942</th>\n",
       "      <td>gaming</td>\n",
       "      <td>945</td>\n",
       "    </tr>\n",
       "    <tr>\n",
       "      <th>9289</th>\n",
       "      <td>news</td>\n",
       "      <td>944</td>\n",
       "    </tr>\n",
       "    <tr>\n",
       "      <th>8014</th>\n",
       "      <td>gifs</td>\n",
       "      <td>935</td>\n",
       "    </tr>\n",
       "    <tr>\n",
       "      <th>4765</th>\n",
       "      <td>Showerthoughts</td>\n",
       "      <td>824</td>\n",
       "    </tr>\n",
       "    <tr>\n",
       "      <th>9178</th>\n",
       "      <td>movies</td>\n",
       "      <td>820</td>\n",
       "    </tr>\n",
       "    <tr>\n",
       "      <th>2563</th>\n",
       "      <td>IAmA</td>\n",
       "      <td>774</td>\n",
       "    </tr>\n",
       "    <tr>\n",
       "      <th>9739</th>\n",
       "      <td>politics</td>\n",
       "      <td>723</td>\n",
       "    </tr>\n",
       "    <tr>\n",
       "      <th>5750</th>\n",
       "      <td>WTF</td>\n",
       "      <td>722</td>\n",
       "    </tr>\n",
       "    <tr>\n",
       "      <th>6349</th>\n",
       "      <td>aww</td>\n",
       "      <td>715</td>\n",
       "    </tr>\n",
       "    <tr>\n",
       "      <th>9073</th>\n",
       "      <td>mildlyinteresting</td>\n",
       "      <td>710</td>\n",
       "    </tr>\n",
       "    <tr>\n",
       "      <th>192</th>\n",
       "      <td>AdviceAnimals</td>\n",
       "      <td>611</td>\n",
       "    </tr>\n",
       "    <tr>\n",
       "      <th>10719</th>\n",
       "      <td>television</td>\n",
       "      <td>588</td>\n",
       "    </tr>\n",
       "    <tr>\n",
       "      <th>10150</th>\n",
       "      <td>science</td>\n",
       "      <td>579</td>\n",
       "    </tr>\n",
       "    <tr>\n",
       "      <th>7611</th>\n",
       "      <td>explainlikeimfive</td>\n",
       "      <td>575</td>\n",
       "    </tr>\n",
       "    <tr>\n",
       "      <th>9374</th>\n",
       "      <td>nottheonion</td>\n",
       "      <td>562</td>\n",
       "    </tr>\n",
       "    <tr>\n",
       "      <th>3540</th>\n",
       "      <td>Music</td>\n",
       "      <td>553</td>\n",
       "    </tr>\n",
       "    <tr>\n",
       "      <th>10706</th>\n",
       "      <td>technology</td>\n",
       "      <td>543</td>\n",
       "    </tr>\n",
       "    <tr>\n",
       "      <th>3131</th>\n",
       "      <td>LifeProTips</td>\n",
       "      <td>529</td>\n",
       "    </tr>\n",
       "    <tr>\n",
       "      <th>3836</th>\n",
       "      <td>OldSchoolCool</td>\n",
       "      <td>489</td>\n",
       "    </tr>\n",
       "    <tr>\n",
       "      <th>2888</th>\n",
       "      <td>Jokes</td>\n",
       "      <td>457</td>\n",
       "    </tr>\n",
       "    <tr>\n",
       "      <th>2097</th>\n",
       "      <td>Futurology</td>\n",
       "      <td>450</td>\n",
       "    </tr>\n",
       "    <tr>\n",
       "      <th>10846</th>\n",
       "      <td>tifu</td>\n",
       "      <td>446</td>\n",
       "    </tr>\n",
       "    <tr>\n",
       "      <th>9603</th>\n",
       "      <td>pcmasterrace</td>\n",
       "      <td>446</td>\n",
       "    </tr>\n",
       "    <tr>\n",
       "      <th>10453</th>\n",
       "      <td>space</td>\n",
       "      <td>440</td>\n",
       "    </tr>\n",
       "    <tr>\n",
       "      <th>8464</th>\n",
       "      <td>interestingasfuck</td>\n",
       "      <td>435</td>\n",
       "    </tr>\n",
       "    <tr>\n",
       "      <th>7222</th>\n",
       "      <td>dataisbeautiful</td>\n",
       "      <td>412</td>\n",
       "    </tr>\n",
       "    <tr>\n",
       "      <th>5331</th>\n",
       "      <td>The_Donald</td>\n",
       "      <td>408</td>\n",
       "    </tr>\n",
       "    <tr>\n",
       "      <th>10481</th>\n",
       "      <td>sports</td>\n",
       "      <td>400</td>\n",
       "    </tr>\n",
       "    <tr>\n",
       "      <th>746</th>\n",
       "      <td>BlackPeopleTwitter</td>\n",
       "      <td>400</td>\n",
       "    </tr>\n",
       "    <tr>\n",
       "      <th>7117</th>\n",
       "      <td>creepy</td>\n",
       "      <td>386</td>\n",
       "    </tr>\n",
       "    <tr>\n",
       "      <th>6299</th>\n",
       "      <td>atheism</td>\n",
       "      <td>370</td>\n",
       "    </tr>\n",
       "    <tr>\n",
       "      <th>6638</th>\n",
       "      <td>books</td>\n",
       "      <td>368</td>\n",
       "    </tr>\n",
       "    <tr>\n",
       "      <th>5631</th>\n",
       "      <td>UpliftingNews</td>\n",
       "      <td>367</td>\n",
       "    </tr>\n",
       "    <tr>\n",
       "      <th>7766</th>\n",
       "      <td>food</td>\n",
       "      <td>356</td>\n",
       "    </tr>\n",
       "    <tr>\n",
       "      <th>1568</th>\n",
       "      <td>Documentaries</td>\n",
       "      <td>341</td>\n",
       "    </tr>\n",
       "    <tr>\n",
       "      <th>5542</th>\n",
       "      <td>TwoXChromosomes</td>\n",
       "      <td>333</td>\n",
       "    </tr>\n",
       "    <tr>\n",
       "      <th>2617</th>\n",
       "      <td>ImGoingToHellForThis</td>\n",
       "      <td>323</td>\n",
       "    </tr>\n",
       "    <tr>\n",
       "      <th>11354</th>\n",
       "      <td>woahdude</td>\n",
       "      <td>317</td>\n",
       "    </tr>\n",
       "    <tr>\n",
       "      <th>2204</th>\n",
       "      <td>GetMotivated</td>\n",
       "      <td>313</td>\n",
       "    </tr>\n",
       "    <tr>\n",
       "      <th>6502</th>\n",
       "      <td>bestof</td>\n",
       "      <td>312</td>\n",
       "    </tr>\n",
       "    <tr>\n",
       "      <th>5525</th>\n",
       "      <td>TumblrInAction</td>\n",
       "      <td>311</td>\n",
       "    </tr>\n",
       "    <tr>\n",
       "      <th>10958</th>\n",
       "      <td>trees</td>\n",
       "      <td>308</td>\n",
       "    </tr>\n",
       "    <tr>\n",
       "      <th>9716</th>\n",
       "      <td>pokemongo</td>\n",
       "      <td>303</td>\n",
       "    </tr>\n",
       "    <tr>\n",
       "      <th>1352</th>\n",
       "      <td>DIY</td>\n",
       "      <td>297</td>\n",
       "    </tr>\n",
       "  </tbody>\n",
       "</table>\n",
       "</div>"
      ],
      "text/plain": [
       "                        sub  user_count\n",
       "458               AskReddit        1419\n",
       "9660                   pics        1143\n",
       "7882                  funny        1101\n",
       "10880         todayilearned        1081\n",
       "11374             worldnews        1010\n",
       "11165                videos         988\n",
       "7942                 gaming         945\n",
       "9289                   news         944\n",
       "8014                   gifs         935\n",
       "4765         Showerthoughts         824\n",
       "9178                 movies         820\n",
       "2563                   IAmA         774\n",
       "9739               politics         723\n",
       "5750                    WTF         722\n",
       "6349                    aww         715\n",
       "9073      mildlyinteresting         710\n",
       "192           AdviceAnimals         611\n",
       "10719            television         588\n",
       "10150               science         579\n",
       "7611      explainlikeimfive         575\n",
       "9374            nottheonion         562\n",
       "3540                  Music         553\n",
       "10706            technology         543\n",
       "3131            LifeProTips         529\n",
       "3836          OldSchoolCool         489\n",
       "2888                  Jokes         457\n",
       "2097             Futurology         450\n",
       "10846                  tifu         446\n",
       "9603           pcmasterrace         446\n",
       "10453                 space         440\n",
       "8464      interestingasfuck         435\n",
       "7222        dataisbeautiful         412\n",
       "5331             The_Donald         408\n",
       "10481                sports         400\n",
       "746      BlackPeopleTwitter         400\n",
       "7117                 creepy         386\n",
       "6299                atheism         370\n",
       "6638                  books         368\n",
       "5631          UpliftingNews         367\n",
       "7766                   food         356\n",
       "1568          Documentaries         341\n",
       "5542        TwoXChromosomes         333\n",
       "2617   ImGoingToHellForThis         323\n",
       "11354              woahdude         317\n",
       "2204           GetMotivated         313\n",
       "6502                 bestof         312\n",
       "5525         TumblrInAction         311\n",
       "10958                 trees         308\n",
       "9716              pokemongo         303\n",
       "1352                    DIY         297"
      ]
     },
     "execution_count": 6,
     "metadata": {},
     "output_type": "execute_result"
    }
   ],
   "source": [
    "sub_users = df.groupby(['subreddit'])['user'].nunique()\n",
    "data_tuple = pd.DataFrame([(sub,count) for sub,count in sub_users.items()],columns=[\"sub\",\"user_count\"])\n",
    "sorted_df = data_tuple.sort_values(by='user_count',ascending=False)\n",
    "sorted_df.head(50)"
   ]
  },
  {
   "cell_type": "code",
   "execution_count": 7,
   "metadata": {
    "collapsed": false
   },
   "outputs": [
    {
     "data": {
      "image/png": "[encoded data removed]",
      "text/plain": [
       "<matplotlib.figure.Figure at 0x17ae8d570f0>"
      ]
     },
     "metadata": {},
     "output_type": "display_data"
    }
   ],
   "source": [
    "user_summary = df.groupby(by=['user'])['user']\n",
    "plt.hist(user_summary.value_counts(), bins=100)\n",
    "plt.show()"
   ]
  },
  {
   "cell_type": "code",
   "execution_count": 8,
   "metadata": {
    "collapsed": false
   },
   "outputs": [
    {
     "data": {
      "image/png": "[encoded data removed]",
      "text/plain": [
       "<matplotlib.figure.Figure at 0x17a8645e470>"
      ]
     },
     "metadata": {},
     "output_type": "display_data"
    }
   ],
   "source": [
    "plt.hist(user_summary.value_counts(), bins=100)\n",
    "axes = plt.gca()\n",
    "axes.set_ylim([0,250])\n",
    "plt.show()"
   ]
  },
  {
   "cell_type": "code",
   "execution_count": 9,
   "metadata": {
    "collapsed": false
   },
   "outputs": [],
   "source": [
    "users_vs_subs = []\n",
    "current_user = reddit_data[0][0]\n",
    "subs = []\n",
    "interaction_count = 0\n",
    "sub_discovery_time = []\n",
    "usr_sub_discovery_time = [0]\n",
    "user_subs_list = []\n",
    "for i,comment in enumerate(reddit_data):\n",
    "    if comment[0] != current_user:\n",
    "        user_subs_list = [comment[1]]\n",
    "        sub_discovery_time.append(usr_sub_discovery_time)\n",
    "        usr_sub_discovery_time = []\n",
    "        interaction_count = 0\n",
    "        users_vs_subs.append(len(subs))\n",
    "    elif comment[1] not in user_subs_list:\n",
    "        usr_sub_discovery_time.append(interaction_count)\n",
    "        interaction_count = 0\n",
    "        user_subs_list.append(comment[1])\n",
    "    if comment[1] not in subs:\n",
    "        subs.append(comment[1])\n",
    "    current_user = comment[0]\n",
    "    if comment[1] != reddit_data[i-1][1]:\n",
    "        interaction_count = interaction_count + 1"
   ]
  },
  {
   "cell_type": "code",
   "execution_count": 10,
   "metadata": {
    "collapsed": false
   },
   "outputs": [
    {
     "data": {
      "image/png": "[encoded data removed]",
      "text/plain": [
       "<matplotlib.figure.Figure at 0x17a86d67400>"
      ]
     },
     "metadata": {},
     "output_type": "display_data"
    }
   ],
   "source": [
    "indexes = np.arange(len(users_vs_subs))\n",
    "plt.plot(indexes,users_vs_subs)\n",
    "plt.title(\"Unique Subreddits vs User Count\")\n",
    "plt.show()"
   ]
  },
  {
   "cell_type": "markdown",
   "metadata": {},
   "source": [
    "<h1>Model Architecture</h1>\n",
    "\n",
    "The hypothesis of the recommender model is that, given an ordered sequence of user subreddit interactions, patterns will emerge that favour the discovery of paticular new subreddits given that historical user interaction sequence. The intuition is, that as users interact with the Reddit ecosystem, they discover new subreddits of interest, but these new discoveries are influenced by the communities they have previously been interacting with. We can then train a model to recognize these emergent subreddit discoveries based on users historical subreddit discovery patterns. When the model is presented with a new sequence of user interaction, it \"remembers\" other users that historically had similiar interaction habits and recommend their subreddits that the current user has yet to discover.  \n",
    "\n",
    "To build the training dataset, the subreddit interaction sequence for each user can be ordered and then split into chunks representing different periods of Reddit interaction and discovery. From each chunk, we can randomly remove a single subreddit from the interaction as the \"discovered\" subreddit and use it as our training label for the interaction sequences. This formulation brings with it a hyperparameter that will require tuning, namely the sequence size of each chunk of user interaction periods. There are also a couple design decisions needed that will create inherent assumptions in the model. This includes whether the labelled \"discovered\" subreddit should be randomly chosen from each interaction sequence, or should there be a more structured selection (ie. The latest subreddit to be interacted with in the sequence.) Also, should the sequences encode ever single comment interaction or only a subset, such as when the user switches between subreddits, as it may be possible to develop long sequences of the same subreddit repeatedly as the user engages in a conversation thread in a single subreddit over a short period. These design decisions will greatly influence the efficacy of the final model, and require exploration."
   ]
  },
  {
   "cell_type": "code",
   "execution_count": 11,
   "metadata": {
    "collapsed": false
   },
   "outputs": [
    {
     "data": {
      "image/png": "[encoded data removed]",
      "text/plain": [
       "<matplotlib.figure.Figure at 0x17a8883e3c8>"
      ]
     },
     "metadata": {},
     "output_type": "display_data"
    }
   ],
   "source": [
    "disc_times = [usr_dts[-1] for usr_dts in sub_discovery_time if usr_dts and usr_dts[-1] > 1 and  usr_dts[-1] <100]\n",
    "plt.hist(disc_times , bins=90)\n",
    "plt.title(\"New Sub Discovery Time Steps\")\n",
    "plt.show()"
   ]
  },
  {
   "cell_type": "code",
   "execution_count": 12,
   "metadata": {
    "collapsed": false
   },
   "outputs": [
    {
     "data": {
      "text/plain": [
       "54.0"
      ]
     },
     "execution_count": 12,
     "metadata": {},
     "output_type": "execute_result"
    }
   ],
   "source": [
    "np.percentile(disc_times,95)"
   ]
  },
  {
   "cell_type": "code",
   "execution_count": 13,
   "metadata": {
    "collapsed": false
   },
   "outputs": [
    {
     "data": {
      "image/png": "[encoded data removed]",
      "text/plain": [
       "<matplotlib.figure.Figure at 0x17a8886dc88>"
      ]
     },
     "metadata": {},
     "output_type": "display_data"
    }
   ],
   "source": [
    "non_rep_interaction = [sum(usr_dts) for usr_dts in sub_discovery_time]\n",
    "plt.hist(non_rep_interaction , bins=90)\n",
    "plt.title(\"Total Non-Repeating User Interactions\")\n",
    "plt.show()"
   ]
  },
  {
   "cell_type": "code",
   "execution_count": 14,
   "metadata": {
    "collapsed": false
   },
   "outputs": [
    {
     "data": {
      "text/plain": [
       "319.50703463203462"
      ]
     },
     "execution_count": 14,
     "metadata": {},
     "output_type": "execute_result"
    }
   ],
   "source": [
    "np.mean(non_rep_interaction)"
   ]
  },
  {
   "cell_type": "code",
   "execution_count": 15,
   "metadata": {
    "collapsed": false
   },
   "outputs": [
    {
     "data": {
      "image/png": "[encoded data removed]",
      "text/plain": [
       "<matplotlib.figure.Figure at 0x17a88ba0438>"
      ]
     },
     "metadata": {},
     "output_type": "display_data"
    }
   ],
   "source": [
    "flt_disc_times = [dt for usr_dts in sub_discovery_time for dt in usr_dts[50:] if dt < 50]\n",
    "plt.hist(flt_disc_times , bins=50)\n",
    "plt.title(\"Truncated New Sub Discovery Time Steps\")\n",
    "plt.show()"
   ]
  },
  {
   "cell_type": "code",
   "execution_count": 16,
   "metadata": {
    "collapsed": false
   },
   "outputs": [
    {
     "data": {
      "text/plain": [
       "6.1827787129353879"
      ]
     },
     "execution_count": 16,
     "metadata": {},
     "output_type": "execute_result"
    }
   ],
   "source": [
    "np.mean(flt_disc_times)"
   ]
  },
  {
   "cell_type": "code",
   "execution_count": 17,
   "metadata": {
    "collapsed": false
   },
   "outputs": [
    {
     "data": {
      "text/plain": [
       "[(12, 17),\n",
       " (26, 15),\n",
       " (32, 15),\n",
       " (56, 14),\n",
       " (2, 13),\n",
       " (7, 13),\n",
       " (22, 13),\n",
       " (178, 13),\n",
       " (16, 12),\n",
       " (449, 12)]"
      ]
     },
     "execution_count": 17,
     "metadata": {},
     "output_type": "execute_result"
    }
   ],
   "source": [
    "seq_df = pd.read_json(\"../SubRecommender/data/3126_51_5_sequence_data.json\")\n",
    "Counter(seq_df[\"sub_label\"]).most_common(10)"
   ]
  },
  {
   "cell_type": "code",
   "execution_count": 18,
   "metadata": {
    "collapsed": false
   },
   "outputs": [
    {
     "data": {
      "image/png": "[encoded data removed]",
      "text/plain": [
       "<matplotlib.figure.Figure at 0x17a88c14828>"
      ]
     },
     "metadata": {},
     "output_type": "display_data"
    }
   ],
   "source": [
    "y = Counter(seq_df[\"sub_label\"]).values()\n",
    "x = range(len(y))\n",
    "plt.bar(x,y)\n",
    "plt.show()"
   ]
  },
  {
   "cell_type": "code",
   "execution_count": 19,
   "metadata": {
    "collapsed": false
   },
   "outputs": [
    {
     "data": {
      "text/plain": [
       "2726"
      ]
     },
     "execution_count": 19,
     "metadata": {},
     "output_type": "execute_result"
    }
   ],
   "source": [
    "len(Counter(seq_df[\"sub_label\"]).keys())"
   ]
  },
  {
   "cell_type": "code",
   "execution_count": 20,
   "metadata": {
    "collapsed": false
   },
   "outputs": [
    {
     "data": {
      "text/plain": [
       "0.2267892317793828"
      ]
     },
     "execution_count": 20,
     "metadata": {},
     "output_type": "execute_result"
    }
   ],
   "source": [
    "1727/len(seq_df[\"sub_label\"])"
   ]
  },
  {
   "cell_type": "markdown",
   "metadata": {},
   "source": [
    "<h2>User Temporal Data</h2>"
   ]
  },
  {
   "cell_type": "code",
   "execution_count": 21,
   "metadata": {
    "collapsed": false
   },
   "outputs": [
    {
     "data": {
      "text/html": [
       "<div>\n",
       "<table border=\"1\" class=\"dataframe\">\n",
       "  <thead>\n",
       "    <tr style=\"text-align: right;\">\n",
       "      <th></th>\n",
       "      <th>user</th>\n",
       "      <th>subreddit</th>\n",
       "      <th>utc_stamp</th>\n",
       "    </tr>\n",
       "  </thead>\n",
       "  <tbody>\n",
       "    <tr>\n",
       "      <th>0</th>\n",
       "      <td>kabanossi</td>\n",
       "      <td>photoshopbattles</td>\n",
       "      <td>2016-12-26 10:24:59</td>\n",
       "    </tr>\n",
       "    <tr>\n",
       "      <th>1</th>\n",
       "      <td>kabanossi</td>\n",
       "      <td>GetMotivated</td>\n",
       "      <td>2016-12-26 10:23:14</td>\n",
       "    </tr>\n",
       "    <tr>\n",
       "      <th>2</th>\n",
       "      <td>kabanossi</td>\n",
       "      <td>vmware</td>\n",
       "      <td>2016-12-26 10:21:16</td>\n",
       "    </tr>\n",
       "    <tr>\n",
       "      <th>3</th>\n",
       "      <td>kabanossi</td>\n",
       "      <td>carporn</td>\n",
       "      <td>2016-12-26 10:20:18</td>\n",
       "    </tr>\n",
       "    <tr>\n",
       "      <th>4</th>\n",
       "      <td>kabanossi</td>\n",
       "      <td>DIY</td>\n",
       "      <td>2016-12-26 10:17:59</td>\n",
       "    </tr>\n",
       "    <tr>\n",
       "      <th>5</th>\n",
       "      <td>kabanossi</td>\n",
       "      <td>food</td>\n",
       "      <td>2016-12-26 10:15:18</td>\n",
       "    </tr>\n",
       "    <tr>\n",
       "      <th>6</th>\n",
       "      <td>kabanossi</td>\n",
       "      <td>CatastrophicFailure</td>\n",
       "      <td>2016-12-23 17:21:11</td>\n",
       "    </tr>\n",
       "    <tr>\n",
       "      <th>7</th>\n",
       "      <td>kabanossi</td>\n",
       "      <td>photoshopbattles</td>\n",
       "      <td>2016-12-23 17:18:36</td>\n",
       "    </tr>\n",
       "    <tr>\n",
       "      <th>8</th>\n",
       "      <td>kabanossi</td>\n",
       "      <td>carporn</td>\n",
       "      <td>2016-12-23 17:16:51</td>\n",
       "    </tr>\n",
       "    <tr>\n",
       "      <th>9</th>\n",
       "      <td>kabanossi</td>\n",
       "      <td>techsupport</td>\n",
       "      <td>2016-12-23 17:07:17</td>\n",
       "    </tr>\n",
       "    <tr>\n",
       "      <th>10</th>\n",
       "      <td>kabanossi</td>\n",
       "      <td>VapePorn</td>\n",
       "      <td>2016-12-23 17:03:35</td>\n",
       "    </tr>\n",
       "    <tr>\n",
       "      <th>11</th>\n",
       "      <td>kabanossi</td>\n",
       "      <td>nottheonion</td>\n",
       "      <td>2016-12-23 17:02:29</td>\n",
       "    </tr>\n",
       "    <tr>\n",
       "      <th>12</th>\n",
       "      <td>kabanossi</td>\n",
       "      <td>Citrix</td>\n",
       "      <td>2016-12-23 15:15:15</td>\n",
       "    </tr>\n",
       "    <tr>\n",
       "      <th>13</th>\n",
       "      <td>kabanossi</td>\n",
       "      <td>sysadmin</td>\n",
       "      <td>2016-12-22 13:37:58</td>\n",
       "    </tr>\n",
       "    <tr>\n",
       "      <th>14</th>\n",
       "      <td>kabanossi</td>\n",
       "      <td>VapePorn</td>\n",
       "      <td>2016-12-21 16:42:14</td>\n",
       "    </tr>\n",
       "    <tr>\n",
       "      <th>15</th>\n",
       "      <td>kabanossi</td>\n",
       "      <td>carporn</td>\n",
       "      <td>2016-12-21 16:40:05</td>\n",
       "    </tr>\n",
       "    <tr>\n",
       "      <th>16</th>\n",
       "      <td>kabanossi</td>\n",
       "      <td>food</td>\n",
       "      <td>2016-12-21 16:38:44</td>\n",
       "    </tr>\n",
       "    <tr>\n",
       "      <th>17</th>\n",
       "      <td>kabanossi</td>\n",
       "      <td>HyperV</td>\n",
       "      <td>2016-12-21 13:54:25</td>\n",
       "    </tr>\n",
       "    <tr>\n",
       "      <th>18</th>\n",
       "      <td>kabanossi</td>\n",
       "      <td>DIY</td>\n",
       "      <td>2016-12-21 08:47:26</td>\n",
       "    </tr>\n",
       "    <tr>\n",
       "      <th>19</th>\n",
       "      <td>kabanossi</td>\n",
       "      <td>Vaping</td>\n",
       "      <td>2016-12-21 08:46:20</td>\n",
       "    </tr>\n",
       "    <tr>\n",
       "      <th>20</th>\n",
       "      <td>kabanossi</td>\n",
       "      <td>food</td>\n",
       "      <td>2016-12-20 17:07:03</td>\n",
       "    </tr>\n",
       "    <tr>\n",
       "      <th>21</th>\n",
       "      <td>kabanossi</td>\n",
       "      <td>Vaping</td>\n",
       "      <td>2016-12-20 17:05:53</td>\n",
       "    </tr>\n",
       "    <tr>\n",
       "      <th>22</th>\n",
       "      <td>kabanossi</td>\n",
       "      <td>photoshopbattles</td>\n",
       "      <td>2016-12-20 17:01:23</td>\n",
       "    </tr>\n",
       "    <tr>\n",
       "      <th>23</th>\n",
       "      <td>kabanossi</td>\n",
       "      <td>vmware</td>\n",
       "      <td>2016-12-20 15:27:06</td>\n",
       "    </tr>\n",
       "    <tr>\n",
       "      <th>24</th>\n",
       "      <td>kabanossi</td>\n",
       "      <td>photoshopbattles</td>\n",
       "      <td>2016-12-19 17:12:37</td>\n",
       "    </tr>\n",
       "    <tr>\n",
       "      <th>25</th>\n",
       "      <td>kabanossi</td>\n",
       "      <td>food</td>\n",
       "      <td>2016-12-19 17:11:55</td>\n",
       "    </tr>\n",
       "    <tr>\n",
       "      <th>26</th>\n",
       "      <td>kabanossi</td>\n",
       "      <td>photoshopbattles</td>\n",
       "      <td>2016-12-19 17:10:20</td>\n",
       "    </tr>\n",
       "    <tr>\n",
       "      <th>27</th>\n",
       "      <td>kabanossi</td>\n",
       "      <td>DIY</td>\n",
       "      <td>2016-12-19 17:08:47</td>\n",
       "    </tr>\n",
       "    <tr>\n",
       "      <th>28</th>\n",
       "      <td>kabanossi</td>\n",
       "      <td>carporn</td>\n",
       "      <td>2016-12-19 17:02:46</td>\n",
       "    </tr>\n",
       "    <tr>\n",
       "      <th>29</th>\n",
       "      <td>kabanossi</td>\n",
       "      <td>carporn</td>\n",
       "      <td>2016-12-19 16:59:49</td>\n",
       "    </tr>\n",
       "    <tr>\n",
       "      <th>...</th>\n",
       "      <td>...</td>\n",
       "      <td>...</td>\n",
       "      <td>...</td>\n",
       "    </tr>\n",
       "    <tr>\n",
       "      <th>1218500</th>\n",
       "      <td>rawrausar</td>\n",
       "      <td>pcmasterrace</td>\n",
       "      <td>2016-12-18 07:52:03</td>\n",
       "    </tr>\n",
       "    <tr>\n",
       "      <th>1218501</th>\n",
       "      <td>rawrausar</td>\n",
       "      <td>gaming</td>\n",
       "      <td>2016-12-18 07:51:26</td>\n",
       "    </tr>\n",
       "    <tr>\n",
       "      <th>1218502</th>\n",
       "      <td>rawrausar</td>\n",
       "      <td>todayilearned</td>\n",
       "      <td>2016-12-18 07:42:43</td>\n",
       "    </tr>\n",
       "    <tr>\n",
       "      <th>1218510</th>\n",
       "      <td>rawrausar</td>\n",
       "      <td>southpark</td>\n",
       "      <td>2016-12-16 08:22:59</td>\n",
       "    </tr>\n",
       "    <tr>\n",
       "      <th>1218515</th>\n",
       "      <td>rawrausar</td>\n",
       "      <td>Steam</td>\n",
       "      <td>2016-12-14 17:11:57</td>\n",
       "    </tr>\n",
       "    <tr>\n",
       "      <th>1218516</th>\n",
       "      <td>rawrausar</td>\n",
       "      <td>hiphopheads</td>\n",
       "      <td>2016-12-14 06:53:53</td>\n",
       "    </tr>\n",
       "    <tr>\n",
       "      <th>1218517</th>\n",
       "      <td>rawrausar</td>\n",
       "      <td>AdviceAnimals</td>\n",
       "      <td>2016-12-14 06:46:40</td>\n",
       "    </tr>\n",
       "    <tr>\n",
       "      <th>1218518</th>\n",
       "      <td>rawrausar</td>\n",
       "      <td>hiphopheads</td>\n",
       "      <td>2016-12-14 06:43:44</td>\n",
       "    </tr>\n",
       "    <tr>\n",
       "      <th>1218530</th>\n",
       "      <td>rawrausar</td>\n",
       "      <td>gaming</td>\n",
       "      <td>2016-12-12 17:13:23</td>\n",
       "    </tr>\n",
       "    <tr>\n",
       "      <th>1218534</th>\n",
       "      <td>rawrausar</td>\n",
       "      <td>windowsphone</td>\n",
       "      <td>2016-12-12 05:27:59</td>\n",
       "    </tr>\n",
       "    <tr>\n",
       "      <th>1218535</th>\n",
       "      <td>rawrausar</td>\n",
       "      <td>DotA2</td>\n",
       "      <td>2016-12-12 05:06:33</td>\n",
       "    </tr>\n",
       "    <tr>\n",
       "      <th>1218536</th>\n",
       "      <td>rawrausar</td>\n",
       "      <td>television</td>\n",
       "      <td>2016-12-11 17:23:15</td>\n",
       "    </tr>\n",
       "    <tr>\n",
       "      <th>1218537</th>\n",
       "      <td>rawrausar</td>\n",
       "      <td>television</td>\n",
       "      <td>2016-12-11 17:23:01</td>\n",
       "    </tr>\n",
       "    <tr>\n",
       "      <th>1218538</th>\n",
       "      <td>rawrausar</td>\n",
       "      <td>gaming</td>\n",
       "      <td>2016-12-11 17:00:55</td>\n",
       "    </tr>\n",
       "    <tr>\n",
       "      <th>1218539</th>\n",
       "      <td>rawrausar</td>\n",
       "      <td>television</td>\n",
       "      <td>2016-12-11 16:56:58</td>\n",
       "    </tr>\n",
       "    <tr>\n",
       "      <th>1218540</th>\n",
       "      <td>rawrausar</td>\n",
       "      <td>Music</td>\n",
       "      <td>2016-12-11 16:36:15</td>\n",
       "    </tr>\n",
       "    <tr>\n",
       "      <th>1218541</th>\n",
       "      <td>rawrausar</td>\n",
       "      <td>movies</td>\n",
       "      <td>2016-12-11 16:34:01</td>\n",
       "    </tr>\n",
       "    <tr>\n",
       "      <th>1218545</th>\n",
       "      <td>rawrausar</td>\n",
       "      <td>television</td>\n",
       "      <td>2016-12-11 15:53:41</td>\n",
       "    </tr>\n",
       "    <tr>\n",
       "      <th>1218546</th>\n",
       "      <td>rawrausar</td>\n",
       "      <td>television</td>\n",
       "      <td>2016-12-11 15:43:43</td>\n",
       "    </tr>\n",
       "    <tr>\n",
       "      <th>1218555</th>\n",
       "      <td>rawrausar</td>\n",
       "      <td>DotA2</td>\n",
       "      <td>2016-12-11 14:44:28</td>\n",
       "    </tr>\n",
       "    <tr>\n",
       "      <th>1218558</th>\n",
       "      <td>rawrausar</td>\n",
       "      <td>DotA2</td>\n",
       "      <td>2016-12-11 10:10:26</td>\n",
       "    </tr>\n",
       "    <tr>\n",
       "      <th>1218559</th>\n",
       "      <td>rawrausar</td>\n",
       "      <td>DotA2</td>\n",
       "      <td>2016-12-11 05:22:06</td>\n",
       "    </tr>\n",
       "    <tr>\n",
       "      <th>1218561</th>\n",
       "      <td>rawrausar</td>\n",
       "      <td>DotA2</td>\n",
       "      <td>2016-12-10 18:12:21</td>\n",
       "    </tr>\n",
       "    <tr>\n",
       "      <th>1218566</th>\n",
       "      <td>rawrausar</td>\n",
       "      <td>news</td>\n",
       "      <td>2016-12-10 06:51:41</td>\n",
       "    </tr>\n",
       "    <tr>\n",
       "      <th>1218592</th>\n",
       "      <td>rawrausar</td>\n",
       "      <td>GameDeals</td>\n",
       "      <td>2016-12-08 16:26:36</td>\n",
       "    </tr>\n",
       "    <tr>\n",
       "      <th>1218593</th>\n",
       "      <td>rawrausar</td>\n",
       "      <td>greekmusic</td>\n",
       "      <td>2016-12-07 07:35:21</td>\n",
       "    </tr>\n",
       "    <tr>\n",
       "      <th>1218602</th>\n",
       "      <td>rawrausar</td>\n",
       "      <td>Steam</td>\n",
       "      <td>2016-12-03 12:17:25</td>\n",
       "    </tr>\n",
       "    <tr>\n",
       "      <th>1218615</th>\n",
       "      <td>rawrausar</td>\n",
       "      <td>movies</td>\n",
       "      <td>2016-12-02 08:02:22</td>\n",
       "    </tr>\n",
       "    <tr>\n",
       "      <th>1218618</th>\n",
       "      <td>rawrausar</td>\n",
       "      <td>GetMotivated</td>\n",
       "      <td>2016-12-02 07:23:14</td>\n",
       "    </tr>\n",
       "    <tr>\n",
       "      <th>1218621</th>\n",
       "      <td>rawrausar</td>\n",
       "      <td>interestingasfuck</td>\n",
       "      <td>2016-12-01 18:05:27</td>\n",
       "    </tr>\n",
       "  </tbody>\n",
       "</table>\n",
       "<p>571622 rows × 3 columns</p>\n",
       "</div>"
      ],
      "text/plain": [
       "              user            subreddit           utc_stamp\n",
       "0        kabanossi     photoshopbattles 2016-12-26 10:24:59\n",
       "1        kabanossi         GetMotivated 2016-12-26 10:23:14\n",
       "2        kabanossi               vmware 2016-12-26 10:21:16\n",
       "3        kabanossi              carporn 2016-12-26 10:20:18\n",
       "4        kabanossi                  DIY 2016-12-26 10:17:59\n",
       "5        kabanossi                 food 2016-12-26 10:15:18\n",
       "6        kabanossi  CatastrophicFailure 2016-12-23 17:21:11\n",
       "7        kabanossi     photoshopbattles 2016-12-23 17:18:36\n",
       "8        kabanossi              carporn 2016-12-23 17:16:51\n",
       "9        kabanossi          techsupport 2016-12-23 17:07:17\n",
       "10       kabanossi             VapePorn 2016-12-23 17:03:35\n",
       "11       kabanossi          nottheonion 2016-12-23 17:02:29\n",
       "12       kabanossi               Citrix 2016-12-23 15:15:15\n",
       "13       kabanossi             sysadmin 2016-12-22 13:37:58\n",
       "14       kabanossi             VapePorn 2016-12-21 16:42:14\n",
       "15       kabanossi              carporn 2016-12-21 16:40:05\n",
       "16       kabanossi                 food 2016-12-21 16:38:44\n",
       "17       kabanossi               HyperV 2016-12-21 13:54:25\n",
       "18       kabanossi                  DIY 2016-12-21 08:47:26\n",
       "19       kabanossi               Vaping 2016-12-21 08:46:20\n",
       "20       kabanossi                 food 2016-12-20 17:07:03\n",
       "21       kabanossi               Vaping 2016-12-20 17:05:53\n",
       "22       kabanossi     photoshopbattles 2016-12-20 17:01:23\n",
       "23       kabanossi               vmware 2016-12-20 15:27:06\n",
       "24       kabanossi     photoshopbattles 2016-12-19 17:12:37\n",
       "25       kabanossi                 food 2016-12-19 17:11:55\n",
       "26       kabanossi     photoshopbattles 2016-12-19 17:10:20\n",
       "27       kabanossi                  DIY 2016-12-19 17:08:47\n",
       "28       kabanossi              carporn 2016-12-19 17:02:46\n",
       "29       kabanossi              carporn 2016-12-19 16:59:49\n",
       "...            ...                  ...                 ...\n",
       "1218500  rawrausar         pcmasterrace 2016-12-18 07:52:03\n",
       "1218501  rawrausar               gaming 2016-12-18 07:51:26\n",
       "1218502  rawrausar        todayilearned 2016-12-18 07:42:43\n",
       "1218510  rawrausar            southpark 2016-12-16 08:22:59\n",
       "1218515  rawrausar                Steam 2016-12-14 17:11:57\n",
       "1218516  rawrausar          hiphopheads 2016-12-14 06:53:53\n",
       "1218517  rawrausar        AdviceAnimals 2016-12-14 06:46:40\n",
       "1218518  rawrausar          hiphopheads 2016-12-14 06:43:44\n",
       "1218530  rawrausar               gaming 2016-12-12 17:13:23\n",
       "1218534  rawrausar         windowsphone 2016-12-12 05:27:59\n",
       "1218535  rawrausar                DotA2 2016-12-12 05:06:33\n",
       "1218536  rawrausar           television 2016-12-11 17:23:15\n",
       "1218537  rawrausar           television 2016-12-11 17:23:01\n",
       "1218538  rawrausar               gaming 2016-12-11 17:00:55\n",
       "1218539  rawrausar           television 2016-12-11 16:56:58\n",
       "1218540  rawrausar                Music 2016-12-11 16:36:15\n",
       "1218541  rawrausar               movies 2016-12-11 16:34:01\n",
       "1218545  rawrausar           television 2016-12-11 15:53:41\n",
       "1218546  rawrausar           television 2016-12-11 15:43:43\n",
       "1218555  rawrausar                DotA2 2016-12-11 14:44:28\n",
       "1218558  rawrausar                DotA2 2016-12-11 10:10:26\n",
       "1218559  rawrausar                DotA2 2016-12-11 05:22:06\n",
       "1218561  rawrausar                DotA2 2016-12-10 18:12:21\n",
       "1218566  rawrausar                 news 2016-12-10 06:51:41\n",
       "1218592  rawrausar            GameDeals 2016-12-08 16:26:36\n",
       "1218593  rawrausar           greekmusic 2016-12-07 07:35:21\n",
       "1218602  rawrausar                Steam 2016-12-03 12:17:25\n",
       "1218615  rawrausar               movies 2016-12-02 08:02:22\n",
       "1218618  rawrausar         GetMotivated 2016-12-02 07:23:14\n",
       "1218621  rawrausar    interestingasfuck 2016-12-01 18:05:27\n",
       "\n",
       "[571622 rows x 3 columns]"
      ]
     },
     "execution_count": 21,
     "metadata": {},
     "output_type": "execute_result"
    }
   ],
   "source": [
    "pd.groupby(df,by=[df['user'],df['subreddit'],df['utc_stamp'].dt.month,df['utc_stamp'].dt.year]).head()"
   ]
  },
  {
   "cell_type": "markdown",
   "metadata": {},
   "source": [
    "<h2>Network Data</h2>"
   ]
  },
  {
   "cell_type": "code",
   "execution_count": 22,
   "metadata": {
    "collapsed": false
   },
   "outputs": [
    {
     "ename": "KeyError",
     "evalue": "'rnd_words'",
     "output_type": "error",
     "traceback": [
      "\u001b[0;31m---------------------------------------------------------------------------\u001b[0m",
      "\u001b[0;31mKeyError\u001b[0m                                  Traceback (most recent call last)",
      "\u001b[0;32mc:\\python35\\lib\\site-packages\\pandas\\indexes\\base.py\u001b[0m in \u001b[0;36mget_loc\u001b[0;34m(self, key, method, tolerance)\u001b[0m\n\u001b[1;32m   2133\u001b[0m             \u001b[1;32mtry\u001b[0m\u001b[1;33m:\u001b[0m\u001b[1;33m\u001b[0m\u001b[0m\n\u001b[0;32m-> 2134\u001b[0;31m                 \u001b[1;32mreturn\u001b[0m \u001b[0mself\u001b[0m\u001b[1;33m.\u001b[0m\u001b[0m_engine\u001b[0m\u001b[1;33m.\u001b[0m\u001b[0mget_loc\u001b[0m\u001b[1;33m(\u001b[0m\u001b[0mkey\u001b[0m\u001b[1;33m)\u001b[0m\u001b[1;33m\u001b[0m\u001b[0m\n\u001b[0m\u001b[1;32m   2135\u001b[0m             \u001b[1;32mexcept\u001b[0m \u001b[0mKeyError\u001b[0m\u001b[1;33m:\u001b[0m\u001b[1;33m\u001b[0m\u001b[0m\n",
      "\u001b[0;32mpandas\\index.pyx\u001b[0m in \u001b[0;36mpandas.index.IndexEngine.get_loc (pandas\\index.c:4443)\u001b[0;34m()\u001b[0m\n",
      "\u001b[0;32mpandas\\index.pyx\u001b[0m in \u001b[0;36mpandas.index.IndexEngine.get_loc (pandas\\index.c:4289)\u001b[0;34m()\u001b[0m\n",
      "\u001b[0;32mpandas\\src\\hashtable_class_helper.pxi\u001b[0m in \u001b[0;36mpandas.hashtable.PyObjectHashTable.get_item (pandas\\hashtable.c:13733)\u001b[0;34m()\u001b[0m\n",
      "\u001b[0;32mpandas\\src\\hashtable_class_helper.pxi\u001b[0m in \u001b[0;36mpandas.hashtable.PyObjectHashTable.get_item (pandas\\hashtable.c:13687)\u001b[0;34m()\u001b[0m\n",
      "\u001b[0;31mKeyError\u001b[0m: 'rnd_words'",
      "\nDuring handling of the above exception, another exception occurred:\n",
      "\u001b[0;31mKeyError\u001b[0m                                  Traceback (most recent call last)",
      "\u001b[0;32m<ipython-input-22-2137511be549>\u001b[0m in \u001b[0;36m<module>\u001b[0;34m()\u001b[0m\n\u001b[1;32m      6\u001b[0m         \u001b[1;32mreturn\u001b[0m \u001b[0mT\u001b[0m\u001b[1;33m[\u001b[0m\u001b[1;36m0\u001b[0m\u001b[1;33m]\u001b[0m\u001b[1;33m\u001b[0m\u001b[0m\n\u001b[1;32m      7\u001b[0m \u001b[0mf\u001b[0m \u001b[1;33m=\u001b[0m \u001b[1;33m{\u001b[0m\u001b[1;34m'subreddit'\u001b[0m\u001b[1;33m:\u001b[0m\u001b[1;33m[\u001b[0m\u001b[1;34m'count'\u001b[0m\u001b[1;33m]\u001b[0m\u001b[1;33m,\u001b[0m \u001b[1;34m'utc_stamp'\u001b[0m\u001b[1;33m:\u001b[0m\u001b[1;33m[\u001b[0m\u001b[0mnp\u001b[0m\u001b[1;33m.\u001b[0m\u001b[0mmin\u001b[0m\u001b[1;33m,\u001b[0m\u001b[0mnp\u001b[0m\u001b[1;33m.\u001b[0m\u001b[0mmax\u001b[0m\u001b[1;33m]\u001b[0m\u001b[1;33m,\u001b[0m\u001b[1;34m'submission'\u001b[0m\u001b[1;33m:\u001b[0m \u001b[0mMakeList\u001b[0m\u001b[1;33m,\u001b[0m\u001b[1;34m'rnd_words'\u001b[0m\u001b[1;33m:\u001b[0m \u001b[0mMakeList\u001b[0m\u001b[1;33m}\u001b[0m\u001b[1;33m\u001b[0m\u001b[0m\n\u001b[0;32m----> 8\u001b[0;31m \u001b[0mgrouped\u001b[0m \u001b[1;33m=\u001b[0m \u001b[0mdf\u001b[0m\u001b[1;33m.\u001b[0m\u001b[0mgroupby\u001b[0m\u001b[1;33m(\u001b[0m\u001b[1;33m[\u001b[0m\u001b[1;34m'user'\u001b[0m\u001b[1;33m,\u001b[0m\u001b[1;34m'subreddit'\u001b[0m\u001b[1;33m]\u001b[0m\u001b[1;33m)\u001b[0m\u001b[1;33m.\u001b[0m\u001b[0magg\u001b[0m\u001b[1;33m(\u001b[0m\u001b[0mf\u001b[0m\u001b[1;33m)\u001b[0m\u001b[1;33m\u001b[0m\u001b[0m\n\u001b[0m",
      "\u001b[0;32mc:\\python35\\lib\\site-packages\\pandas\\core\\groupby.py\u001b[0m in \u001b[0;36maggregate\u001b[0;34m(self, arg, *args, **kwargs)\u001b[0m\n\u001b[1;32m   3688\u001b[0m     \u001b[1;33m@\u001b[0m\u001b[0mAppender\u001b[0m\u001b[1;33m(\u001b[0m\u001b[0mSelectionMixin\u001b[0m\u001b[1;33m.\u001b[0m\u001b[0m_agg_doc\u001b[0m\u001b[1;33m)\u001b[0m\u001b[1;33m\u001b[0m\u001b[0m\n\u001b[1;32m   3689\u001b[0m     \u001b[1;32mdef\u001b[0m \u001b[0maggregate\u001b[0m\u001b[1;33m(\u001b[0m\u001b[0mself\u001b[0m\u001b[1;33m,\u001b[0m \u001b[0marg\u001b[0m\u001b[1;33m,\u001b[0m \u001b[1;33m*\u001b[0m\u001b[0margs\u001b[0m\u001b[1;33m,\u001b[0m \u001b[1;33m**\u001b[0m\u001b[0mkwargs\u001b[0m\u001b[1;33m)\u001b[0m\u001b[1;33m:\u001b[0m\u001b[1;33m\u001b[0m\u001b[0m\n\u001b[0;32m-> 3690\u001b[0;31m         \u001b[1;32mreturn\u001b[0m \u001b[0msuper\u001b[0m\u001b[1;33m(\u001b[0m\u001b[0mDataFrameGroupBy\u001b[0m\u001b[1;33m,\u001b[0m \u001b[0mself\u001b[0m\u001b[1;33m)\u001b[0m\u001b[1;33m.\u001b[0m\u001b[0maggregate\u001b[0m\u001b[1;33m(\u001b[0m\u001b[0marg\u001b[0m\u001b[1;33m,\u001b[0m \u001b[1;33m*\u001b[0m\u001b[0margs\u001b[0m\u001b[1;33m,\u001b[0m \u001b[1;33m**\u001b[0m\u001b[0mkwargs\u001b[0m\u001b[1;33m)\u001b[0m\u001b[1;33m\u001b[0m\u001b[0m\n\u001b[0m\u001b[1;32m   3691\u001b[0m \u001b[1;33m\u001b[0m\u001b[0m\n\u001b[1;32m   3692\u001b[0m     \u001b[0magg\u001b[0m \u001b[1;33m=\u001b[0m \u001b[0maggregate\u001b[0m\u001b[1;33m\u001b[0m\u001b[0m\n",
      "\u001b[0;32mc:\\python35\\lib\\site-packages\\pandas\\core\\groupby.py\u001b[0m in \u001b[0;36maggregate\u001b[0;34m(self, arg, *args, **kwargs)\u001b[0m\n\u001b[1;32m   3177\u001b[0m \u001b[1;33m\u001b[0m\u001b[0m\n\u001b[1;32m   3178\u001b[0m         \u001b[0m_level\u001b[0m \u001b[1;33m=\u001b[0m \u001b[0mkwargs\u001b[0m\u001b[1;33m.\u001b[0m\u001b[0mpop\u001b[0m\u001b[1;33m(\u001b[0m\u001b[1;34m'_level'\u001b[0m\u001b[1;33m,\u001b[0m \u001b[1;32mNone\u001b[0m\u001b[1;33m)\u001b[0m\u001b[1;33m\u001b[0m\u001b[0m\n\u001b[0;32m-> 3179\u001b[0;31m         \u001b[0mresult\u001b[0m\u001b[1;33m,\u001b[0m \u001b[0mhow\u001b[0m \u001b[1;33m=\u001b[0m \u001b[0mself\u001b[0m\u001b[1;33m.\u001b[0m\u001b[0m_aggregate\u001b[0m\u001b[1;33m(\u001b[0m\u001b[0marg\u001b[0m\u001b[1;33m,\u001b[0m \u001b[0m_level\u001b[0m\u001b[1;33m=\u001b[0m\u001b[0m_level\u001b[0m\u001b[1;33m,\u001b[0m \u001b[1;33m*\u001b[0m\u001b[0margs\u001b[0m\u001b[1;33m,\u001b[0m \u001b[1;33m**\u001b[0m\u001b[0mkwargs\u001b[0m\u001b[1;33m)\u001b[0m\u001b[1;33m\u001b[0m\u001b[0m\n\u001b[0m\u001b[1;32m   3180\u001b[0m         \u001b[1;32mif\u001b[0m \u001b[0mhow\u001b[0m \u001b[1;32mis\u001b[0m \u001b[1;32mNone\u001b[0m\u001b[1;33m:\u001b[0m\u001b[1;33m\u001b[0m\u001b[0m\n\u001b[1;32m   3181\u001b[0m             \u001b[1;32mreturn\u001b[0m \u001b[0mresult\u001b[0m\u001b[1;33m\u001b[0m\u001b[0m\n",
      "\u001b[0;32mc:\\python35\\lib\\site-packages\\pandas\\core\\base.py\u001b[0m in \u001b[0;36m_aggregate\u001b[0;34m(self, arg, *args, **kwargs)\u001b[0m\n\u001b[1;32m    547\u001b[0m \u001b[1;33m\u001b[0m\u001b[0m\n\u001b[1;32m    548\u001b[0m                 \u001b[1;32mtry\u001b[0m\u001b[1;33m:\u001b[0m\u001b[1;33m\u001b[0m\u001b[0m\n\u001b[0;32m--> 549\u001b[0;31m                     \u001b[0mresult\u001b[0m \u001b[1;33m=\u001b[0m \u001b[0m_agg\u001b[0m\u001b[1;33m(\u001b[0m\u001b[0marg\u001b[0m\u001b[1;33m,\u001b[0m \u001b[0m_agg_1dim\u001b[0m\u001b[1;33m)\u001b[0m\u001b[1;33m\u001b[0m\u001b[0m\n\u001b[0m\u001b[1;32m    550\u001b[0m                 \u001b[1;32mexcept\u001b[0m \u001b[0mSpecificationError\u001b[0m\u001b[1;33m:\u001b[0m\u001b[1;33m\u001b[0m\u001b[0m\n\u001b[1;32m    551\u001b[0m \u001b[1;33m\u001b[0m\u001b[0m\n",
      "\u001b[0;32mc:\\python35\\lib\\site-packages\\pandas\\core\\base.py\u001b[0m in \u001b[0;36m_agg\u001b[0;34m(arg, func)\u001b[0m\n\u001b[1;32m    498\u001b[0m                 \u001b[0mresult\u001b[0m \u001b[1;33m=\u001b[0m \u001b[0mcompat\u001b[0m\u001b[1;33m.\u001b[0m\u001b[0mOrderedDict\u001b[0m\u001b[1;33m(\u001b[0m\u001b[1;33m)\u001b[0m\u001b[1;33m\u001b[0m\u001b[0m\n\u001b[1;32m    499\u001b[0m                 \u001b[1;32mfor\u001b[0m \u001b[0mfname\u001b[0m\u001b[1;33m,\u001b[0m \u001b[0magg_how\u001b[0m \u001b[1;32min\u001b[0m \u001b[0mcompat\u001b[0m\u001b[1;33m.\u001b[0m\u001b[0miteritems\u001b[0m\u001b[1;33m(\u001b[0m\u001b[0marg\u001b[0m\u001b[1;33m)\u001b[0m\u001b[1;33m:\u001b[0m\u001b[1;33m\u001b[0m\u001b[0m\n\u001b[0;32m--> 500\u001b[0;31m                     \u001b[0mresult\u001b[0m\u001b[1;33m[\u001b[0m\u001b[0mfname\u001b[0m\u001b[1;33m]\u001b[0m \u001b[1;33m=\u001b[0m \u001b[0mfunc\u001b[0m\u001b[1;33m(\u001b[0m\u001b[0mfname\u001b[0m\u001b[1;33m,\u001b[0m \u001b[0magg_how\u001b[0m\u001b[1;33m)\u001b[0m\u001b[1;33m\u001b[0m\u001b[0m\n\u001b[0m\u001b[1;32m    501\u001b[0m                 \u001b[1;32mreturn\u001b[0m \u001b[0mresult\u001b[0m\u001b[1;33m\u001b[0m\u001b[0m\n\u001b[1;32m    502\u001b[0m \u001b[1;33m\u001b[0m\u001b[0m\n",
      "\u001b[0;32mc:\\python35\\lib\\site-packages\\pandas\\core\\base.py\u001b[0m in \u001b[0;36m_agg_1dim\u001b[0;34m(name, how, subset)\u001b[0m\n\u001b[1;32m    477\u001b[0m                 \u001b[0maggregate\u001b[0m \u001b[0ma\u001b[0m \u001b[1;36m1\u001b[0m\u001b[1;33m-\u001b[0m\u001b[0mdim\u001b[0m \u001b[1;32mwith\u001b[0m \u001b[0mhow\u001b[0m\u001b[1;33m\u001b[0m\u001b[0m\n\u001b[1;32m    478\u001b[0m                 \"\"\"\n\u001b[0;32m--> 479\u001b[0;31m                 \u001b[0mcolg\u001b[0m \u001b[1;33m=\u001b[0m \u001b[0mself\u001b[0m\u001b[1;33m.\u001b[0m\u001b[0m_gotitem\u001b[0m\u001b[1;33m(\u001b[0m\u001b[0mname\u001b[0m\u001b[1;33m,\u001b[0m \u001b[0mndim\u001b[0m\u001b[1;33m=\u001b[0m\u001b[1;36m1\u001b[0m\u001b[1;33m,\u001b[0m \u001b[0msubset\u001b[0m\u001b[1;33m=\u001b[0m\u001b[0msubset\u001b[0m\u001b[1;33m)\u001b[0m\u001b[1;33m\u001b[0m\u001b[0m\n\u001b[0m\u001b[1;32m    480\u001b[0m                 \u001b[1;32mif\u001b[0m \u001b[0mcolg\u001b[0m\u001b[1;33m.\u001b[0m\u001b[0mndim\u001b[0m \u001b[1;33m!=\u001b[0m \u001b[1;36m1\u001b[0m\u001b[1;33m:\u001b[0m\u001b[1;33m\u001b[0m\u001b[0m\n\u001b[1;32m    481\u001b[0m                     raise SpecificationError(\"nested dictionary is ambiguous \"\n",
      "\u001b[0;32mc:\\python35\\lib\\site-packages\\pandas\\core\\groupby.py\u001b[0m in \u001b[0;36m_gotitem\u001b[0;34m(self, key, ndim, subset)\u001b[0m\n\u001b[1;32m   3715\u001b[0m         \u001b[1;32melif\u001b[0m \u001b[0mndim\u001b[0m \u001b[1;33m==\u001b[0m \u001b[1;36m1\u001b[0m\u001b[1;33m:\u001b[0m\u001b[1;33m\u001b[0m\u001b[0m\n\u001b[1;32m   3716\u001b[0m             \u001b[1;32mif\u001b[0m \u001b[0msubset\u001b[0m \u001b[1;32mis\u001b[0m \u001b[1;32mNone\u001b[0m\u001b[1;33m:\u001b[0m\u001b[1;33m\u001b[0m\u001b[0m\n\u001b[0;32m-> 3717\u001b[0;31m                 \u001b[0msubset\u001b[0m \u001b[1;33m=\u001b[0m \u001b[0mself\u001b[0m\u001b[1;33m.\u001b[0m\u001b[0mobj\u001b[0m\u001b[1;33m[\u001b[0m\u001b[0mkey\u001b[0m\u001b[1;33m]\u001b[0m\u001b[1;33m\u001b[0m\u001b[0m\n\u001b[0m\u001b[1;32m   3718\u001b[0m             return SeriesGroupBy(subset, selection=key,\n\u001b[1;32m   3719\u001b[0m                                  grouper=self.grouper)\n",
      "\u001b[0;32mc:\\python35\\lib\\site-packages\\pandas\\core\\frame.py\u001b[0m in \u001b[0;36m__getitem__\u001b[0;34m(self, key)\u001b[0m\n\u001b[1;32m   2057\u001b[0m             \u001b[1;32mreturn\u001b[0m \u001b[0mself\u001b[0m\u001b[1;33m.\u001b[0m\u001b[0m_getitem_multilevel\u001b[0m\u001b[1;33m(\u001b[0m\u001b[0mkey\u001b[0m\u001b[1;33m)\u001b[0m\u001b[1;33m\u001b[0m\u001b[0m\n\u001b[1;32m   2058\u001b[0m         \u001b[1;32melse\u001b[0m\u001b[1;33m:\u001b[0m\u001b[1;33m\u001b[0m\u001b[0m\n\u001b[0;32m-> 2059\u001b[0;31m             \u001b[1;32mreturn\u001b[0m \u001b[0mself\u001b[0m\u001b[1;33m.\u001b[0m\u001b[0m_getitem_column\u001b[0m\u001b[1;33m(\u001b[0m\u001b[0mkey\u001b[0m\u001b[1;33m)\u001b[0m\u001b[1;33m\u001b[0m\u001b[0m\n\u001b[0m\u001b[1;32m   2060\u001b[0m \u001b[1;33m\u001b[0m\u001b[0m\n\u001b[1;32m   2061\u001b[0m     \u001b[1;32mdef\u001b[0m \u001b[0m_getitem_column\u001b[0m\u001b[1;33m(\u001b[0m\u001b[0mself\u001b[0m\u001b[1;33m,\u001b[0m \u001b[0mkey\u001b[0m\u001b[1;33m)\u001b[0m\u001b[1;33m:\u001b[0m\u001b[1;33m\u001b[0m\u001b[0m\n",
      "\u001b[0;32mc:\\python35\\lib\\site-packages\\pandas\\core\\frame.py\u001b[0m in \u001b[0;36m_getitem_column\u001b[0;34m(self, key)\u001b[0m\n\u001b[1;32m   2064\u001b[0m         \u001b[1;31m# get column\u001b[0m\u001b[1;33m\u001b[0m\u001b[1;33m\u001b[0m\u001b[0m\n\u001b[1;32m   2065\u001b[0m         \u001b[1;32mif\u001b[0m \u001b[0mself\u001b[0m\u001b[1;33m.\u001b[0m\u001b[0mcolumns\u001b[0m\u001b[1;33m.\u001b[0m\u001b[0mis_unique\u001b[0m\u001b[1;33m:\u001b[0m\u001b[1;33m\u001b[0m\u001b[0m\n\u001b[0;32m-> 2066\u001b[0;31m             \u001b[1;32mreturn\u001b[0m \u001b[0mself\u001b[0m\u001b[1;33m.\u001b[0m\u001b[0m_get_item_cache\u001b[0m\u001b[1;33m(\u001b[0m\u001b[0mkey\u001b[0m\u001b[1;33m)\u001b[0m\u001b[1;33m\u001b[0m\u001b[0m\n\u001b[0m\u001b[1;32m   2067\u001b[0m \u001b[1;33m\u001b[0m\u001b[0m\n\u001b[1;32m   2068\u001b[0m         \u001b[1;31m# duplicate columns & possible reduce dimensionality\u001b[0m\u001b[1;33m\u001b[0m\u001b[1;33m\u001b[0m\u001b[0m\n",
      "\u001b[0;32mc:\\python35\\lib\\site-packages\\pandas\\core\\generic.py\u001b[0m in \u001b[0;36m_get_item_cache\u001b[0;34m(self, item)\u001b[0m\n\u001b[1;32m   1384\u001b[0m         \u001b[0mres\u001b[0m \u001b[1;33m=\u001b[0m \u001b[0mcache\u001b[0m\u001b[1;33m.\u001b[0m\u001b[0mget\u001b[0m\u001b[1;33m(\u001b[0m\u001b[0mitem\u001b[0m\u001b[1;33m)\u001b[0m\u001b[1;33m\u001b[0m\u001b[0m\n\u001b[1;32m   1385\u001b[0m         \u001b[1;32mif\u001b[0m \u001b[0mres\u001b[0m \u001b[1;32mis\u001b[0m \u001b[1;32mNone\u001b[0m\u001b[1;33m:\u001b[0m\u001b[1;33m\u001b[0m\u001b[0m\n\u001b[0;32m-> 1386\u001b[0;31m             \u001b[0mvalues\u001b[0m \u001b[1;33m=\u001b[0m \u001b[0mself\u001b[0m\u001b[1;33m.\u001b[0m\u001b[0m_data\u001b[0m\u001b[1;33m.\u001b[0m\u001b[0mget\u001b[0m\u001b[1;33m(\u001b[0m\u001b[0mitem\u001b[0m\u001b[1;33m)\u001b[0m\u001b[1;33m\u001b[0m\u001b[0m\n\u001b[0m\u001b[1;32m   1387\u001b[0m             \u001b[0mres\u001b[0m \u001b[1;33m=\u001b[0m \u001b[0mself\u001b[0m\u001b[1;33m.\u001b[0m\u001b[0m_box_item_values\u001b[0m\u001b[1;33m(\u001b[0m\u001b[0mitem\u001b[0m\u001b[1;33m,\u001b[0m \u001b[0mvalues\u001b[0m\u001b[1;33m)\u001b[0m\u001b[1;33m\u001b[0m\u001b[0m\n\u001b[1;32m   1388\u001b[0m             \u001b[0mcache\u001b[0m\u001b[1;33m[\u001b[0m\u001b[0mitem\u001b[0m\u001b[1;33m]\u001b[0m \u001b[1;33m=\u001b[0m \u001b[0mres\u001b[0m\u001b[1;33m\u001b[0m\u001b[0m\n",
      "\u001b[0;32mc:\\python35\\lib\\site-packages\\pandas\\core\\internals.py\u001b[0m in \u001b[0;36mget\u001b[0;34m(self, item, fastpath)\u001b[0m\n\u001b[1;32m   3539\u001b[0m \u001b[1;33m\u001b[0m\u001b[0m\n\u001b[1;32m   3540\u001b[0m             \u001b[1;32mif\u001b[0m \u001b[1;32mnot\u001b[0m \u001b[0misnull\u001b[0m\u001b[1;33m(\u001b[0m\u001b[0mitem\u001b[0m\u001b[1;33m)\u001b[0m\u001b[1;33m:\u001b[0m\u001b[1;33m\u001b[0m\u001b[0m\n\u001b[0;32m-> 3541\u001b[0;31m                 \u001b[0mloc\u001b[0m \u001b[1;33m=\u001b[0m \u001b[0mself\u001b[0m\u001b[1;33m.\u001b[0m\u001b[0mitems\u001b[0m\u001b[1;33m.\u001b[0m\u001b[0mget_loc\u001b[0m\u001b[1;33m(\u001b[0m\u001b[0mitem\u001b[0m\u001b[1;33m)\u001b[0m\u001b[1;33m\u001b[0m\u001b[0m\n\u001b[0m\u001b[1;32m   3542\u001b[0m             \u001b[1;32melse\u001b[0m\u001b[1;33m:\u001b[0m\u001b[1;33m\u001b[0m\u001b[0m\n\u001b[1;32m   3543\u001b[0m                 \u001b[0mindexer\u001b[0m \u001b[1;33m=\u001b[0m \u001b[0mnp\u001b[0m\u001b[1;33m.\u001b[0m\u001b[0marange\u001b[0m\u001b[1;33m(\u001b[0m\u001b[0mlen\u001b[0m\u001b[1;33m(\u001b[0m\u001b[0mself\u001b[0m\u001b[1;33m.\u001b[0m\u001b[0mitems\u001b[0m\u001b[1;33m)\u001b[0m\u001b[1;33m)\u001b[0m\u001b[1;33m[\u001b[0m\u001b[0misnull\u001b[0m\u001b[1;33m(\u001b[0m\u001b[0mself\u001b[0m\u001b[1;33m.\u001b[0m\u001b[0mitems\u001b[0m\u001b[1;33m)\u001b[0m\u001b[1;33m]\u001b[0m\u001b[1;33m\u001b[0m\u001b[0m\n",
      "\u001b[0;32mc:\\python35\\lib\\site-packages\\pandas\\indexes\\base.py\u001b[0m in \u001b[0;36mget_loc\u001b[0;34m(self, key, method, tolerance)\u001b[0m\n\u001b[1;32m   2134\u001b[0m                 \u001b[1;32mreturn\u001b[0m \u001b[0mself\u001b[0m\u001b[1;33m.\u001b[0m\u001b[0m_engine\u001b[0m\u001b[1;33m.\u001b[0m\u001b[0mget_loc\u001b[0m\u001b[1;33m(\u001b[0m\u001b[0mkey\u001b[0m\u001b[1;33m)\u001b[0m\u001b[1;33m\u001b[0m\u001b[0m\n\u001b[1;32m   2135\u001b[0m             \u001b[1;32mexcept\u001b[0m \u001b[0mKeyError\u001b[0m\u001b[1;33m:\u001b[0m\u001b[1;33m\u001b[0m\u001b[0m\n\u001b[0;32m-> 2136\u001b[0;31m                 \u001b[1;32mreturn\u001b[0m \u001b[0mself\u001b[0m\u001b[1;33m.\u001b[0m\u001b[0m_engine\u001b[0m\u001b[1;33m.\u001b[0m\u001b[0mget_loc\u001b[0m\u001b[1;33m(\u001b[0m\u001b[0mself\u001b[0m\u001b[1;33m.\u001b[0m\u001b[0m_maybe_cast_indexer\u001b[0m\u001b[1;33m(\u001b[0m\u001b[0mkey\u001b[0m\u001b[1;33m)\u001b[0m\u001b[1;33m)\u001b[0m\u001b[1;33m\u001b[0m\u001b[0m\n\u001b[0m\u001b[1;32m   2137\u001b[0m \u001b[1;33m\u001b[0m\u001b[0m\n\u001b[1;32m   2138\u001b[0m         \u001b[0mindexer\u001b[0m \u001b[1;33m=\u001b[0m \u001b[0mself\u001b[0m\u001b[1;33m.\u001b[0m\u001b[0mget_indexer\u001b[0m\u001b[1;33m(\u001b[0m\u001b[1;33m[\u001b[0m\u001b[0mkey\u001b[0m\u001b[1;33m]\u001b[0m\u001b[1;33m,\u001b[0m \u001b[0mmethod\u001b[0m\u001b[1;33m=\u001b[0m\u001b[0mmethod\u001b[0m\u001b[1;33m,\u001b[0m \u001b[0mtolerance\u001b[0m\u001b[1;33m=\u001b[0m\u001b[0mtolerance\u001b[0m\u001b[1;33m)\u001b[0m\u001b[1;33m\u001b[0m\u001b[0m\n",
      "\u001b[0;32mpandas\\index.pyx\u001b[0m in \u001b[0;36mpandas.index.IndexEngine.get_loc (pandas\\index.c:4443)\u001b[0;34m()\u001b[0m\n",
      "\u001b[0;32mpandas\\index.pyx\u001b[0m in \u001b[0;36mpandas.index.IndexEngine.get_loc (pandas\\index.c:4289)\u001b[0;34m()\u001b[0m\n",
      "\u001b[0;32mpandas\\src\\hashtable_class_helper.pxi\u001b[0m in \u001b[0;36mpandas.hashtable.PyObjectHashTable.get_item (pandas\\hashtable.c:13733)\u001b[0;34m()\u001b[0m\n",
      "\u001b[0;32mpandas\\src\\hashtable_class_helper.pxi\u001b[0m in \u001b[0;36mpandas.hashtable.PyObjectHashTable.get_item (pandas\\hashtable.c:13687)\u001b[0;34m()\u001b[0m\n",
      "\u001b[0;31mKeyError\u001b[0m: 'rnd_words'"
     ]
    }
   ],
   "source": [
    "def MakeList(x):\n",
    "    T = tuple(x)\n",
    "    if len(T) > 1:\n",
    "        return T\n",
    "    else:\n",
    "        return T[0]\n",
    "f = {'subreddit':['count'], 'utc_stamp':[np.min,np.max],'submission': MakeList,'rnd_words': MakeList}\n",
    "grouped = df.groupby(['user','subreddit']).agg(f)"
   ]
  },
  {
   "cell_type": "code",
   "execution_count": null,
   "metadata": {
    "collapsed": false
   },
   "outputs": [],
   "source": [
    "grouped.head()"
   ]
  },
  {
   "cell_type": "code",
   "execution_count": null,
   "metadata": {
    "collapsed": false
   },
   "outputs": [],
   "source": [
    "users = df.groupby('user')['user'].all()[0:2]\n",
    "subreddits = list(df.groupby('subreddit')['subreddit'].nunique().keys())"
   ]
  },
  {
   "cell_type": "code",
   "execution_count": null,
   "metadata": {
    "collapsed": false
   },
   "outputs": [],
   "source": [
    "G = nx.Graph()\n",
    "loop_count = 0\n",
    "for usr in users:\n",
    "    if loop_count % 5 == 0:\n",
    "        print (str(round(loop_count/len(users)*100,2)) + \" % complete\")\n",
    "    loop_count = loop_count + 1\n",
    "    for i,i_sub in enumerate(grouped['subreddit']['count'][usr].keys()):\n",
    "        for j,j_sub in enumerate(grouped['subreddit']['count'][usr].keys()):\n",
    "            if j > i:\n",
    "                edge_id = '-'.join(sorted([i_sub,j_sub]))\n",
    "                if G.has_edge(i_sub,j_sub) == False:\n",
    "                    G.add_edge(i_sub,j_sub,{'source':i_sub,'target':j_sub,'weight':1,'id':edge_id})\n",
    "                else:\n",
    "                    G[i_sub][j_sub]['weight'] = G[i_sub][j_sub]['weight'] + 1\n",
    "write_gexf(G,'reddit_network.gexf')"
   ]
  },
  {
   "cell_type": "markdown",
   "metadata": {},
   "source": [
    "<h3>Network Embedding</h3>"
   ]
  },
  {
   "cell_type": "code",
   "execution_count": null,
   "metadata": {
    "collapsed": false
   },
   "outputs": [],
   "source": [
    "soup = BeautifulSoup(open(\"full_network.html\"),\"html.parser\")"
   ]
  },
  {
   "cell_type": "code",
   "execution_count": null,
   "metadata": {
    "collapsed": false
   },
   "outputs": [],
   "source": [
    "graph_cords = {}\n",
    "nodes = soup.findAll('node')\n",
    "for nd in nodes:\n",
    "    crds = nd.find('viz:position')\n",
    "    graph_cords[nd['label']] = [crds['x'],crds['y']]"
   ]
  },
  {
   "cell_type": "code",
   "execution_count": null,
   "metadata": {
    "collapsed": false
   },
   "outputs": [],
   "source": [
    "def pairwise_emd(user_A,user_B,graph_cords):\n",
    "    set_subs = [sub for sub in set(list(user_A.keys())+list(user_A.keys())) if sub in graph_cords.keys()]\n",
    "    sub_cords = np.array([graph_cords[sub] for sub in set_subs]) \n",
    "    A_interacts = np.array([user_A[sub] if sub in list(user_A.keys()) else 0 for sub in set_subs])\n",
    "    B_interacts = np.array([user_B[sub] if sub in list(user_B.keys()) else 0 for sub in set_subs])\n",
    "    euc_dists = euclidean_distances(sub_cords,sub_cords)\n",
    "    emd_dist = emd(A_interacts.astype(np.double), B_interacts.astype(np.double), euc_dists.astype(np.double))\n",
    "    return emd_dist"
   ]
  },
  {
   "cell_type": "code",
   "execution_count": null,
   "metadata": {
    "collapsed": false
   },
   "outputs": [],
   "source": [
    "pairwise_emd(grouped['subreddit']['count']['-DEAD-'].sort_values(ascending=False),\n",
    "             grouped['subreddit']['count']['-Doomcrow-'].sort_values(ascending=False),graph_cords)"
   ]
  },
  {
   "cell_type": "markdown",
   "metadata": {},
   "source": [
    "<h2>Comment --> Subreddit Sequencing</h2>"
   ]
  },
  {
   "cell_type": "code",
   "execution_count": null,
   "metadata": {
    "collapsed": false
   },
   "outputs": [],
   "source": [
    "sub_list = list(df.groupby('subreddit')['subreddit'].nunique().keys())"
   ]
  },
  {
   "cell_type": "code",
   "execution_count": null,
   "metadata": {
    "collapsed": true
   },
   "outputs": [],
   "source": [
    "df.sort_values(by=['user','utc_stamp'], ascending=True, inplace=True)\n",
    "sub_seqs = []\n",
    "current_user = ''\n",
    "current_sub = ''\n",
    "for rw in df.iterrows():\n",
    "    sub = sub_list.index(rw[1]['subreddit'])\n",
    "    if current_user == '':\n",
    "        usr_seq = [sub]\n",
    "    elif rw[1]['user'] != current_user:\n",
    "        sub_seqs.append(usr_seq)\n",
    "        usr_seq = [sub]\n",
    "    elif sub != current_sub:\n",
    "        usr_seq.append(sub)   \n",
    "    current_user = rw[1]['user']\n",
    "    current_sub = sub"
   ]
  },
  {
   "cell_type": "code",
   "execution_count": null,
   "metadata": {
    "collapsed": false
   },
   "outputs": [],
   "source": [
    "sub_seqs[1]"
   ]
  },
  {
   "cell_type": "markdown",
   "metadata": {},
   "source": [
    "<h2>Comment --> x,y Sequencing</h2>"
   ]
  },
  {
   "cell_type": "code",
   "execution_count": null,
   "metadata": {
    "collapsed": false
   },
   "outputs": [],
   "source": [
    "df.sort_values(by=['user','utc_stamp'], ascending=True, inplace=True)\n",
    "seqs = []\n",
    "current_user = ''\n",
    "for rw in df.iterrows():\n",
    "    try:\n",
    "        user_cords = graph_cords[rw[1]['subreddit']]\n",
    "        if current_user == '':\n",
    "            usr_seq = [user_cords]\n",
    "        elif rw[1]['user'] != current_user:\n",
    "            seqs.append(usr_seq)\n",
    "            usr_seq = [user_cords]\n",
    "        else:\n",
    "            usr_seq.append(user_cords)   \n",
    "    except KeyError:\n",
    "        pass\n",
    "    current_user = rw[1]['user']"
   ]
  },
  {
   "cell_type": "code",
   "execution_count": null,
   "metadata": {
    "collapsed": false
   },
   "outputs": [],
   "source": [
    "seqs[150]"
   ]
  }
 ],
 "metadata": {
  "kernelspec": {
   "display_name": "Python 3",
   "language": "python",
   "name": "python3"
  },
  "language_info": {
   "codemirror_mode": {
    "name": "ipython",
    "version": 3
   },
   "file_extension": ".py",
   "mimetype": "text/x-python",
   "name": "python",
   "nbconvert_exporter": "python",
   "pygments_lexer": "ipython3",
   "version": "3.5.2"
  }
 },
 "nbformat": 4,
 "nbformat_minor": 0
}
