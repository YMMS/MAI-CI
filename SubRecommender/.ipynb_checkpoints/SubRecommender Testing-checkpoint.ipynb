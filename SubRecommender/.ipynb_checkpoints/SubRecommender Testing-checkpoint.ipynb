{
 "cells": [
  {
   "cell_type": "code",
   "execution_count": 1,
   "metadata": {
    "collapsed": false
   },
   "outputs": [],
   "source": [
    "from imp import reload\n",
    "import SubRecommender as sr\n",
    "import pandas as pd\n",
    "import json"
   ]
  },
  {
   "cell_type": "code",
   "execution_count": 2,
   "metadata": {
    "collapsed": false
   },
   "outputs": [
    {
     "data": {
      "text/plain": [
       "<module 'SubRecommender' from 'C:\\\\Users\\\\macle\\\\Desktop\\\\UPC Masters\\\\Semester 2\\\\CI\\\\SubRecommender\\\\SubRecommender.py'>"
      ]
     },
     "execution_count": 2,
     "metadata": {},
     "output_type": "execute_result"
    }
   ],
   "source": [
    "reload(sr)"
   ]
  },
  {
   "cell_type": "code",
   "execution_count": 3,
   "metadata": {
    "collapsed": true
   },
   "outputs": [],
   "source": [
    "tst = sr.SubRecommender(train_data_file=\"data/train_reddit_data.json\",save_model_file=\"models/tst\",sequence_chunk_size=100)"
   ]
  },
  {
   "cell_type": "code",
   "execution_count": 4,
   "metadata": {
    "collapsed": false
   },
   "outputs": [
    {
     "name": "stdout",
     "output_type": "stream",
     "text": [
      "Loading Training Data\n",
      "Building Vocab\n",
      "Building Training Sequences\n",
      "Sequence Builder 0.0 % Complete\n",
      "Sequence Builder 10.0 % Complete\n",
      "Sequence Builder 20.0 % Complete\n",
      "Sequence Builder 30.0 % Complete\n",
      "Sequence Builder 40.0 % Complete\n",
      "Sequence Builder 50.0 % Complete\n",
      "Sequence Builder 60.0 % Complete\n",
      "Sequence Builder 70.0 % Complete\n",
      "Sequence Builder 80.0 % Complete\n",
      "Sequence Builder 90.0 % Complete\n",
      "Sequence Builder 100.0 % Complete\n",
      "Building Graph\n"
     ]
    },
    {
     "name": "stderr",
     "output_type": "stream",
     "text": [
      "c:\\python35\\lib\\site-packages\\tensorflow\\python\\ops\\gradients_impl.py:91: UserWarning: Converting sparse IndexedSlices to a dense Tensor of unknown shape. This may consume a large amount of memory.\n",
      "  \"Converting sparse IndexedSlices to a dense Tensor of unknown shape. \"\n"
     ]
    },
    {
     "name": "stdout",
     "output_type": "stream",
     "text": [
      "Training Network\n",
      "Accuracy after epoch 1  - tr: 0.0481468023256 - te: 0.263494318182\n",
      "Accuracy after epoch 2  - tr: 0.125744047619 - te: 0.195703125\n",
      "Accuracy after epoch 3  - tr: 0.030040922619 - te: 0.031640625\n",
      "Accuracy after epoch 4  - tr: 0.0114397321429 - te: 0.028515625\n",
      "Accuracy after epoch 5  - tr: 0.0159040178571 - te: 0.03359375\n",
      "Accuracy after epoch 6  - tr: 0.0159970238095 - te: 0.040234375\n",
      "Accuracy after epoch 7  - tr: 0.0179501488095 - te: 0.036328125\n",
      "Accuracy after epoch 8  - tr: 0.0221354166667 - te: 0.043359375\n",
      "Accuracy after epoch 9  - tr: 0.0262276785714 - te: 0.050390625\n"
     ]
    },
    {
     "data": {
      "text/plain": [
       "([0.048146802325581398,\n",
       "  0.12574404761904762,\n",
       "  0.03004092261904762,\n",
       "  0.011439732142857142,\n",
       "  0.015904017857142856,\n",
       "  0.015997023809523808,\n",
       "  0.017950148809523808,\n",
       "  0.022135416666666668,\n",
       "  0.026227678571428572],\n",
       " [0.26349431818181818,\n",
       "  0.19570312500000001,\n",
       "  0.031640624999999999,\n",
       "  0.028515624999999999,\n",
       "  0.033593749999999999,\n",
       "  0.040234375000000003,\n",
       "  0.036328125000000003,\n",
       "  0.043359374999999999,\n",
       "  0.050390625000000001])"
      ]
     },
     "execution_count": 4,
     "metadata": {},
     "output_type": "execute_result"
    }
   ],
   "source": [
    "tst.train_network(num_epochs=9)"
   ]
  },
  {
   "cell_type": "code",
   "execution_count": 5,
   "metadata": {
    "collapsed": false
   },
   "outputs": [
    {
     "name": "stdout",
     "output_type": "stream",
     "text": [
      "13529\n"
     ]
    }
   ],
   "source": [
    "print(len(tst.training_labels))"
   ]
  },
  {
   "cell_type": "code",
   "execution_count": 6,
   "metadata": {
    "collapsed": false
   },
   "outputs": [],
   "source": [
    "with open('data/train_reddit_data.json','r') as data_file:    \n",
    "    reddit_data = json.load(data_file)"
   ]
  },
  {
   "cell_type": "code",
   "execution_count": 7,
   "metadata": {
    "collapsed": false
   },
   "outputs": [],
   "source": [
    "df = pd.DataFrame(reddit_data,columns=['user','subreddit','utc_stamp'])\n",
    "df['utc_stamp'] = pd.to_datetime(df['utc_stamp'],unit='s')\n",
    "df.sort_values(by=['user','utc_stamp'], ascending=True, inplace=True)\n",
    "users = list(df.groupby('user')['user'].nunique().keys())\n",
    "sub_list = list(df.groupby('subreddit')['subreddit'].nunique().keys())"
   ]
  },
  {
   "cell_type": "code",
   "execution_count": 10,
   "metadata": {
    "collapsed": false
   },
   "outputs": [],
   "source": [
    "all_recs = []\n",
    "for usr in users[0:25]:\n",
    "    user_comment_subs = list(df.loc[df['user'] == usr]['subreddit'].values)\n",
    "    rec_subs = tst.rec_subs(user_comment_subs)\n",
    "    all_recs.append(rec_subs[0])"
   ]
  },
  {
   "cell_type": "code",
   "execution_count": 11,
   "metadata": {
    "collapsed": false
   },
   "outputs": [
    {
     "data": {
      "text/plain": [
       "[('EnoughTrumpSpam', 5.7668283e-05),\n",
       " ('Android', 0.0060267053),\n",
       " ('Android', 0.0060267053),\n",
       " ('EnoughTrumpSpam', 5.7668283e-05),\n",
       " ('EnoughTrumpSpam', 5.7668283e-05),\n",
       " ('EnoughTrumpSpam', 5.7668283e-05),\n",
       " ('EnoughTrumpSpam', 5.7668283e-05),\n",
       " ('Android', 0.0060267053),\n",
       " ('Android', 0.0060267053),\n",
       " ('Android', 0.0060267053),\n",
       " ('Android', 0.0060267053),\n",
       " ('Android', 0.0060267043),\n",
       " ('Android', 0.0060267053),\n",
       " ('EnoughTrumpSpam', 5.7668287e-05),\n",
       " ('Android', 0.0060267043),\n",
       " ('EnoughTrumpSpam', 5.7668287e-05),\n",
       " ('Android', 0.0060267053),\n",
       " ('Android', 0.0060267053),\n",
       " ('Android', 0.0060267053),\n",
       " ('Android', 0.0060267053),\n",
       " ('EnoughTrumpSpam', 5.7668283e-05),\n",
       " ('EnoughTrumpSpam', 5.7668283e-05),\n",
       " ('EnoughTrumpSpam', 5.7668283e-05),\n",
       " ('Android', 0.0060267053),\n",
       " ('Android', 0.0060267053)]"
      ]
     },
     "execution_count": 11,
     "metadata": {},
     "output_type": "execute_result"
    }
   ],
   "source": [
    "all_recs"
   ]
  }
 ],
 "metadata": {
  "kernelspec": {
   "display_name": "Python 3",
   "language": "python",
   "name": "python3"
  },
  "language_info": {
   "codemirror_mode": {
    "name": "ipython",
    "version": 3
   },
   "file_extension": ".py",
   "mimetype": "text/x-python",
   "name": "python",
   "nbconvert_exporter": "python",
   "pygments_lexer": "ipython3",
   "version": "3.5.2"
  }
 },
 "nbformat": 4,
 "nbformat_minor": 2
}
