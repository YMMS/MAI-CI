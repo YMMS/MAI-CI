{
 "cells": [
  {
   "cell_type": "code",
   "execution_count": 1,
   "metadata": {
    "collapsed": false
   },
   "outputs": [],
   "source": [
    "from imp import reload\n",
    "import SubRecommender as sr\n",
    "import pandas as pd\n",
    "import json"
   ]
  },
  {
   "cell_type": "code",
   "execution_count": 2,
   "metadata": {
    "collapsed": false
   },
   "outputs": [
    {
     "data": {
      "text/plain": [
       "<module 'SubRecommender' from 'C:\\\\Users\\\\macle\\\\Desktop\\\\UPC Masters\\\\Semester 2\\\\CI\\\\SubRecommender\\\\SubRecommender.py'>"
      ]
     },
     "execution_count": 2,
     "metadata": {},
     "output_type": "execute_result"
    }
   ],
   "source": [
    "reload(sr)"
   ]
  },
  {
   "cell_type": "code",
   "execution_count": 3,
   "metadata": {
    "collapsed": true
   },
   "outputs": [],
   "source": [
    "tst = sr.SubRecommender(train_data_file=\"data/train_reddit_data.json\",sequence_chunk_size=51,min_count_thresh=10)"
   ]
  },
  {
   "cell_type": "code",
   "execution_count": 4,
   "metadata": {
    "collapsed": false
   },
   "outputs": [
    {
     "name": "stdout",
     "output_type": "stream",
     "text": [
      "Training Step: 330  | total loss: \u001b[1m\u001b[32m0.70022\u001b[0m\u001b[0m\n",
      "| Adam | epoch: 010 | loss: 0.70022 - acc: 0.0271 | val_loss: 0.70020 - val_acc: 0.0239 -- iter: 8365/8365\n",
      "Training Step: 330  | total loss: \u001b[1m\u001b[32m0.70022\u001b[0m\u001b[0m\n",
      "| Adam | epoch: 010 | loss: 0.70022 - acc: 0.0271 | val_loss: 0.70020 - val_acc: 0.0239 -- iter: 8365/8365\n",
      "--\n"
     ]
    },
    {
     "data": {
      "text/plain": [
       "<tflearn.models.dnn.DNN at 0x2250e421f98>"
      ]
     },
     "execution_count": 4,
     "metadata": {},
     "output_type": "execute_result"
    }
   ],
   "source": [
    "tst.train(num_epochs=10)"
   ]
  },
  {
   "cell_type": "code",
   "execution_count": 5,
   "metadata": {
    "collapsed": false
   },
   "outputs": [
    {
     "data": {
      "text/plain": [
       "10457"
      ]
     },
     "execution_count": 5,
     "metadata": {},
     "output_type": "execute_result"
    }
   ],
   "source": [
    "len(tst.training_sequences)"
   ]
  },
  {
   "cell_type": "code",
   "execution_count": 6,
   "metadata": {
    "collapsed": false
   },
   "outputs": [
    {
     "data": {
      "text/plain": [
       "68"
      ]
     },
     "execution_count": 6,
     "metadata": {},
     "output_type": "execute_result"
    }
   ],
   "source": [
    "tst.vocab_size"
   ]
  },
  {
   "cell_type": "code",
   "execution_count": 7,
   "metadata": {
    "collapsed": false
   },
   "outputs": [],
   "source": [
    "with open(\"data/user_comment_sequence_cache.json\",'r') as cache_file:\n",
    "    sequence_cache = json.load(cache_file)"
   ]
  },
  {
   "cell_type": "code",
   "execution_count": 8,
   "metadata": {
    "collapsed": false
   },
   "outputs": [],
   "source": [
    "test_list = ['opacino', 'Rudolf895', 'Kantknow', 'ftlftlftl', 'Epicshark']\n",
    "tst_seqs = [sequence_cache[usr] for usr in test_list]"
   ]
  },
  {
   "cell_type": "code",
   "execution_count": 9,
   "metadata": {
    "collapsed": false
   },
   "outputs": [
    {
     "data": {
      "text/plain": [
       "[['WTF', 'pics', 'WTF', 'WTF', 'WTF', 'WTF', 'WTF', 'videos'],\n",
       " ['pics',\n",
       "  'movies',\n",
       "  'WTF',\n",
       "  'WTF',\n",
       "  'WTF',\n",
       "  'movies',\n",
       "  'pics',\n",
       "  'pics',\n",
       "  'pics',\n",
       "  'WTF',\n",
       "  'WTF',\n",
       "  'pics'],\n",
       " ['WTF',\n",
       "  'WTF',\n",
       "  'WTF',\n",
       "  'WTF',\n",
       "  'pics',\n",
       "  'WTF',\n",
       "  'WTF',\n",
       "  'WTF',\n",
       "  'WTF',\n",
       "  'pics',\n",
       "  'WTF',\n",
       "  'movies'],\n",
       " ['WTF', 'WTF', 'WTF', 'WTF', 'WTF'],\n",
       " ['movies',\n",
       "  'WTF',\n",
       "  'WTF',\n",
       "  'WTF',\n",
       "  'WTF',\n",
       "  'WTF',\n",
       "  'pics',\n",
       "  'WTF',\n",
       "  'WTF',\n",
       "  'pics',\n",
       "  'pics',\n",
       "  'WTF',\n",
       "  'WTF']]"
      ]
     },
     "execution_count": 9,
     "metadata": {},
     "output_type": "execute_result"
    }
   ],
   "source": [
    "tst.recommend_subs(tst_seqs)"
   ]
  }
 ],
 "metadata": {
  "kernelspec": {
   "display_name": "Python 3",
   "language": "python",
   "name": "python3"
  },
  "language_info": {
   "codemirror_mode": {
    "name": "ipython",
    "version": 3
   },
   "file_extension": ".py",
   "mimetype": "text/x-python",
   "name": "python",
   "nbconvert_exporter": "python",
   "pygments_lexer": "ipython3",
   "version": "3.5.2"
  }
 },
 "nbformat": 4,
 "nbformat_minor": 2
}
