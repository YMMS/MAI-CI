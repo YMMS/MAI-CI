{
 "cells": [
  {
   "cell_type": "code",
   "execution_count": 1,
   "metadata": {
    "collapsed": false
   },
   "outputs": [],
   "source": [
    "from imp import reload\n",
    "import SubRecommender as sr\n",
    "import pandas as pd\n",
    "import json"
   ]
  },
  {
   "cell_type": "code",
   "execution_count": 2,
   "metadata": {
    "collapsed": false
   },
   "outputs": [
    {
     "data": {
      "text/plain": [
       "<module 'SubRecommender' from 'C:\\\\Users\\\\macle\\\\Desktop\\\\UPC Masters\\\\Semester 2\\\\CI\\\\SubRecommender\\\\SubRecommender.py'>"
      ]
     },
     "execution_count": 2,
     "metadata": {},
     "output_type": "execute_result"
    }
   ],
   "source": [
    "reload(sr)"
   ]
  },
  {
   "cell_type": "code",
   "execution_count": 3,
   "metadata": {
    "collapsed": true
   },
   "outputs": [],
   "source": [
    "tst = sr.SubRecommender(train_data_file=\"data/train_reddit_data.json\",save_model_file=\"models/tst\")"
   ]
  },
  {
   "cell_type": "code",
   "execution_count": 4,
   "metadata": {
    "collapsed": false
   },
   "outputs": [
    {
     "name": "stderr",
     "output_type": "stream",
     "text": [
      "c:\\python35\\lib\\site-packages\\tensorflow\\python\\ops\\gradients_impl.py:91: UserWarning: Converting sparse IndexedSlices to a dense Tensor of unknown shape. This may consume a large amount of memory.\n",
      "  \"Converting sparse IndexedSlices to a dense Tensor of unknown shape. \"\n"
     ]
    },
    {
     "name": "stdout",
     "output_type": "stream",
     "text": [
      "Accuracy after epoch 1  - tr: 0.076416015625 - te: 0.23203125\n"
     ]
    },
    {
     "data": {
      "text/plain": [
       "([0.076416015625], [0.23203124999999999])"
      ]
     },
     "execution_count": 4,
     "metadata": {},
     "output_type": "execute_result"
    }
   ],
   "source": [
    "tst.train_network()"
   ]
  },
  {
   "cell_type": "code",
   "execution_count": 5,
   "metadata": {
    "collapsed": false
   },
   "outputs": [],
   "source": [
    "with open('data/test_reddit_data.json','r') as data_file:    \n",
    "    reddit_data = json.load(data_file)"
   ]
  },
  {
   "cell_type": "code",
   "execution_count": 6,
   "metadata": {
    "collapsed": false
   },
   "outputs": [],
   "source": [
    "df = pd.DataFrame(reddit_data,columns=['user','subreddit','utc_stamp'])\n",
    "df['utc_stamp'] = pd.to_datetime(df['utc_stamp'],unit='s')\n",
    "df.sort_values(by=['user','utc_stamp'], ascending=True, inplace=True)\n",
    "users = list(df.groupby('user')['user'].nunique().keys())\n",
    "sub_list = list(df.groupby('subreddit')['subreddit'].nunique().keys())\n",
    "user_comment_subs = list(df.loc[df['user'] == users[1]]['subreddit'].values)"
   ]
  },
  {
   "cell_type": "code",
   "execution_count": 8,
   "metadata": {
    "collapsed": false
   },
   "outputs": [],
   "source": [
    "rec_subs = tst.rec_subs(user_comment_subs)"
   ]
  },
  {
   "cell_type": "code",
   "execution_count": 9,
   "metadata": {
    "collapsed": false
   },
   "outputs": [
    {
     "data": {
      "text/plain": [
       "[('AskReddit', 0.00016034399),\n",
       " ('AskReddit', 0.00016034399),\n",
       " ('AskReddit', 0.00016034399),\n",
       " ('AskReddit', 0.00016034399),\n",
       " ('AskReddit', 0.00016034399),\n",
       " ('AskReddit', 0.00016034399),\n",
       " ('AskReddit', 0.00016034399),\n",
       " ('AskReddit', 0.00016034399),\n",
       " ('AskReddit', 0.00016034399),\n",
       " ('AskReddit', 0.00016034399),\n",
       " ('AskReddit', 0.00016034399),\n",
       " ('AskReddit', 0.000160344),\n",
       " ('AskReddit', 0.000160344),\n",
       " ('AskReddit', 0.000160344),\n",
       " ('AskReddit', 0.000160344),\n",
       " ('AskReddit', 0.000160344),\n",
       " ('AskReddit', 0.000160344),\n",
       " ('AskReddit', 0.000160344),\n",
       " ('AskReddit', 0.000160344),\n",
       " ('AskReddit', 0.000160344),\n",
       " ('AskReddit', 0.000160344),\n",
       " ('AskReddit', 0.000160344),\n",
       " ('AskReddit', 0.000160344),\n",
       " ('AskReddit', 0.000160344),\n",
       " ('AskReddit', 0.000160344),\n",
       " ('AskReddit', 0.000160344),\n",
       " ('AskReddit', 0.000160344),\n",
       " ('AskReddit', 0.000160344),\n",
       " ('AskReddit', 0.000160344),\n",
       " ('AskReddit', 0.000160344),\n",
       " ('AskReddit', 0.000160344),\n",
       " ('AskReddit', 0.000160344),\n",
       " ('AskReddit', 0.000160344),\n",
       " ('AskReddit', 0.000160344),\n",
       " ('AskReddit', 0.000160344),\n",
       " ('AskReddit', 0.000160344),\n",
       " ('AskReddit', 0.000160344),\n",
       " ('AskReddit', 0.000160344),\n",
       " ('AskReddit', 0.000160344),\n",
       " ('AskReddit', 0.000160344),\n",
       " ('AskReddit', 0.000160344),\n",
       " ('AskReddit', 0.000160344),\n",
       " ('AskReddit', 0.000160344),\n",
       " ('AskReddit', 0.000160344),\n",
       " ('AskReddit', 0.000160344),\n",
       " ('AskReddit', 0.000160344),\n",
       " ('AskReddit', 0.000160344),\n",
       " ('AskReddit', 0.000160344),\n",
       " ('AskReddit', 0.000160344),\n",
       " ('AskReddit', 0.000160344),\n",
       " ('AskReddit', 0.000160344),\n",
       " ('AskReddit', 0.000160344),\n",
       " ('AskReddit', 0.000160344),\n",
       " ('AskReddit', 0.000160344),\n",
       " ('AskReddit', 0.000160344),\n",
       " ('AskReddit', 0.000160344),\n",
       " ('AskReddit', 0.000160344),\n",
       " ('AskReddit', 0.000160344),\n",
       " ('AskReddit', 0.000160344),\n",
       " ('AskReddit', 0.000160344),\n",
       " ('AskReddit', 0.000160344),\n",
       " ('AskReddit', 0.000160344),\n",
       " ('AskReddit', 0.000160344),\n",
       " ('AskReddit', 0.000160344),\n",
       " ('AskReddit', 0.000160344),\n",
       " ('AskReddit', 0.000160344),\n",
       " ('AskReddit', 0.000160344),\n",
       " ('AskReddit', 0.000160344),\n",
       " ('AskReddit', 0.000160344),\n",
       " ('AskReddit', 0.000160344),\n",
       " ('AskReddit', 0.000160344),\n",
       " ('AskReddit', 0.000160344),\n",
       " ('AskReddit', 0.000160344),\n",
       " ('AskReddit', 0.000160344),\n",
       " ('AskReddit', 0.000160344),\n",
       " ('AskReddit', 0.000160344),\n",
       " ('AskReddit', 0.000160344),\n",
       " ('AskReddit', 0.000160344),\n",
       " ('AskReddit', 0.000160344),\n",
       " ('AskReddit', 0.000160344),\n",
       " ('AskReddit', 0.000160344),\n",
       " ('AskReddit', 0.000160344),\n",
       " ('AskReddit', 0.000160344),\n",
       " ('AskReddit', 0.000160344),\n",
       " ('AskReddit', 0.000160344),\n",
       " ('AskReddit', 0.000160344),\n",
       " ('AskReddit', 0.000160344),\n",
       " ('AskReddit', 0.000160344),\n",
       " ('AskReddit', 0.000160344),\n",
       " ('AskReddit', 0.000160344),\n",
       " ('AskReddit', 0.000160344),\n",
       " ('AskReddit', 0.000160344),\n",
       " ('AskReddit', 0.000160344),\n",
       " ('AskReddit', 0.000160344),\n",
       " ('AskReddit', 0.000160344),\n",
       " ('AskReddit', 0.000160344),\n",
       " ('AskReddit', 0.000160344),\n",
       " ('AskReddit', 0.000160344),\n",
       " ('AskReddit', 0.000160344),\n",
       " ('AskReddit', 0.000160344),\n",
       " ('AskReddit', 0.000160344),\n",
       " ('AskReddit', 0.000160344),\n",
       " ('AskReddit', 0.000160344),\n",
       " ('AskReddit', 0.000160344),\n",
       " ('AskReddit', 0.000160344),\n",
       " ('AskReddit', 0.000160344),\n",
       " ('AskReddit', 0.000160344),\n",
       " ('AskReddit', 0.000160344),\n",
       " ('AskReddit', 0.000160344),\n",
       " ('AskReddit', 0.000160344),\n",
       " ('AskReddit', 0.000160344),\n",
       " ('AskReddit', 0.000160344),\n",
       " ('AskReddit', 0.000160344),\n",
       " ('AskReddit', 0.000160344),\n",
       " ('AskReddit', 0.000160344),\n",
       " ('AskReddit', 0.000160344),\n",
       " ('AskReddit', 0.000160344),\n",
       " ('AskReddit', 0.000160344),\n",
       " ('AskReddit', 0.000160344),\n",
       " ('AskReddit', 0.000160344),\n",
       " ('AskReddit', 0.000160344),\n",
       " ('AskReddit', 0.000160344),\n",
       " ('AskReddit', 0.000160344),\n",
       " ('AskReddit', 0.000160344),\n",
       " ('AskReddit', 0.000160344),\n",
       " ('AskReddit', 0.000160344),\n",
       " ('AskReddit', 0.000160344),\n",
       " ('AskReddit', 0.000160344),\n",
       " ('AskReddit', 0.000160344),\n",
       " ('AskReddit', 0.000160344),\n",
       " ('AskReddit', 0.000160344),\n",
       " ('AskReddit', 0.000160344),\n",
       " ('AskReddit', 0.000160344),\n",
       " ('AskReddit', 0.000160344),\n",
       " ('AskReddit', 0.000160344),\n",
       " ('AskReddit', 0.000160344),\n",
       " ('AskReddit', 0.000160344),\n",
       " ('AskReddit', 0.000160344),\n",
       " ('AskReddit', 0.000160344),\n",
       " ('AskReddit', 0.000160344),\n",
       " ('AskReddit', 0.000160344),\n",
       " ('AskReddit', 0.000160344),\n",
       " ('AskReddit', 0.000160344),\n",
       " ('AskReddit', 0.000160344),\n",
       " ('AskReddit', 0.000160344),\n",
       " ('AskReddit', 0.000160344),\n",
       " ('AskReddit', 0.000160344),\n",
       " ('AskReddit', 0.000160344),\n",
       " ('AskReddit', 0.000160344),\n",
       " ('AskReddit', 0.00016034402),\n",
       " ('AskReddit', 0.00016034402),\n",
       " ('AskReddit', 0.00016034402),\n",
       " ('AskReddit', 0.00016034402),\n",
       " ('AskReddit', 0.00016034402),\n",
       " ('AskReddit', 0.00016034402),\n",
       " ('AskReddit', 0.00016034402),\n",
       " ('AskReddit', 0.00016034402),\n",
       " ('AskReddit', 0.00016034402),\n",
       " ('AskReddit', 0.00016034402),\n",
       " ('AskReddit', 0.00016034402),\n",
       " ('AskReddit', 0.00016034402),\n",
       " ('AskReddit', 0.00016034402),\n",
       " ('AskReddit', 0.00016034402),\n",
       " ('AskReddit', 0.00016034402),\n",
       " ('AskReddit', 0.00016034402),\n",
       " ('AskReddit', 0.00016034402),\n",
       " ('AskReddit', 0.00016034402),\n",
       " ('AskReddit', 0.00016034402),\n",
       " ('AskReddit', 0.00016034402),\n",
       " ('AskReddit', 0.00016034402),\n",
       " ('AskReddit', 0.00016034402),\n",
       " ('AskReddit', 0.00016034402),\n",
       " ('AskReddit', 0.00016034402),\n",
       " ('AskReddit', 0.00016034402),\n",
       " ('AskReddit', 0.00016034402),\n",
       " ('AskReddit', 0.00016034402),\n",
       " ('AskReddit', 0.00016034402),\n",
       " ('AskReddit', 0.00016034402),\n",
       " ('AskReddit', 0.00016034402),\n",
       " ('AskReddit', 0.00016034402),\n",
       " ('AskReddit', 0.00016034402),\n",
       " ('AskReddit', 0.00016034402),\n",
       " ('AskReddit', 0.00016034402),\n",
       " ('AskReddit', 0.00016034402),\n",
       " ('AskReddit', 0.00016034402),\n",
       " ('AskReddit', 0.00016034402),\n",
       " ('AskReddit', 0.00016034402),\n",
       " ('AskReddit', 0.00016034402),\n",
       " ('AskReddit', 0.00016034402),\n",
       " ('AskReddit', 0.00016034402),\n",
       " ('AskReddit', 0.00016034402),\n",
       " ('AskReddit', 0.00016034402),\n",
       " ('AskReddit', 0.00016034402),\n",
       " ('AskReddit', 0.00016034402),\n",
       " ('AskReddit', 0.00016034402),\n",
       " ('AskReddit', 0.00016034402),\n",
       " ('AskReddit', 0.00016034402),\n",
       " ('AskReddit', 0.00016034402),\n",
       " ('AskReddit', 0.00016034402),\n",
       " ('AskReddit', 0.00016034402),\n",
       " ('AskReddit', 0.00016034402),\n",
       " ('AskReddit', 0.00016034402),\n",
       " ('AskReddit', 0.00016034402),\n",
       " ('AskReddit', 0.00016034402),\n",
       " ('AskReddit', 0.00016034402),\n",
       " ('AskReddit', 0.00016034402),\n",
       " ('AskReddit', 0.00016034402),\n",
       " ('AskReddit', 0.00016034402),\n",
       " ('AskReddit', 0.00016034402),\n",
       " ('AskReddit', 0.00016034402),\n",
       " ('AskReddit', 0.00016034402),\n",
       " ('AskReddit', 0.00016034402),\n",
       " ('AskReddit', 0.00016034402),\n",
       " ('AskReddit', 0.00016034402),\n",
       " ('AskReddit', 0.00016034402),\n",
       " ('AskReddit', 0.00016034402),\n",
       " ('AskReddit', 0.00016034402),\n",
       " ('AskReddit', 0.00016034402),\n",
       " ('AskReddit', 0.00016034402),\n",
       " ('AskReddit', 0.00016034402),\n",
       " ('AskReddit', 0.00016034402),\n",
       " ('AskReddit', 0.00016034402),\n",
       " ('AskReddit', 0.00016034402),\n",
       " ('AskReddit', 0.00016034402),\n",
       " ('AskReddit', 0.00016034402),\n",
       " ('AskReddit', 0.00016034402),\n",
       " ('AskReddit', 0.00016034402),\n",
       " ('AskReddit', 0.00016034402),\n",
       " ('AskReddit', 0.00016034402),\n",
       " ('AskReddit', 0.00016109135),\n",
       " ('AskReddit', 0.00016185656),\n",
       " ('AskReddit', 0.00016185656),\n",
       " ('AskReddit', 0.00016185656),\n",
       " ('AskReddit', 0.00016185656),\n",
       " ('AskReddit', 0.00016185656),\n",
       " ('AskReddit', 0.00016185656),\n",
       " ('AskReddit', 0.00016185656),\n",
       " ('AskReddit', 0.00016185656),\n",
       " ('AskReddit', 0.00016185656),\n",
       " ('AskReddit', 0.00016185656),\n",
       " ('AskReddit', 0.00016185657),\n",
       " ('AskReddit', 0.00016185657),\n",
       " ('AskReddit', 0.00016185657),\n",
       " ('AskReddit', 0.00016185657),\n",
       " ('AskReddit', 0.00016185657),\n",
       " ('AskReddit', 0.00016185657),\n",
       " ('AskReddit', 0.00016185657),\n",
       " ('AskReddit', 0.00016185657),\n",
       " ('AskReddit', 0.00016185657),\n",
       " ('AskReddit', 0.00016185657),\n",
       " ('AskReddit', 0.00016185657),\n",
       " ('AskReddit', 0.00016185657),\n",
       " ('AskReddit', 0.00016185657),\n",
       " ('AskReddit', 0.00016185657),\n",
       " ('AskReddit', 0.00016185657),\n",
       " ('AskReddit', 0.00016185657)]"
      ]
     },
     "execution_count": 9,
     "metadata": {},
     "output_type": "execute_result"
    }
   ],
   "source": [
    "rec_subs[0:10]"
   ]
  },
  {
   "cell_type": "code",
   "execution_count": null,
   "metadata": {
    "collapsed": false
   },
   "outputs": [],
   "source": [
    "rec_prob_tuple"
   ]
  },
  {
   "cell_type": "code",
   "execution_count": null,
   "metadata": {
    "collapsed": false
   },
   "outputs": [],
   "source": [
    "tst.idx_to_vocab[230]"
   ]
  }
 ],
 "metadata": {
  "kernelspec": {
   "display_name": "Python 3",
   "language": "python",
   "name": "python3"
  },
  "language_info": {
   "codemirror_mode": {
    "name": "ipython",
    "version": 3
   },
   "file_extension": ".py",
   "mimetype": "text/x-python",
   "name": "python",
   "nbconvert_exporter": "python",
   "pygments_lexer": "ipython3",
   "version": "3.5.2"
  }
 },
 "nbformat": 4,
 "nbformat_minor": 2
}
