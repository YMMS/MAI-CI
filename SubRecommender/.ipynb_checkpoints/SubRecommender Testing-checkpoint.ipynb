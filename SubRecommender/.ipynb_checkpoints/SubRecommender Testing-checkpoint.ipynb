{
 "cells": [
  {
   "cell_type": "code",
   "execution_count": 1,
   "metadata": {
    "collapsed": false
   },
   "outputs": [],
   "source": [
    "from imp import reload\n",
    "import SubRecommender as sr\n",
    "import pandas as pd\n",
    "import json"
   ]
  },
  {
   "cell_type": "code",
   "execution_count": 2,
   "metadata": {
    "collapsed": false
   },
   "outputs": [
    {
     "data": {
      "text/plain": [
       "<module 'SubRecommender' from 'C:\\\\Users\\\\macle\\\\Desktop\\\\UPC Masters\\\\Semester 2\\\\CI\\\\SubRecommender\\\\SubRecommender.py'>"
      ]
     },
     "execution_count": 2,
     "metadata": {},
     "output_type": "execute_result"
    }
   ],
   "source": [
    "reload(sr)"
   ]
  },
  {
   "cell_type": "code",
   "execution_count": 3,
   "metadata": {
    "collapsed": true
   },
   "outputs": [],
   "source": [
    "tst = sr.SubRecommender(train_data_file=\"data/train_reddit_data.json\",sequence_chunk_size=51,min_count_thresh=10)"
   ]
  },
  {
   "cell_type": "code",
   "execution_count": 4,
   "metadata": {
    "collapsed": false
   },
   "outputs": [
    {
     "name": "stdout",
     "output_type": "stream",
     "text": [
      "Training Step: 320  | total loss: \u001b[1m\u001b[32m6.17497\u001b[0m\u001b[0m\n",
      "| Adam | epoch: 010 | loss: 6.17497 - acc: 0.0044 | val_loss: 6.41278 - val_acc: 0.0045 -- iter: 7945/7945\n",
      "Training Step: 320  | total loss: \u001b[1m\u001b[32m6.17497\u001b[0m\u001b[0m\n",
      "| Adam | epoch: 010 | loss: 6.17497 - acc: 0.0044 | val_loss: 6.41278 - val_acc: 0.0045 -- iter: 7945/7945\n",
      "--\n"
     ]
    },
    {
     "data": {
      "text/plain": [
       "<tflearn.models.dnn.DNN at 0x1a3b5d74048>"
      ]
     },
     "execution_count": 4,
     "metadata": {},
     "output_type": "execute_result"
    }
   ],
   "source": [
    "tst.train(num_epochs=10)"
   ]
  },
  {
   "cell_type": "code",
   "execution_count": 5,
   "metadata": {
    "collapsed": false
   },
   "outputs": [
    {
     "data": {
      "text/plain": [
       "663"
      ]
     },
     "execution_count": 5,
     "metadata": {},
     "output_type": "execute_result"
    }
   ],
   "source": [
    "tst.vocab_size"
   ]
  },
  {
   "cell_type": "code",
   "execution_count": 6,
   "metadata": {
    "collapsed": false
   },
   "outputs": [],
   "source": [
    "with open(\"data/user_comment_sequence_cache.json\",'r') as cache_file:\n",
    "    sequence_cache = json.load(cache_file)"
   ]
  },
  {
   "cell_type": "code",
   "execution_count": 7,
   "metadata": {
    "collapsed": false
   },
   "outputs": [],
   "source": [
    "test_list = ['opacino', 'Rudolf895', 'Kantknow', 'ftlftlftl', 'Epicshark']\n",
    "tst_seqs = [sequence_cache[usr] for usr in test_list]"
   ]
  },
  {
   "cell_type": "code",
   "execution_count": 8,
   "metadata": {
    "collapsed": false
   },
   "outputs": [
    {
     "data": {
      "text/plain": [
       "[['pics',\n",
       "  'mildlyinteresting',\n",
       "  'funny',\n",
       "  'mildlyinteresting',\n",
       "  'mildlyinteresting',\n",
       "  'mildlyinteresting',\n",
       "  'mildlyinteresting',\n",
       "  'mildlyinteresting'],\n",
       " ['mildlyinteresting',\n",
       "  'shittyfoodporn',\n",
       "  'TrueDoTA2',\n",
       "  'CHICubs',\n",
       "  'shittyfoodporn',\n",
       "  'shittyfoodporn',\n",
       "  'mildlyinteresting',\n",
       "  'shittyfoodporn',\n",
       "  'mildlyinteresting',\n",
       "  'funny',\n",
       "  'shittyfoodporn',\n",
       "  'shittyfoodporn'],\n",
       " ['CHICubs',\n",
       "  'mildlyinteresting',\n",
       "  'TrueDoTA2',\n",
       "  'CHICubs',\n",
       "  'TrueDoTA2',\n",
       "  'TrueDoTA2',\n",
       "  'BearStack',\n",
       "  'SantasLittleHelpers',\n",
       "  'TrueDoTA2',\n",
       "  'CHICubs',\n",
       "  'funny',\n",
       "  'shittyfoodporn'],\n",
       " ['funny', 'funny', 'shittyfoodporn', 'shittyfoodporn', 'funny'],\n",
       " ['shittyfoodporn',\n",
       "  'mildlyinteresting',\n",
       "  'shittyfoodporn',\n",
       "  'mildlyinteresting',\n",
       "  'shittyfoodporn',\n",
       "  'shittyfoodporn',\n",
       "  'wholesomememes',\n",
       "  'shittyfoodporn',\n",
       "  'shittyfoodporn',\n",
       "  'TrueDoTA2',\n",
       "  'shittyfoodporn',\n",
       "  'TrueDoTA2',\n",
       "  'TrueDoTA2']]"
      ]
     },
     "execution_count": 8,
     "metadata": {},
     "output_type": "execute_result"
    }
   ],
   "source": [
    "tst.recommend_subs(tst_seqs)"
   ]
  }
 ],
 "metadata": {
  "kernelspec": {
   "display_name": "Python 3",
   "language": "python",
   "name": "python3"
  },
  "language_info": {
   "codemirror_mode": {
    "name": "ipython",
    "version": 3
   },
   "file_extension": ".py",
   "mimetype": "text/x-python",
   "name": "python",
   "nbconvert_exporter": "python",
   "pygments_lexer": "ipython3",
   "version": "3.5.2"
  }
 },
 "nbformat": 4,
 "nbformat_minor": 2
}
