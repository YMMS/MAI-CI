{
 "cells": [
  {
   "cell_type": "markdown",
   "metadata": {},
   "source": [
    "<b>Scratch Pad</b>  \n",
    "User interaction data (ie # of comments, per subreddit etc)  - Can be used as word move weight/count  \n",
    "Architecture - WMD fed into net with features as top X closest users (ie user 1,8,56,123) which are ordered by their inherent embedding distances from a reference user (ie a default sub user), could also include furthest users, add NLP/content features for fine tuning suggestions from close users.  \n",
    "Need to deal with aging problem of recommender systems  \n",
    "Need to update network gefx file  \n",
    "identify users very far from you to introduce outside perspectives  \n",
    "Center of gravity of user comments over time of user account age  \n",
    "comment -> subreddit sequenced RNN, predict next subreddit to comment in?  \n",
    "Use subbeddit tags and related subreddits for network connections in embedding network  \n",
    "things learned - reading code from python packages  \n",
    "temporal EDA (distribution of post month/year)  \n",
    "Chrome extension to show visualization of selected users network compared to yours  \n",
    "explore dataset size over accuracy\n",
    "\n"
   ]
  },
  {
   "cell_type": "code",
   "execution_count": 2,
   "metadata": {
    "collapsed": false
   },
   "outputs": [],
   "source": [
    "import json\n",
    "import os\n",
    "import pandas as pd\n",
    "import numpy as np\n",
    "import matplotlib.pyplot as plt\n",
    "from ggplot import *\n",
    "import networkx as nx\n",
    "from networkx.readwrite import json_graph\n",
    "from operator import itemgetter\n",
    "from collections import Counter\n",
    "from bs4 import BeautifulSoup\n",
    "from pyemd import emd\n",
    "import random\n",
    "from sklearn.metrics import euclidean_distances\n",
    "import tensorflow as tf\n",
    "from tflearn.data_utils import to_categorical, pad_sequences\n",
    "import tflearn\n",
    "import SubRecommender\n",
    "from sklearn.preprocessing import normalize\n",
    "%matplotlib inline"
   ]
  },
  {
   "cell_type": "markdown",
   "metadata": {},
   "source": [
    "<h1>Introduction</h1>\n",
    "With the advent of the internet, the marginal cost of content creation and distribution has approached negligibility, allowing anyone to become content creators capable of reaching billions of consumers. The problem of the consumer has now become one of filtering, as the firehose of information becomes dibilitating as the effort and time required to parse through it all becomes intractable for any individual. Two solutions have emerged for this problem of the Information Age: Community Curation and Recommendor Systems. Community Curation depends on the collective interests of the inhabitants of a community that have come together under a specific theme to filter out any content not relavent to the communities collective interests. Webistes such as [Reddit](https://www.reddit.com/) provide a platform for the development of these communities through the creation of \"subreddits\", each of which center on a single specific theme for members to converse about through content sharing and discussion. Recommender Systems rely on the historical patterns of users to predict the preference of a user for new content, and work to suggest content most likely to be of interest to that individual user.\n",
    "\n",
    "In this work, we combine the two methods of information filtering by creating a Recommender System designed to suggest new subreddits for a user to join, in an attempt to solve the problem of community discovery, where finding communities that successfully filter out uninteresting content for a given user can be difficult.\n",
    "\n",
    "\n",
    "<h3>Model Hypothesis</h3>\n",
    "\n",
    "The hypothesis of the recommender model is, given an ordered sequence of user subreddit interactions, patterns will emerge that favour the discovery of paticular new subreddits given that historical user interaction sequence. The intuition is, that as users interact with the Reddit ecosystem, they discover new subreddits of interest, but these new discoveries are influenced by the communities they have previously been interacting with. We can then train a model to recognize these emergent subreddit discoveries based on users historical subreddit discovery patterns. When the model is presented with a new sequence of user interaction, it \"remembers\" other users that historically had similiar interaction habits and recommend their subreddits that the current user has yet to discover.  \n",
    "\n",
    "TODO: Academic Paper Examples and References  \n",
    "This sequential view of user interaction/subreddit discovery is similiar in structure to other problems being solved with the use of Recurrent Neural Networks, such as [Character Level Language Modelling](http://karpathy.github.io/2015/05/21/rnn-effectiveness/) and [Automatic Authorship Detection](http://r2rt.com/recurrent-neural-networks-in-tensorflow-iii-variable-length-sequences.html). Due to the successes of these similiarly structured problems, we have decided to explore RNN models for the subbreddit Recommendator System.\n",
    "\n",
    "<h3>Model Architectures</h3>\n",
    "\n",
    "TODO: Intro to LSTM's, GRU's and Bi-D, plus deep, and hypothesis on what might work well and why  \n",
    "The goal of this project is to explore and compare different RNN architecture's applied to the subreddit Recommender System to develop a system capable of recommedending interesting new subreddit communities to users. Similiar explorations have been performed on other problem domains, such as [resteraunt recommendations](https://cs224d.stanford.edu/reports/LiuSingh.pdf). This project will follow a similiar exploration, comparing shallow and deep LSTM, GRU and Bi-directional architectues.\n",
    "\n",
    "<h3>Dataset</h3>\n",
    "TODO: Update dataset numbers  \n",
    "The dataset was compiled using a python scrapper developed using Reddit's PRAW API. The raw data is a list of 3-tuples of [username,subreddit,utc timestamp]. Each row represents a single comment made by the user, with a total of 22,744,757 collected comments representing 37,036 unique users across 42,583 unique subreddits. "
   ]
  },
  {
   "cell_type": "code",
   "execution_count": 3,
   "metadata": {
    "collapsed": false
   },
   "outputs": [],
   "source": [
    "with open('data/train_reddit_data.json','r') as data_file:    \n",
    "    reddit_data = json.load(data_file)"
   ]
  },
  {
   "cell_type": "code",
   "execution_count": 4,
   "metadata": {
    "collapsed": false
   },
   "outputs": [
    {
     "data": {
      "text/html": [
       "<div>\n",
       "<table border=\"1\" class=\"dataframe\">\n",
       "  <thead>\n",
       "    <tr style=\"text-align: right;\">\n",
       "      <th></th>\n",
       "      <th>user</th>\n",
       "      <th>subreddit</th>\n",
       "      <th>utc_stamp</th>\n",
       "    </tr>\n",
       "  </thead>\n",
       "  <tbody>\n",
       "    <tr>\n",
       "      <th>0</th>\n",
       "      <td>kabanossi</td>\n",
       "      <td>photoshopbattles</td>\n",
       "      <td>2016-12-26 10:24:59</td>\n",
       "    </tr>\n",
       "    <tr>\n",
       "      <th>1</th>\n",
       "      <td>kabanossi</td>\n",
       "      <td>GetMotivated</td>\n",
       "      <td>2016-12-26 10:23:14</td>\n",
       "    </tr>\n",
       "    <tr>\n",
       "      <th>2</th>\n",
       "      <td>kabanossi</td>\n",
       "      <td>vmware</td>\n",
       "      <td>2016-12-26 10:21:16</td>\n",
       "    </tr>\n",
       "    <tr>\n",
       "      <th>3</th>\n",
       "      <td>kabanossi</td>\n",
       "      <td>carporn</td>\n",
       "      <td>2016-12-26 10:20:18</td>\n",
       "    </tr>\n",
       "    <tr>\n",
       "      <th>4</th>\n",
       "      <td>kabanossi</td>\n",
       "      <td>DIY</td>\n",
       "      <td>2016-12-26 10:17:59</td>\n",
       "    </tr>\n",
       "  </tbody>\n",
       "</table>\n",
       "</div>"
      ],
      "text/plain": [
       "        user         subreddit           utc_stamp\n",
       "0  kabanossi  photoshopbattles 2016-12-26 10:24:59\n",
       "1  kabanossi      GetMotivated 2016-12-26 10:23:14\n",
       "2  kabanossi            vmware 2016-12-26 10:21:16\n",
       "3  kabanossi           carporn 2016-12-26 10:20:18\n",
       "4  kabanossi               DIY 2016-12-26 10:17:59"
      ]
     },
     "execution_count": 4,
     "metadata": {},
     "output_type": "execute_result"
    }
   ],
   "source": [
    "df = pd.DataFrame(reddit_data,columns=['user','subreddit','utc_stamp'])\n",
    "df['utc_stamp'] = pd.to_datetime(df['utc_stamp'],unit='s')\n",
    "df.head()"
   ]
  },
  {
   "cell_type": "code",
   "execution_count": 5,
   "metadata": {
    "collapsed": false
   },
   "outputs": [
    {
     "name": "stdout",
     "output_type": "stream",
     "text": [
      "Unique Users = 37036\n",
      "Unique Subreddits = 42583\n",
      "Total User Comments = 22744757\n"
     ]
    }
   ],
   "source": [
    "print(\"Unique Users = \" + str(len(df.groupby('user')['user'].nunique())))\n",
    "print(\"Unique Subreddits = \" + str(len(df.groupby('subreddit')['subreddit'].nunique())))\n",
    "print(\"Total User Comments = \" + str(df.shape[0]))"
   ]
  },
  {
   "cell_type": "markdown",
   "metadata": {},
   "source": [
    "<h1>Exploratory Data Analysis</h1>\n",
    "\n",
    "Before building the different RNN architectures, an exploration of the dataset is performed to build an intuition for the distributions in the dataset, and to identify any missing or anomalous data."
   ]
  },
  {
   "cell_type": "markdown",
   "metadata": {},
   "source": [
    "<h3>Subreddit Data</h3>"
   ]
  },
  {
   "cell_type": "code",
   "execution_count": 6,
   "metadata": {
    "collapsed": false
   },
   "outputs": [
    {
     "data": {
      "image/png": "[encoded data removed]",
      "text/plain": [
       "<matplotlib.figure.Figure at 0x1ab40a99f28>"
      ]
     },
     "metadata": {},
     "output_type": "display_data"
    }
   ],
   "source": [
    "user_subs = df.groupby(['user'])['subreddit'].nunique()\n",
    "plt.hist(user_subs.values, bins=100)\n",
    "plt.title(\"User vs Sub Counts Histogram\")\n",
    "plt.show()"
   ]
  },
  {
   "cell_type": "code",
   "execution_count": 15,
   "metadata": {
    "collapsed": false
   },
   "outputs": [
    {
     "data": {
      "text/plain": [
       "[(1, 1807), (2, 1320), (3, 1186), (4, 1008), (5, 916)]"
      ]
     },
     "execution_count": 15,
     "metadata": {},
     "output_type": "execute_result"
    }
   ],
   "source": [
    "Counter(user_subs).most_common(5)"
   ]
  },
  {
   "cell_type": "code",
   "execution_count": 6,
   "metadata": {
    "collapsed": false
   },
   "outputs": [
    {
     "data": {
      "text/html": [
       "<div>\n",
       "<table border=\"1\" class=\"dataframe\">\n",
       "  <thead>\n",
       "    <tr style=\"text-align: right;\">\n",
       "      <th></th>\n",
       "      <th>sub</th>\n",
       "      <th>user_count</th>\n",
       "    </tr>\n",
       "  </thead>\n",
       "  <tbody>\n",
       "    <tr>\n",
       "      <th>1584</th>\n",
       "      <td>AskReddit</td>\n",
       "      <td>20082</td>\n",
       "    </tr>\n",
       "    <tr>\n",
       "      <th>33752</th>\n",
       "      <td>pics</td>\n",
       "      <td>14174</td>\n",
       "    </tr>\n",
       "    <tr>\n",
       "      <th>27871</th>\n",
       "      <td>funny</td>\n",
       "      <td>13886</td>\n",
       "    </tr>\n",
       "    <tr>\n",
       "      <th>37949</th>\n",
       "      <td>todayilearned</td>\n",
       "      <td>13057</td>\n",
       "    </tr>\n",
       "    <tr>\n",
       "      <th>39531</th>\n",
       "      <td>worldnews</td>\n",
       "      <td>11878</td>\n",
       "    </tr>\n",
       "    <tr>\n",
       "      <th>28040</th>\n",
       "      <td>gaming</td>\n",
       "      <td>11763</td>\n",
       "    </tr>\n",
       "    <tr>\n",
       "      <th>38872</th>\n",
       "      <td>videos</td>\n",
       "      <td>11742</td>\n",
       "    </tr>\n",
       "    <tr>\n",
       "      <th>32555</th>\n",
       "      <td>news</td>\n",
       "      <td>10877</td>\n",
       "    </tr>\n",
       "    <tr>\n",
       "      <th>28251</th>\n",
       "      <td>gifs</td>\n",
       "      <td>10701</td>\n",
       "    </tr>\n",
       "    <tr>\n",
       "      <th>32137</th>\n",
       "      <td>movies</td>\n",
       "      <td>9703</td>\n",
       "    </tr>\n",
       "    <tr>\n",
       "      <th>9158</th>\n",
       "      <td>IAmA</td>\n",
       "      <td>9626</td>\n",
       "    </tr>\n",
       "    <tr>\n",
       "      <th>17368</th>\n",
       "      <td>Showerthoughts</td>\n",
       "      <td>9241</td>\n",
       "    </tr>\n",
       "    <tr>\n",
       "      <th>34032</th>\n",
       "      <td>politics</td>\n",
       "      <td>8570</td>\n",
       "    </tr>\n",
       "    <tr>\n",
       "      <th>23045</th>\n",
       "      <td>aww</td>\n",
       "      <td>8383</td>\n",
       "    </tr>\n",
       "    <tr>\n",
       "      <th>21019</th>\n",
       "      <td>WTF</td>\n",
       "      <td>8182</td>\n",
       "    </tr>\n",
       "    <tr>\n",
       "      <th>31749</th>\n",
       "      <td>mildlyinteresting</td>\n",
       "      <td>8012</td>\n",
       "    </tr>\n",
       "    <tr>\n",
       "      <th>680</th>\n",
       "      <td>AdviceAnimals</td>\n",
       "      <td>7062</td>\n",
       "    </tr>\n",
       "    <tr>\n",
       "      <th>26985</th>\n",
       "      <td>explainlikeimfive</td>\n",
       "      <td>6949</td>\n",
       "    </tr>\n",
       "    <tr>\n",
       "      <th>35499</th>\n",
       "      <td>science</td>\n",
       "      <td>6453</td>\n",
       "    </tr>\n",
       "    <tr>\n",
       "      <th>12682</th>\n",
       "      <td>Music</td>\n",
       "      <td>6412</td>\n",
       "    </tr>\n",
       "    <tr>\n",
       "      <th>37385</th>\n",
       "      <td>television</td>\n",
       "      <td>6321</td>\n",
       "    </tr>\n",
       "    <tr>\n",
       "      <th>37337</th>\n",
       "      <td>technology</td>\n",
       "      <td>6239</td>\n",
       "    </tr>\n",
       "    <tr>\n",
       "      <th>32832</th>\n",
       "      <td>nottheonion</td>\n",
       "      <td>5909</td>\n",
       "    </tr>\n",
       "    <tr>\n",
       "      <th>11105</th>\n",
       "      <td>LifeProTips</td>\n",
       "      <td>5830</td>\n",
       "    </tr>\n",
       "    <tr>\n",
       "      <th>37854</th>\n",
       "      <td>tifu</td>\n",
       "      <td>5346</td>\n",
       "    </tr>\n",
       "    <tr>\n",
       "      <th>10177</th>\n",
       "      <td>Jokes</td>\n",
       "      <td>5159</td>\n",
       "    </tr>\n",
       "    <tr>\n",
       "      <th>13730</th>\n",
       "      <td>OldSchoolCool</td>\n",
       "      <td>5018</td>\n",
       "    </tr>\n",
       "    <tr>\n",
       "      <th>7476</th>\n",
       "      <td>Futurology</td>\n",
       "      <td>4834</td>\n",
       "    </tr>\n",
       "    <tr>\n",
       "      <th>33536</th>\n",
       "      <td>pcmasterrace</td>\n",
       "      <td>4823</td>\n",
       "    </tr>\n",
       "    <tr>\n",
       "      <th>19511</th>\n",
       "      <td>The_Donald</td>\n",
       "      <td>4720</td>\n",
       "    </tr>\n",
       "    <tr>\n",
       "      <th>36496</th>\n",
       "      <td>space</td>\n",
       "      <td>4510</td>\n",
       "    </tr>\n",
       "    <tr>\n",
       "      <th>25681</th>\n",
       "      <td>dataisbeautiful</td>\n",
       "      <td>4479</td>\n",
       "    </tr>\n",
       "    <tr>\n",
       "      <th>23892</th>\n",
       "      <td>books</td>\n",
       "      <td>4266</td>\n",
       "    </tr>\n",
       "    <tr>\n",
       "      <th>36586</th>\n",
       "      <td>sports</td>\n",
       "      <td>4193</td>\n",
       "    </tr>\n",
       "    <tr>\n",
       "      <th>27508</th>\n",
       "      <td>food</td>\n",
       "      <td>4138</td>\n",
       "    </tr>\n",
       "    <tr>\n",
       "      <th>29690</th>\n",
       "      <td>interestingasfuck</td>\n",
       "      <td>3848</td>\n",
       "    </tr>\n",
       "    <tr>\n",
       "      <th>33626</th>\n",
       "      <td>personalfinance</td>\n",
       "      <td>3810</td>\n",
       "    </tr>\n",
       "    <tr>\n",
       "      <th>20256</th>\n",
       "      <td>TwoXChromosomes</td>\n",
       "      <td>3771</td>\n",
       "    </tr>\n",
       "    <tr>\n",
       "      <th>33951</th>\n",
       "      <td>pokemongo</td>\n",
       "      <td>3747</td>\n",
       "    </tr>\n",
       "    <tr>\n",
       "      <th>25323</th>\n",
       "      <td>creepy</td>\n",
       "      <td>3653</td>\n",
       "    </tr>\n",
       "    <tr>\n",
       "      <th>13983</th>\n",
       "      <td>Overwatch</td>\n",
       "      <td>3560</td>\n",
       "    </tr>\n",
       "    <tr>\n",
       "      <th>2574</th>\n",
       "      <td>BlackPeopleTwitter</td>\n",
       "      <td>3558</td>\n",
       "    </tr>\n",
       "    <tr>\n",
       "      <th>20582</th>\n",
       "      <td>UpliftingNews</td>\n",
       "      <td>3481</td>\n",
       "    </tr>\n",
       "    <tr>\n",
       "      <th>22897</th>\n",
       "      <td>atheism</td>\n",
       "      <td>3440</td>\n",
       "    </tr>\n",
       "    <tr>\n",
       "      <th>5521</th>\n",
       "      <td>Documentaries</td>\n",
       "      <td>3370</td>\n",
       "    </tr>\n",
       "    <tr>\n",
       "      <th>23502</th>\n",
       "      <td>bestof</td>\n",
       "      <td>3300</td>\n",
       "    </tr>\n",
       "    <tr>\n",
       "      <th>22824</th>\n",
       "      <td>askscience</td>\n",
       "      <td>3206</td>\n",
       "    </tr>\n",
       "    <tr>\n",
       "      <th>4815</th>\n",
       "      <td>DIY</td>\n",
       "      <td>3203</td>\n",
       "    </tr>\n",
       "    <tr>\n",
       "      <th>39474</th>\n",
       "      <td>woahdude</td>\n",
       "      <td>2893</td>\n",
       "    </tr>\n",
       "    <tr>\n",
       "      <th>18079</th>\n",
       "      <td>StarWars</td>\n",
       "      <td>2860</td>\n",
       "    </tr>\n",
       "  </tbody>\n",
       "</table>\n",
       "</div>"
      ],
      "text/plain": [
       "                      sub  user_count\n",
       "1584            AskReddit       20082\n",
       "33752                pics       14174\n",
       "27871               funny       13886\n",
       "37949       todayilearned       13057\n",
       "39531           worldnews       11878\n",
       "28040              gaming       11763\n",
       "38872              videos       11742\n",
       "32555                news       10877\n",
       "28251                gifs       10701\n",
       "32137              movies        9703\n",
       "9158                 IAmA        9626\n",
       "17368      Showerthoughts        9241\n",
       "34032            politics        8570\n",
       "23045                 aww        8383\n",
       "21019                 WTF        8182\n",
       "31749   mildlyinteresting        8012\n",
       "680         AdviceAnimals        7062\n",
       "26985   explainlikeimfive        6949\n",
       "35499             science        6453\n",
       "12682               Music        6412\n",
       "37385          television        6321\n",
       "37337          technology        6239\n",
       "32832         nottheonion        5909\n",
       "11105         LifeProTips        5830\n",
       "37854                tifu        5346\n",
       "10177               Jokes        5159\n",
       "13730       OldSchoolCool        5018\n",
       "7476           Futurology        4834\n",
       "33536        pcmasterrace        4823\n",
       "19511          The_Donald        4720\n",
       "36496               space        4510\n",
       "25681     dataisbeautiful        4479\n",
       "23892               books        4266\n",
       "36586              sports        4193\n",
       "27508                food        4138\n",
       "29690   interestingasfuck        3848\n",
       "33626     personalfinance        3810\n",
       "20256     TwoXChromosomes        3771\n",
       "33951           pokemongo        3747\n",
       "25323              creepy        3653\n",
       "13983           Overwatch        3560\n",
       "2574   BlackPeopleTwitter        3558\n",
       "20582       UpliftingNews        3481\n",
       "22897             atheism        3440\n",
       "5521        Documentaries        3370\n",
       "23502              bestof        3300\n",
       "22824          askscience        3206\n",
       "4815                  DIY        3203\n",
       "39474            woahdude        2893\n",
       "18079            StarWars        2860"
      ]
     },
     "execution_count": 6,
     "metadata": {},
     "output_type": "execute_result"
    }
   ],
   "source": [
    "sub_users = df.groupby(['subreddit'])['user'].nunique()\n",
    "data_tuple = pd.DataFrame([(sub,count) for sub,count in sub_users.items()],columns=[\"sub\",\"user_count\"])\n",
    "sorted_df = data_tuple.sort_values(by='user_count',ascending=False)\n",
    "sorted_df.head(50)"
   ]
  },
  {
   "cell_type": "code",
   "execution_count": 7,
   "metadata": {
    "collapsed": false
   },
   "outputs": [
    {
     "data": {
      "image/png": "[encoded data removed]",
      "text/plain": [
       "<matplotlib.figure.Figure at 0x2d10a5f5400>"
      ]
     },
     "metadata": {},
     "output_type": "display_data"
    }
   ],
   "source": [
    "user_summary = df.groupby(by=['user'])['user']\n",
    "plt.hist(user_summary.value_counts(), bins=100)\n",
    "plt.show()"
   ]
  },
  {
   "cell_type": "code",
   "execution_count": 8,
   "metadata": {
    "collapsed": false
   },
   "outputs": [
    {
     "data": {
      "image/png": "[encoded data removed]",
      "text/plain": [
       "<matplotlib.figure.Figure at 0x2d28237e240>"
      ]
     },
     "metadata": {},
     "output_type": "display_data"
    }
   ],
   "source": [
    "plt.hist(user_summary.value_counts(), bins=100)\n",
    "axes = plt.gca()\n",
    "axes.set_ylim([0,500])\n",
    "plt.show()"
   ]
  },
  {
   "cell_type": "code",
   "execution_count": 9,
   "metadata": {
    "collapsed": false
   },
   "outputs": [],
   "source": [
    "users_vs_subs = []\n",
    "current_user = reddit_data[0][0]\n",
    "subs = []\n",
    "interaction_count = 0\n",
    "sub_discovery_time = []\n",
    "usr_sub_discovery_time = [0]\n",
    "user_subs_list = []\n",
    "for i,comment in enumerate(reddit_data):\n",
    "    if comment[0] != current_user:\n",
    "        user_subs_list = [comment[1]]\n",
    "        sub_discovery_time.append(usr_sub_discovery_time)\n",
    "        usr_sub_discovery_time = []\n",
    "        interaction_count = 0\n",
    "        users_vs_subs.append(len(subs))\n",
    "    elif comment[1] not in user_subs_list:\n",
    "        usr_sub_discovery_time.append(interaction_count)\n",
    "        interaction_count = 0\n",
    "        user_subs_list.append(comment[1])\n",
    "    if comment[1] not in subs:\n",
    "        subs.append(comment[1])\n",
    "    current_user = comment[0]\n",
    "    if comment[1] != reddit_data[i-1][1]:\n",
    "        interaction_count = interaction_count + 1"
   ]
  },
  {
   "cell_type": "code",
   "execution_count": 10,
   "metadata": {
    "collapsed": false
   },
   "outputs": [
    {
     "data": {
      "image/png": "[encoded data removed]",
      "text/plain": [
       "<matplotlib.figure.Figure at 0x2d1480f05c0>"
      ]
     },
     "metadata": {},
     "output_type": "display_data"
    }
   ],
   "source": [
    "indexes = np.arange(len(users_vs_subs))\n",
    "plt.plot(indexes,users_vs_subs)\n",
    "plt.title(\"Unique Subreddits vs User Count\")\n",
    "plt.show()"
   ]
  },
  {
   "cell_type": "code",
   "execution_count": 11,
   "metadata": {
    "collapsed": false
   },
   "outputs": [
    {
     "data": {
      "image/png": "[encoded data removed]",
      "text/plain": [
       "<matplotlib.figure.Figure at 0x2d148078630>"
      ]
     },
     "metadata": {},
     "output_type": "display_data"
    }
   ],
   "source": [
    "disc_times = [usr_dts[-1] for usr_dts in sub_discovery_time if usr_dts and usr_dts[-1] > 1 and  usr_dts[-1] <100]\n",
    "plt.hist(disc_times , bins=90)\n",
    "plt.title(\"New Sub Discovery Time Steps\")\n",
    "plt.show()"
   ]
  },
  {
   "cell_type": "code",
   "execution_count": 12,
   "metadata": {
    "collapsed": false
   },
   "outputs": [
    {
     "data": {
      "text/plain": [
       "52.0"
      ]
     },
     "execution_count": 12,
     "metadata": {},
     "output_type": "execute_result"
    }
   ],
   "source": [
    "np.percentile(disc_times,95)"
   ]
  },
  {
   "cell_type": "code",
   "execution_count": 13,
   "metadata": {
    "collapsed": false
   },
   "outputs": [
    {
     "data": {
      "image/png": "[encoded data removed]",
      "text/plain": [
       "<matplotlib.figure.Figure at 0x2d1495eb390>"
      ]
     },
     "metadata": {},
     "output_type": "display_data"
    }
   ],
   "source": [
    "non_rep_interaction = [sum(usr_dts) for usr_dts in sub_discovery_time]\n",
    "plt.hist(non_rep_interaction , bins=90)\n",
    "plt.title(\"Total Non-Repeating User Interactions\")\n",
    "plt.show()"
   ]
  },
  {
   "cell_type": "code",
   "execution_count": 14,
   "metadata": {
    "collapsed": false
   },
   "outputs": [
    {
     "data": {
      "text/plain": [
       "243.40333068992862"
      ]
     },
     "execution_count": 14,
     "metadata": {},
     "output_type": "execute_result"
    }
   ],
   "source": [
    "np.mean(non_rep_interaction)"
   ]
  },
  {
   "cell_type": "code",
   "execution_count": 15,
   "metadata": {
    "collapsed": false
   },
   "outputs": [
    {
     "data": {
      "image/png": "[encoded data removed]",
      "text/plain": [
       "<matplotlib.figure.Figure at 0x2d14a94c390>"
      ]
     },
     "metadata": {},
     "output_type": "display_data"
    }
   ],
   "source": [
    "flt_disc_times = [dt for usr_dts in sub_discovery_time for dt in usr_dts[50:] if dt < 50]\n",
    "plt.hist(flt_disc_times , bins=50)\n",
    "plt.title(\"Truncated New Sub Discovery Time Steps\")\n",
    "plt.show()"
   ]
  },
  {
   "cell_type": "code",
   "execution_count": 16,
   "metadata": {
    "collapsed": false
   },
   "outputs": [
    {
     "data": {
      "text/plain": [
       "6.7954674845821152"
      ]
     },
     "execution_count": 16,
     "metadata": {},
     "output_type": "execute_result"
    }
   ],
   "source": [
    "np.mean(flt_disc_times)"
   ]
  },
  {
   "cell_type": "markdown",
   "metadata": {},
   "source": [
    "<h2>Model Data Structure</h2>\n",
    "\n",
    "To build the training dataset, the subreddit interaction sequence for each user can be ordered and then split into chunks representing different periods of Reddit interaction and discovery. From each chunk, we can randomly remove a single subreddit from the interaction as the \"discovered\" subreddit and use it as our training label for the interaction sequences. This formulation brings with it a hyperparameter that will require tuning, namely the sequence size of each chunk of user interaction periods. \n",
    "\n",
    "There are also a couple of design decisions needed that will create inherent assumptions in the model. This includes whether the labelled \"discovered\" subreddit should be randomly chosen from each interaction sequence, or should there be a more structured selection. The proposed model utilizes the distribution of subreddits existing in the dataset to weight the random selection of a subreddit as the sequence label, which gives a higher probability of selection to rarer subreddits. This will smoothen the distribution of training labels across the models vocabulary of subreddits in the dataset. Also, each users interaction sequence has been compressed to only represent the sequence of non-repeating subreddits, to eliminate the repeatative structure of users constantly commenting in a single subreddit, while providing information of the users habits in the reddit ecosystem more generally, allowing the model to distinguish broader patterns from the compressed sequences.\n",
    "\n",
    "These subreddit sequence/subreddit label pairs are then passed to various RNN architectures (shallow and deep LSTM/GRU networks) with an exploration of hyperparamter optimization to select the optimal model for recommending new subreddits of interest to reddit users.\n",
    "\n",
    "<h3>Model Sequencing</h3>"
   ]
  },
  {
   "cell_type": "code",
   "execution_count": null,
   "metadata": {
    "collapsed": true
   },
   "outputs": [],
   "source": [
    "vocab_vs_min_thresh = []\n",
    "for min_cnt in range(20,201,20):\n",
    "    mdl = SubRecommender.SubRecommender('data/train_reddit_data.json',\n",
    "                                sequence_chunk_size=5,min_seq_length=10,min_count_thresh=min_cnt)\n",
    "    mdl.create_vocab()\n",
    "    vocab_vs_min_thresh.append([min_cnt,mdl.vocab_size])\n",
    "\n",
    "chunk_sizes = [10,15,20,25,40,50]\n",
    "min_lengths = [5,6,7,8,9,10]\n",
    "rslts = []\n",
    "for chnk_sz in chunk_sizes:\n",
    "    for mn_lngth in min_lengths:\n",
    "        mdl = SubRecommender.SubRecommender('data/train_reddit_data.json',\n",
    "                                    sequence_chunk_size=chnk_sz,min_seq_length=mn_lngth,min_count_thresh=100)\n",
    "        train_df = tst.load_train_df()\n",
    "        rslts.append([chnk_sz,mn_lngth,len(mdl.training_sequences)])"
   ]
  },
  {
   "cell_type": "markdown",
   "metadata": {},
   "source": [
    "<h3>Model Testing</h3>"
   ]
  },
  {
   "cell_type": "code",
   "execution_count": null,
   "metadata": {
    "collapsed": false
   },
   "outputs": [
    {
     "name": "stdout",
     "output_type": "stream",
     "text": [
      "Training Step: 1636  | total loss: \u001b[1m\u001b[32m7.74322\u001b[0m\u001b[0m\n",
      "\u001b[2K\r",
      "| Adam | epoch: 001 | loss: 7.74322 - acc: 0.0056 -- iter: 180480/238229\n"
     ]
    }
   ],
   "source": [
    "import SubRecommender\n",
    "import json\n",
    "from collections import Counter\n",
    "import random\n",
    "from tflearn.data_utils import to_categorical, pad_sequences\n",
    "\n",
    "tst = SubRecommender.SubRecommender('data/train_reddit_data.json',\n",
    "                                    sequence_chunk_size=10,min_seq_length=8,min_count_thresh=100)\n",
    "train_df = tst.load_train_df()\n",
    "tst.train(num_epochs=10,npartitions=16)"
   ]
  },
  {
   "cell_type": "code",
   "execution_count": 28,
   "metadata": {
    "collapsed": false
   },
   "outputs": [
    {
     "data": {
      "text/plain": [
       "[(312, 1301)]"
      ]
     },
     "execution_count": 28,
     "metadata": {},
     "output_type": "execute_result"
    }
   ],
   "source": [
    "label_counter = Counter(tst.training_labels)\n",
    "label_counter.most_common(1)"
   ]
  },
  {
   "cell_type": "code",
   "execution_count": 19,
   "metadata": {
    "collapsed": false
   },
   "outputs": [
    {
     "data": {
      "text/plain": [
       "5959"
      ]
     },
     "execution_count": 19,
     "metadata": {},
     "output_type": "execute_result"
    }
   ],
   "source": [
    "len(label_counter.keys())"
   ]
  },
  {
   "cell_type": "code",
   "execution_count": null,
   "metadata": {
    "collapsed": false
   },
   "outputs": [],
   "source": [
    "accuracy_score(clf.predict(X_test),y_test)"
   ]
  },
  {
   "cell_type": "code",
   "execution_count": 22,
   "metadata": {
    "collapsed": false
   },
   "outputs": [],
   "source": [
    "def recommendation_accuracy(user_data,model,clf):\n",
    "    accuracies = []\n",
    "    for usr,user_subs in user_data.items():\n",
    "        user_seqs = tst.build_training_sequences(user_subs)\n",
    "        training_sequences = [data[0] for data in user_seqs]\n",
    "        training_labels = [data[1] for data in user_seqs]\n",
    "        X_test = pad_sequences(training_sequences, maxlen=tst.sequence_chunk_size, value=0.,padding='post')\n",
    "        if training_sequences:\n",
    "            elif model == 'rnn':\n",
    "                sub_probs = clf.predict(X_test)\n",
    "                recs = set([probs.index(max(probs)) for probs in sub_probs])\n",
    "            elif model == 'most_common':\n",
    "                recs = [clf]\n",
    "            elif model == 'random':\n",
    "                recs = set([random.choice(tst.training_labels) for seq in training_sequences])\n",
    "            accuracy = sum([1 if rec in training_labels else 0 for rec in recs])/len(recs)\n",
    "            accuracies.append(accuracy)        \n",
    "    return np.mean(accuracies)"
   ]
  },
  {
   "cell_type": "code",
   "execution_count": 23,
   "metadata": {
    "collapsed": true
   },
   "outputs": [],
   "source": [
    "with open('data/test_user_comment_sequence_cache.json','r') as data_file:    \n",
    "    user_seqs = json.load(data_file)"
   ]
  },
  {
   "cell_type": "code",
   "execution_count": 24,
   "metadata": {
    "collapsed": false
   },
   "outputs": [
    {
     "data": {
      "text/plain": [
       "0.099821157735085209"
      ]
     },
     "execution_count": 24,
     "metadata": {},
     "output_type": "execute_result"
    }
   ],
   "source": [
    "recommendation_accuracy(user_seqs,'rnn',tst.model)"
   ]
  },
  {
   "cell_type": "code",
   "execution_count": 26,
   "metadata": {
    "collapsed": false
   },
   "outputs": [
    {
     "data": {
      "text/plain": [
       "0.010149848227442547"
      ]
     },
     "execution_count": 26,
     "metadata": {},
     "output_type": "execute_result"
    }
   ],
   "source": [
    "recommendation_accuracy(user_seqs,'random',None)"
   ]
  },
  {
   "cell_type": "code",
   "execution_count": 34,
   "metadata": {
    "collapsed": false
   },
   "outputs": [
    {
     "data": {
      "text/plain": [
       "0.058139534883720929"
      ]
     },
     "execution_count": 34,
     "metadata": {},
     "output_type": "execute_result"
    }
   ],
   "source": [
    "recommendation_accuracy(user_seqs,'most_common',4)"
   ]
  },
  {
   "cell_type": "markdown",
   "metadata": {},
   "source": [
    "<h3>Word Movers Distance</h3>"
   ]
  },
  {
   "cell_type": "code",
   "execution_count": null,
   "metadata": {
    "collapsed": false
   },
   "outputs": [],
   "source": [
    "def pairwise_emd(user_A,user_B,graph_cords):\n",
    "    set_subs = [sub for sub in set(list(user_A.keys())+list(user_A.keys())) if sub in graph_cords.keys()]\n",
    "    sub_cords = np.array([graph_cords[sub] for sub in set_subs]) \n",
    "    A_interacts = np.array([user_A[sub] if sub in list(user_A.keys()) else 0 for sub in set_subs])\n",
    "    B_interacts = np.array([user_B[sub] if sub in list(user_B.keys()) else 0 for sub in set_subs])\n",
    "    euc_dists = euclidean_distances(sub_cords,sub_cords)\n",
    "    emd_dist = emd(A_interacts.astype(np.double), B_interacts.astype(np.double), euc_dists.astype(np.double))\n",
    "    return emd_dist"
   ]
  },
  {
   "cell_type": "code",
   "execution_count": null,
   "metadata": {
    "collapsed": false
   },
   "outputs": [],
   "source": [
    "pairwise_emd(grouped['subreddit']['count']['-DEAD-'].sort_values(ascending=False),\n",
    "             grouped['subreddit']['count']['-Doomcrow-'].sort_values(ascending=False),graph_cords)"
   ]
  }
 ],
 "metadata": {
  "kernelspec": {
   "display_name": "Python 3",
   "language": "python",
   "name": "python3"
  },
  "language_info": {
   "codemirror_mode": {
    "name": "ipython",
    "version": 3
   },
   "file_extension": ".py",
   "mimetype": "text/x-python",
   "name": "python",
   "nbconvert_exporter": "python",
   "pygments_lexer": "ipython3",
   "version": "3.5.2"
  }
 },
 "nbformat": 4,
 "nbformat_minor": 0
}
