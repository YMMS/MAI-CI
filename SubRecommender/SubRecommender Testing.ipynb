{
 "cells": [
  {
   "cell_type": "code",
   "execution_count": 1,
   "metadata": {
    "collapsed": false
   },
   "outputs": [],
   "source": [
    "from imp import reload\n",
    "import SubRecommender as sr\n",
    "import pandas as pd\n",
    "import json"
   ]
  },
  {
   "cell_type": "code",
   "execution_count": 2,
   "metadata": {
    "collapsed": false
   },
   "outputs": [
    {
     "data": {
      "text/plain": [
       "<module 'SubRecommender' from 'C:\\\\Users\\\\macle\\\\Desktop\\\\UPC Masters\\\\Semester 2\\\\CI\\\\SubRecommender\\\\SubRecommender.py'>"
      ]
     },
     "execution_count": 2,
     "metadata": {},
     "output_type": "execute_result"
    }
   ],
   "source": [
    "reload(sr)"
   ]
  },
  {
   "cell_type": "code",
   "execution_count": 3,
   "metadata": {
    "collapsed": true
   },
   "outputs": [],
   "source": [
    "tst = sr.SubRecommender(train_data_file=\"data/train_reddit_data.json\",save_model_file=\"models/tst\",sequence_chunk_size=250)"
   ]
  },
  {
   "cell_type": "code",
   "execution_count": 4,
   "metadata": {
    "collapsed": false
   },
   "outputs": [
    {
     "name": "stderr",
     "output_type": "stream",
     "text": [
      "c:\\python35\\lib\\site-packages\\tensorflow\\python\\ops\\gradients_impl.py:91: UserWarning: Converting sparse IndexedSlices to a dense Tensor of unknown shape. This may consume a large amount of memory.\n",
      "  \"Converting sparse IndexedSlices to a dense Tensor of unknown shape. \"\n"
     ]
    },
    {
     "name": "stdout",
     "output_type": "stream",
     "text": [
      "Accuracy after epoch 1  - tr: 0.0 - te: 0.0\n",
      "Accuracy after epoch 2  - tr: 0.00234375 - te: 0.0\n",
      "Accuracy after epoch 3  - tr: 0.0078125 - te: 0.01953125\n",
      "Accuracy after epoch 4  - tr: 0.01640625 - te: 0.03515625\n",
      "Accuracy after epoch 5  - tr: 0.03046875 - te: 0.05859375\n",
      "Accuracy after epoch 6  - tr: 0.04765625 - te: 0.08984375\n",
      "Accuracy after epoch 7  - tr: 0.075 - te: 0.15234375\n",
      "Accuracy after epoch 8  - tr: 0.07890625 - te: 0.16015625\n",
      "Accuracy after epoch 9  - tr: 0.10390625 - te: 0.18359375\n",
      "Accuracy after epoch 10  - tr: 0.13125 - te: 0.21875\n"
     ]
    },
    {
     "data": {
      "text/plain": [
       "([0.0,\n",
       "  0.0023437499999999999,\n",
       "  0.0078125,\n",
       "  0.016406250000000001,\n",
       "  0.030468749999999999,\n",
       "  0.047656249999999997,\n",
       "  0.074999999999999997,\n",
       "  0.078906249999999997,\n",
       "  0.10390625000000001,\n",
       "  0.13125000000000001],\n",
       " [0.0,\n",
       "  0.0,\n",
       "  0.01953125,\n",
       "  0.03515625,\n",
       "  0.05859375,\n",
       "  0.08984375,\n",
       "  0.15234375,\n",
       "  0.16015625,\n",
       "  0.18359375,\n",
       "  0.21875])"
      ]
     },
     "execution_count": 4,
     "metadata": {},
     "output_type": "execute_result"
    }
   ],
   "source": [
    "tst.train_network(num_epochs=10)"
   ]
  },
  {
   "cell_type": "code",
   "execution_count": 5,
   "metadata": {
    "collapsed": false
   },
   "outputs": [],
   "source": [
    "with open('data/train_reddit_data.json','r') as data_file:    \n",
    "    reddit_data = json.load(data_file)"
   ]
  },
  {
   "cell_type": "code",
   "execution_count": 6,
   "metadata": {
    "collapsed": false
   },
   "outputs": [],
   "source": [
    "df = pd.DataFrame(reddit_data,columns=['user','subreddit','utc_stamp'])\n",
    "df['utc_stamp'] = pd.to_datetime(df['utc_stamp'],unit='s')\n",
    "df.sort_values(by=['user','utc_stamp'], ascending=True, inplace=True)\n",
    "users = list(df.groupby('user')['user'].nunique().keys())\n",
    "sub_list = list(df.groupby('subreddit')['subreddit'].nunique().keys())"
   ]
  },
  {
   "cell_type": "code",
   "execution_count": 7,
   "metadata": {
    "collapsed": false
   },
   "outputs": [],
   "source": [
    "all_recs = []\n",
    "for usr in users[0:25]:\n",
    "    user_comment_subs = list(df.loc[df['user'] == usr]['subreddit'].values)\n",
    "    rec_subs = tst.rec_subs(user_comment_subs)\n",
    "    all_recs.append(rec_subs[0])"
   ]
  },
  {
   "cell_type": "code",
   "execution_count": 8,
   "metadata": {
    "collapsed": false
   },
   "outputs": [
    {
     "data": {
      "text/plain": [
       "[('pokemon', 0.0001455726),\n",
       " ('pokemon', 0.0001455726),\n",
       " ('pokemon', 0.0001455726),\n",
       " ('pokemon', 0.0001455726),\n",
       " ('pokemon', 0.00014557262),\n",
       " ('pokemon', 0.0001455529),\n",
       " ('pokemon', 0.0001455726),\n",
       " ('pokemon', 0.00014557262),\n",
       " ('pokemon', 0.0001455726),\n",
       " ('pokemon', 0.0001455726),\n",
       " ('pokemon', 0.00014557262),\n",
       " ('pokemon', 0.00014557262),\n",
       " ('pokemon', 0.0001455726),\n",
       " ('pokemon', 0.00014557262),\n",
       " ('pokemon', 0.00014510947),\n",
       " ('pokemon', 0.00014557262),\n",
       " ('pokemon', 0.0001455726),\n",
       " ('pokemon', 0.00014557262),\n",
       " ('pokemon', 0.00014557262),\n",
       " ('pokemon', 0.00014557262),\n",
       " ('pokemon', 0.00014557262),\n",
       " ('pokemon', 0.0001455726),\n",
       " ('pokemon', 0.0001455726),\n",
       " ('pokemon', 0.00014557262),\n",
       " ('pokemon', 0.0001455726)]"
      ]
     },
     "execution_count": 8,
     "metadata": {},
     "output_type": "execute_result"
    }
   ],
   "source": [
    "all_recs"
   ]
  }
 ],
 "metadata": {
  "kernelspec": {
   "display_name": "Python 3",
   "language": "python",
   "name": "python3"
  },
  "language_info": {
   "codemirror_mode": {
    "name": "ipython",
    "version": 3
   },
   "file_extension": ".py",
   "mimetype": "text/x-python",
   "name": "python",
   "nbconvert_exporter": "python",
   "pygments_lexer": "ipython3",
   "version": "3.5.2"
  }
 },
 "nbformat": 4,
 "nbformat_minor": 2
}
