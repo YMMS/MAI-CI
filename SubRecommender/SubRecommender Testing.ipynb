{
 "cells": [
  {
   "cell_type": "code",
   "execution_count": 1,
   "metadata": {
    "collapsed": false
   },
   "outputs": [],
   "source": [
    "from imp import reload\n",
    "import SubRecommender as sr\n",
    "import pandas as pd\n",
    "import json"
   ]
  },
  {
   "cell_type": "code",
   "execution_count": 2,
   "metadata": {
    "collapsed": false
   },
   "outputs": [
    {
     "data": {
      "text/plain": [
       "<module 'SubRecommender' from 'C:\\\\Users\\\\macle\\\\Desktop\\\\UPC Masters\\\\Semester 2\\\\CI\\\\SubRecommender\\\\SubRecommender.py'>"
      ]
     },
     "execution_count": 2,
     "metadata": {},
     "output_type": "execute_result"
    }
   ],
   "source": [
    "reload(sr)"
   ]
  },
  {
   "cell_type": "code",
   "execution_count": 3,
   "metadata": {
    "collapsed": true
   },
   "outputs": [],
   "source": [
    "tst = sr.SubRecommender(train_data_file=\"data/train_reddit_data.json\",save_model_file=\"models/tst\")"
   ]
  },
  {
   "cell_type": "code",
   "execution_count": 4,
   "metadata": {
    "collapsed": false
   },
   "outputs": [
    {
     "name": "stderr",
     "output_type": "stream",
     "text": [
      "c:\\python35\\lib\\site-packages\\tensorflow\\python\\ops\\gradients_impl.py:91: UserWarning: Converting sparse IndexedSlices to a dense Tensor of unknown shape. This may consume a large amount of memory.\n",
      "  \"Converting sparse IndexedSlices to a dense Tensor of unknown shape. \"\n"
     ]
    },
    {
     "name": "stdout",
     "output_type": "stream",
     "text": [
      "Accuracy after epoch 1  - tr: 0.0203125 - te: 0.1669921875\n",
      "Accuracy after epoch 2  - tr: 0.188932291667 - te: 0.341796875\n",
      "Accuracy after epoch 3  - tr: 0.304154829545 - te: 0.401041666667\n",
      "Accuracy after epoch 4  - tr: 0.335731907895 - te: 0.376953125\n",
      "Accuracy after epoch 5  - tr: 0.298828125 - te: 0.28515625\n",
      "Accuracy after epoch 6  - tr: 0.200613839286 - te: 0.1828125\n",
      "Accuracy after epoch 7  - tr: 0.16759672619 - te: 0.138671875\n",
      "Accuracy after epoch 8  - tr: 0.125673491379 - te: 0.106770833333\n",
      "Accuracy after epoch 9  - tr: 0.0813802083333 - te: 0.190104166667\n",
      "Accuracy after epoch 10  - tr: 0.131036931818 - te: 0.16015625\n"
     ]
    },
    {
     "data": {
      "text/plain": [
       "([0.020312500000000001,\n",
       "  0.18893229166666667,\n",
       "  0.30415482954545453,\n",
       "  0.33573190789473684,\n",
       "  0.298828125,\n",
       "  0.20061383928571427,\n",
       "  0.16759672619047619,\n",
       "  0.12567349137931033,\n",
       "  0.081380208333333329,\n",
       "  0.13103693181818182],\n",
       " [0.1669921875,\n",
       "  0.341796875,\n",
       "  0.40104166666666669,\n",
       "  0.376953125,\n",
       "  0.28515625,\n",
       "  0.18281249999999999,\n",
       "  0.138671875,\n",
       "  0.10677083333333333,\n",
       "  0.19010416666666666,\n",
       "  0.16015625])"
      ]
     },
     "execution_count": 4,
     "metadata": {},
     "output_type": "execute_result"
    }
   ],
   "source": [
    "tst.train_network()"
   ]
  },
  {
   "cell_type": "code",
   "execution_count": 5,
   "metadata": {
    "collapsed": false
   },
   "outputs": [],
   "source": [
    "with open('data/test_reddit_data.json','r') as data_file:    \n",
    "    reddit_data = json.load(data_file)"
   ]
  },
  {
   "cell_type": "code",
   "execution_count": 6,
   "metadata": {
    "collapsed": false
   },
   "outputs": [],
   "source": [
    "df = pd.DataFrame(reddit_data,columns=['user','subreddit','utc_stamp'])\n",
    "df['utc_stamp'] = pd.to_datetime(df['utc_stamp'],unit='s')\n",
    "df.sort_values(by=['user','utc_stamp'], ascending=True, inplace=True)\n",
    "users = list(df.groupby('user')['user'].nunique().keys())\n",
    "sub_list = list(df.groupby('subreddit')['subreddit'].nunique().keys())\n",
    "user_comment_subs = list(df.loc[df['user'] == users[1]]['subreddit'].values)"
   ]
  },
  {
   "cell_type": "code",
   "execution_count": 7,
   "metadata": {
    "collapsed": false
   },
   "outputs": [
    {
     "ename": "TypeError",
     "evalue": "'ascending' is an invalid keyword argument for this function",
     "output_type": "error",
     "traceback": [
      "\u001b[0;31m---------------------------------------------------------------------------\u001b[0m",
      "\u001b[0;31mTypeError\u001b[0m                                 Traceback (most recent call last)",
      "\u001b[0;32m<ipython-input-7-6e023a4a8546>\u001b[0m in \u001b[0;36m<module>\u001b[0;34m()\u001b[0m\n\u001b[0;32m----> 1\u001b[0;31m \u001b[0mrec_subs\u001b[0m \u001b[1;33m=\u001b[0m \u001b[0mtst\u001b[0m\u001b[1;33m.\u001b[0m\u001b[0mrec_subs\u001b[0m\u001b[1;33m(\u001b[0m\u001b[0muser_comment_subs\u001b[0m\u001b[1;33m)\u001b[0m\u001b[1;33m\u001b[0m\u001b[0m\n\u001b[0m",
      "\u001b[0;32mC:\\Users\\macle\\Desktop\\UPC Masters\\Semester 2\\CI\\SubRecommender\\SubRecommender.py\u001b[0m in \u001b[0;36mrec_subs\u001b[0;34m(self, sub_cmt_list)\u001b[0m\n\u001b[1;32m     81\u001b[0m         \u001b[0muser_df\u001b[0m \u001b[1;33m=\u001b[0m \u001b[0mbuild_user_comment_df\u001b[0m\u001b[1;33m(\u001b[0m\u001b[0msub_cmt_list\u001b[0m\u001b[1;33m,\u001b[0m\u001b[0mself\u001b[0m\u001b[1;33m.\u001b[0m\u001b[0msequence_chunk_size\u001b[0m\u001b[1;33m,\u001b[0m\u001b[0mself\u001b[0m\u001b[1;33m.\u001b[0m\u001b[0mbatch_size\u001b[0m\u001b[1;33m)\u001b[0m\u001b[1;33m\u001b[0m\u001b[0m\n\u001b[1;32m     82\u001b[0m         \u001b[0mpreds\u001b[0m\u001b[1;33m,\u001b[0m\u001b[0mrec_subs\u001b[0m \u001b[1;33m=\u001b[0m  \u001b[0mrnn\u001b[0m\u001b[1;33m.\u001b[0m\u001b[0mrecommend_subs\u001b[0m\u001b[1;33m(\u001b[0m\u001b[0mself\u001b[0m\u001b[1;33m.\u001b[0m\u001b[0mg\u001b[0m\u001b[1;33m,\u001b[0m\u001b[0mself\u001b[0m\u001b[1;33m.\u001b[0m\u001b[0msave_model_file\u001b[0m\u001b[1;33m,\u001b[0m\u001b[0muser_df\u001b[0m\u001b[1;33m,\u001b[0m\u001b[0mself\u001b[0m\u001b[1;33m.\u001b[0m\u001b[0mbatch_size\u001b[0m\u001b[1;33m)\u001b[0m\u001b[1;33m\u001b[0m\u001b[0m\n\u001b[0;32m---> 83\u001b[0;31m         \u001b[1;32mreturn\u001b[0m \u001b[0msorted\u001b[0m\u001b[1;33m(\u001b[0m\u001b[1;33m[\u001b[0m\u001b[1;33m(\u001b[0m\u001b[0mself\u001b[0m\u001b[1;33m.\u001b[0m\u001b[0midx_to_vocab\u001b[0m\u001b[1;33m[\u001b[0m\u001b[0msub\u001b[0m\u001b[1;33m]\u001b[0m\u001b[1;33m,\u001b[0m\u001b[0mpreds\u001b[0m\u001b[1;33m[\u001b[0m\u001b[0mi\u001b[0m\u001b[1;33m,\u001b[0m\u001b[0msub\u001b[0m\u001b[1;33m]\u001b[0m\u001b[1;33m)\u001b[0m \u001b[1;32mfor\u001b[0m \u001b[0mi\u001b[0m\u001b[1;33m,\u001b[0m\u001b[0msub\u001b[0m \u001b[1;32min\u001b[0m \u001b[0menumerate\u001b[0m\u001b[1;33m(\u001b[0m\u001b[0mrec_subs\u001b[0m\u001b[1;33m)\u001b[0m\u001b[1;33m]\u001b[0m\u001b[1;33m,\u001b[0m\u001b[0mkey\u001b[0m\u001b[1;33m=\u001b[0m\u001b[1;32mlambda\u001b[0m \u001b[0mx\u001b[0m\u001b[1;33m:\u001b[0m \u001b[0mx\u001b[0m\u001b[1;33m[\u001b[0m\u001b[1;36m1\u001b[0m\u001b[1;33m]\u001b[0m\u001b[1;33m,\u001b[0m\u001b[0mascending\u001b[0m\u001b[1;33m=\u001b[0m\u001b[1;32mFalse\u001b[0m\u001b[1;33m)\u001b[0m\u001b[1;33m\u001b[0m\u001b[0m\n\u001b[0m",
      "\u001b[0;31mTypeError\u001b[0m: 'ascending' is an invalid keyword argument for this function"
     ]
    }
   ],
   "source": [
    "rec_subs = tst.rec_subs(user_comment_subs)"
   ]
  },
  {
   "cell_type": "code",
   "execution_count": null,
   "metadata": {
    "collapsed": false
   },
   "outputs": [],
   "source": [
    "rec_subs[0:10]"
   ]
  }
 ],
 "metadata": {
  "kernelspec": {
   "display_name": "Python 3",
   "language": "python",
   "name": "python3"
  },
  "language_info": {
   "codemirror_mode": {
    "name": "ipython",
    "version": 3
   },
   "file_extension": ".py",
   "mimetype": "text/x-python",
   "name": "python",
   "nbconvert_exporter": "python",
   "pygments_lexer": "ipython3",
   "version": "3.5.2"
  }
 },
 "nbformat": 4,
 "nbformat_minor": 2
}
