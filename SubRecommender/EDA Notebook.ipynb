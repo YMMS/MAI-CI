{
 "cells": [
  {
   "cell_type": "markdown",
   "metadata": {},
   "source": [
    "<b>Scratch Pad</b>  \n",
    "User interaction data (ie # of comments, per subreddit etc)  - Can be used as word move weight/count  \n",
    "Architecture - WMD fed into net with features as top X closest users (ie user 1,8,56,123) which are ordered by their inherent embedding distances from a reference user (ie a default sub user), could also include furthest users, add NLP/content features for fine tuning suggestions from close users.  \n",
    "Need to deal with aging problem of recommender systems  \n",
    "Need to update network gefx file  \n",
    "identify users very far from you to introduce outside perspectives  \n",
    "Center of gravity of user comments over time of user account age  \n",
    "comment -> subreddit sequenced RNN, predict next subreddit to comment in?  \n",
    "Use subbeddit tags and related subreddits for network connections in embedding network  \n",
    "things learned - reading code from python packages  \n",
    "temporal EDA (distribution of post month/year)  \n",
    "Chrome extension to show visualization of selected users network compared to yours\n",
    "\n"
   ]
  },
  {
   "cell_type": "code",
   "execution_count": 1,
   "metadata": {
    "collapsed": false
   },
   "outputs": [],
   "source": [
    "import json\n",
    "import os\n",
    "import pandas as pd\n",
    "import numpy as np\n",
    "import matplotlib.pyplot as plt\n",
    "from ggplot import *\n",
    "import networkx as nx\n",
    "from networkx.readwrite import json_graph\n",
    "from operator import itemgetter\n",
    "from collections import Counter\n",
    "from bs4 import BeautifulSoup\n",
    "from pyemd import emd\n",
    "import random\n",
    "from sklearn.metrics import euclidean_distances\n",
    "import tensorflow as tf\n",
    "from tflearn.data_utils import to_categorical, pad_sequences\n",
    "import tflearn\n",
    "import SubRecommender\n",
    "from sklearn.preprocessing import normalize\n",
    "%matplotlib inline"
   ]
  },
  {
   "cell_type": "markdown",
   "metadata": {},
   "source": [
    "<h1>Introduction</h1>\n",
    "In this notebook, we explore a dataset compiled using Reddit's PRAW API in collecting historical user subbreddit comments. The goal of this analysis is to inform the development of a Recurrent Nueral Network model that can be used as a recommender system in recommending users new subreddits based on their historical subreddit commenting patterns.  \n",
    "\n",
    "<h2>Dataset</h2>\n",
    "\n",
    "The dataset was compiled using a python scrapper developed using Reddit's PRAW API. The raw data is a list of 3-tuples of [username,subreddit,utc timestamp]. Each row represents a single comments made by the user."
   ]
  },
  {
   "cell_type": "code",
   "execution_count": 2,
   "metadata": {
    "collapsed": false
   },
   "outputs": [],
   "source": [
    "with open('data/train_reddit_data.json','r') as data_file:    \n",
    "    reddit_data = json.load(data_file)"
   ]
  },
  {
   "cell_type": "code",
   "execution_count": 3,
   "metadata": {
    "collapsed": false
   },
   "outputs": [
    {
     "data": {
      "text/html": [
       "<div>\n",
       "<table border=\"1\" class=\"dataframe\">\n",
       "  <thead>\n",
       "    <tr style=\"text-align: right;\">\n",
       "      <th></th>\n",
       "      <th>user</th>\n",
       "      <th>subreddit</th>\n",
       "      <th>utc_stamp</th>\n",
       "    </tr>\n",
       "  </thead>\n",
       "  <tbody>\n",
       "    <tr>\n",
       "      <th>0</th>\n",
       "      <td>kabanossi</td>\n",
       "      <td>photoshopbattles</td>\n",
       "      <td>2016-12-26 10:24:59</td>\n",
       "    </tr>\n",
       "    <tr>\n",
       "      <th>1</th>\n",
       "      <td>kabanossi</td>\n",
       "      <td>GetMotivated</td>\n",
       "      <td>2016-12-26 10:23:14</td>\n",
       "    </tr>\n",
       "    <tr>\n",
       "      <th>2</th>\n",
       "      <td>kabanossi</td>\n",
       "      <td>vmware</td>\n",
       "      <td>2016-12-26 10:21:16</td>\n",
       "    </tr>\n",
       "    <tr>\n",
       "      <th>3</th>\n",
       "      <td>kabanossi</td>\n",
       "      <td>carporn</td>\n",
       "      <td>2016-12-26 10:20:18</td>\n",
       "    </tr>\n",
       "    <tr>\n",
       "      <th>4</th>\n",
       "      <td>kabanossi</td>\n",
       "      <td>DIY</td>\n",
       "      <td>2016-12-26 10:17:59</td>\n",
       "    </tr>\n",
       "  </tbody>\n",
       "</table>\n",
       "</div>"
      ],
      "text/plain": [
       "        user         subreddit           utc_stamp\n",
       "0  kabanossi  photoshopbattles 2016-12-26 10:24:59\n",
       "1  kabanossi      GetMotivated 2016-12-26 10:23:14\n",
       "2  kabanossi            vmware 2016-12-26 10:21:16\n",
       "3  kabanossi           carporn 2016-12-26 10:20:18\n",
       "4  kabanossi               DIY 2016-12-26 10:17:59"
      ]
     },
     "execution_count": 3,
     "metadata": {},
     "output_type": "execute_result"
    }
   ],
   "source": [
    "df = pd.DataFrame(reddit_data,columns=['user','subreddit','utc_stamp'])\n",
    "df['utc_stamp'] = pd.to_datetime(df['utc_stamp'],unit='s')\n",
    "df.head()"
   ]
  },
  {
   "cell_type": "code",
   "execution_count": 4,
   "metadata": {
    "collapsed": false
   },
   "outputs": [
    {
     "name": "stdout",
     "output_type": "stream",
     "text": [
      "Unique Users = 22711\n",
      "Unique Subreddits = 35030\n",
      "Total User Comments = 14062334\n"
     ]
    }
   ],
   "source": [
    "print(\"Unique Users = \" + str(len(df.groupby('user')['user'].nunique())))\n",
    "print(\"Unique Subreddits = \" + str(len(df.groupby('subreddit')['subreddit'].nunique())))\n",
    "print(\"Total User Comments = \" + str(df.shape[0]))"
   ]
  },
  {
   "cell_type": "markdown",
   "metadata": {},
   "source": [
    "<h2>Subreddit Data</h2>"
   ]
  },
  {
   "cell_type": "code",
   "execution_count": 5,
   "metadata": {
    "collapsed": false
   },
   "outputs": [
    {
     "data": {
      "image/png": "[encoded data removed]",
      "text/plain": [
       "<matplotlib.figure.Figure at 0x1ff1a96d5f8>"
      ]
     },
     "metadata": {},
     "output_type": "display_data"
    }
   ],
   "source": [
    "user_subs = df.groupby(['user'])['subreddit'].nunique()\n",
    "plt.hist(user_subs.values, bins=100)\n",
    "plt.title(\"User vs Sub Counts Histogram\")\n",
    "plt.show()"
   ]
  },
  {
   "cell_type": "code",
   "execution_count": 6,
   "metadata": {
    "collapsed": false
   },
   "outputs": [
    {
     "data": {
      "text/html": [
       "<div>\n",
       "<table border=\"1\" class=\"dataframe\">\n",
       "  <thead>\n",
       "    <tr style=\"text-align: right;\">\n",
       "      <th></th>\n",
       "      <th>sub</th>\n",
       "      <th>user_count</th>\n",
       "    </tr>\n",
       "  </thead>\n",
       "  <tbody>\n",
       "    <tr>\n",
       "      <th>1404</th>\n",
       "      <td>AskReddit</td>\n",
       "      <td>14551</td>\n",
       "    </tr>\n",
       "    <tr>\n",
       "      <th>29618</th>\n",
       "      <td>pics</td>\n",
       "      <td>10325</td>\n",
       "    </tr>\n",
       "    <tr>\n",
       "      <th>24465</th>\n",
       "      <td>funny</td>\n",
       "      <td>10100</td>\n",
       "    </tr>\n",
       "    <tr>\n",
       "      <th>33332</th>\n",
       "      <td>todayilearned</td>\n",
       "      <td>9453</td>\n",
       "    </tr>\n",
       "    <tr>\n",
       "      <th>34709</th>\n",
       "      <td>worldnews</td>\n",
       "      <td>8640</td>\n",
       "    </tr>\n",
       "    <tr>\n",
       "      <th>34129</th>\n",
       "      <td>videos</td>\n",
       "      <td>8561</td>\n",
       "    </tr>\n",
       "    <tr>\n",
       "      <th>24609</th>\n",
       "      <td>gaming</td>\n",
       "      <td>8552</td>\n",
       "    </tr>\n",
       "    <tr>\n",
       "      <th>28551</th>\n",
       "      <td>news</td>\n",
       "      <td>7890</td>\n",
       "    </tr>\n",
       "    <tr>\n",
       "      <th>24791</th>\n",
       "      <td>gifs</td>\n",
       "      <td>7823</td>\n",
       "    </tr>\n",
       "    <tr>\n",
       "      <th>28183</th>\n",
       "      <td>movies</td>\n",
       "      <td>7068</td>\n",
       "    </tr>\n",
       "    <tr>\n",
       "      <th>8014</th>\n",
       "      <td>IAmA</td>\n",
       "      <td>7041</td>\n",
       "    </tr>\n",
       "    <tr>\n",
       "      <th>15233</th>\n",
       "      <td>Showerthoughts</td>\n",
       "      <td>6792</td>\n",
       "    </tr>\n",
       "    <tr>\n",
       "      <th>29866</th>\n",
       "      <td>politics</td>\n",
       "      <td>6243</td>\n",
       "    </tr>\n",
       "    <tr>\n",
       "      <th>20201</th>\n",
       "      <td>aww</td>\n",
       "      <td>6133</td>\n",
       "    </tr>\n",
       "    <tr>\n",
       "      <th>18420</th>\n",
       "      <td>WTF</td>\n",
       "      <td>5995</td>\n",
       "    </tr>\n",
       "    <tr>\n",
       "      <th>27853</th>\n",
       "      <td>mildlyinteresting</td>\n",
       "      <td>5881</td>\n",
       "    </tr>\n",
       "    <tr>\n",
       "      <th>608</th>\n",
       "      <td>AdviceAnimals</td>\n",
       "      <td>5113</td>\n",
       "    </tr>\n",
       "    <tr>\n",
       "      <th>23689</th>\n",
       "      <td>explainlikeimfive</td>\n",
       "      <td>5065</td>\n",
       "    </tr>\n",
       "    <tr>\n",
       "      <th>31165</th>\n",
       "      <td>science</td>\n",
       "      <td>4735</td>\n",
       "    </tr>\n",
       "    <tr>\n",
       "      <th>11111</th>\n",
       "      <td>Music</td>\n",
       "      <td>4708</td>\n",
       "    </tr>\n",
       "    <tr>\n",
       "      <th>32849</th>\n",
       "      <td>television</td>\n",
       "      <td>4575</td>\n",
       "    </tr>\n",
       "    <tr>\n",
       "      <th>32805</th>\n",
       "      <td>technology</td>\n",
       "      <td>4533</td>\n",
       "    </tr>\n",
       "    <tr>\n",
       "      <th>28801</th>\n",
       "      <td>nottheonion</td>\n",
       "      <td>4301</td>\n",
       "    </tr>\n",
       "    <tr>\n",
       "      <th>9747</th>\n",
       "      <td>LifeProTips</td>\n",
       "      <td>4250</td>\n",
       "    </tr>\n",
       "    <tr>\n",
       "      <th>33247</th>\n",
       "      <td>tifu</td>\n",
       "      <td>3880</td>\n",
       "    </tr>\n",
       "    <tr>\n",
       "      <th>8934</th>\n",
       "      <td>Jokes</td>\n",
       "      <td>3787</td>\n",
       "    </tr>\n",
       "    <tr>\n",
       "      <th>12029</th>\n",
       "      <td>OldSchoolCool</td>\n",
       "      <td>3682</td>\n",
       "    </tr>\n",
       "    <tr>\n",
       "      <th>29428</th>\n",
       "      <td>pcmasterrace</td>\n",
       "      <td>3537</td>\n",
       "    </tr>\n",
       "    <tr>\n",
       "      <th>6559</th>\n",
       "      <td>Futurology</td>\n",
       "      <td>3476</td>\n",
       "    </tr>\n",
       "    <tr>\n",
       "      <th>17091</th>\n",
       "      <td>The_Donald</td>\n",
       "      <td>3389</td>\n",
       "    </tr>\n",
       "    <tr>\n",
       "      <th>32064</th>\n",
       "      <td>space</td>\n",
       "      <td>3294</td>\n",
       "    </tr>\n",
       "    <tr>\n",
       "      <th>22544</th>\n",
       "      <td>dataisbeautiful</td>\n",
       "      <td>3251</td>\n",
       "    </tr>\n",
       "    <tr>\n",
       "      <th>20952</th>\n",
       "      <td>books</td>\n",
       "      <td>3169</td>\n",
       "    </tr>\n",
       "    <tr>\n",
       "      <th>32150</th>\n",
       "      <td>sports</td>\n",
       "      <td>3108</td>\n",
       "    </tr>\n",
       "    <tr>\n",
       "      <th>24142</th>\n",
       "      <td>food</td>\n",
       "      <td>3010</td>\n",
       "    </tr>\n",
       "    <tr>\n",
       "      <th>26057</th>\n",
       "      <td>interestingasfuck</td>\n",
       "      <td>2863</td>\n",
       "    </tr>\n",
       "    <tr>\n",
       "      <th>29506</th>\n",
       "      <td>personalfinance</td>\n",
       "      <td>2758</td>\n",
       "    </tr>\n",
       "    <tr>\n",
       "      <th>29797</th>\n",
       "      <td>pokemongo</td>\n",
       "      <td>2739</td>\n",
       "    </tr>\n",
       "    <tr>\n",
       "      <th>17740</th>\n",
       "      <td>TwoXChromosomes</td>\n",
       "      <td>2737</td>\n",
       "    </tr>\n",
       "    <tr>\n",
       "      <th>22230</th>\n",
       "      <td>creepy</td>\n",
       "      <td>2700</td>\n",
       "    </tr>\n",
       "    <tr>\n",
       "      <th>2282</th>\n",
       "      <td>BlackPeopleTwitter</td>\n",
       "      <td>2587</td>\n",
       "    </tr>\n",
       "    <tr>\n",
       "      <th>12252</th>\n",
       "      <td>Overwatch</td>\n",
       "      <td>2570</td>\n",
       "    </tr>\n",
       "    <tr>\n",
       "      <th>18035</th>\n",
       "      <td>UpliftingNews</td>\n",
       "      <td>2545</td>\n",
       "    </tr>\n",
       "    <tr>\n",
       "      <th>20073</th>\n",
       "      <td>atheism</td>\n",
       "      <td>2525</td>\n",
       "    </tr>\n",
       "    <tr>\n",
       "      <th>4848</th>\n",
       "      <td>Documentaries</td>\n",
       "      <td>2437</td>\n",
       "    </tr>\n",
       "    <tr>\n",
       "      <th>20603</th>\n",
       "      <td>bestof</td>\n",
       "      <td>2409</td>\n",
       "    </tr>\n",
       "    <tr>\n",
       "      <th>20008</th>\n",
       "      <td>askscience</td>\n",
       "      <td>2357</td>\n",
       "    </tr>\n",
       "    <tr>\n",
       "      <th>4225</th>\n",
       "      <td>DIY</td>\n",
       "      <td>2341</td>\n",
       "    </tr>\n",
       "    <tr>\n",
       "      <th>34661</th>\n",
       "      <td>woahdude</td>\n",
       "      <td>2142</td>\n",
       "    </tr>\n",
       "    <tr>\n",
       "      <th>24540</th>\n",
       "      <td>gadgets</td>\n",
       "      <td>2088</td>\n",
       "    </tr>\n",
       "  </tbody>\n",
       "</table>\n",
       "</div>"
      ],
      "text/plain": [
       "                      sub  user_count\n",
       "1404            AskReddit       14551\n",
       "29618                pics       10325\n",
       "24465               funny       10100\n",
       "33332       todayilearned        9453\n",
       "34709           worldnews        8640\n",
       "34129              videos        8561\n",
       "24609              gaming        8552\n",
       "28551                news        7890\n",
       "24791                gifs        7823\n",
       "28183              movies        7068\n",
       "8014                 IAmA        7041\n",
       "15233      Showerthoughts        6792\n",
       "29866            politics        6243\n",
       "20201                 aww        6133\n",
       "18420                 WTF        5995\n",
       "27853   mildlyinteresting        5881\n",
       "608         AdviceAnimals        5113\n",
       "23689   explainlikeimfive        5065\n",
       "31165             science        4735\n",
       "11111               Music        4708\n",
       "32849          television        4575\n",
       "32805          technology        4533\n",
       "28801         nottheonion        4301\n",
       "9747          LifeProTips        4250\n",
       "33247                tifu        3880\n",
       "8934                Jokes        3787\n",
       "12029       OldSchoolCool        3682\n",
       "29428        pcmasterrace        3537\n",
       "6559           Futurology        3476\n",
       "17091          The_Donald        3389\n",
       "32064               space        3294\n",
       "22544     dataisbeautiful        3251\n",
       "20952               books        3169\n",
       "32150              sports        3108\n",
       "24142                food        3010\n",
       "26057   interestingasfuck        2863\n",
       "29506     personalfinance        2758\n",
       "29797           pokemongo        2739\n",
       "17740     TwoXChromosomes        2737\n",
       "22230              creepy        2700\n",
       "2282   BlackPeopleTwitter        2587\n",
       "12252           Overwatch        2570\n",
       "18035       UpliftingNews        2545\n",
       "20073             atheism        2525\n",
       "4848        Documentaries        2437\n",
       "20603              bestof        2409\n",
       "20008          askscience        2357\n",
       "4225                  DIY        2341\n",
       "34661            woahdude        2142\n",
       "24540             gadgets        2088"
      ]
     },
     "execution_count": 6,
     "metadata": {},
     "output_type": "execute_result"
    }
   ],
   "source": [
    "sub_users = df.groupby(['subreddit'])['user'].nunique()\n",
    "data_tuple = pd.DataFrame([(sub,count) for sub,count in sub_users.items()],columns=[\"sub\",\"user_count\"])\n",
    "sorted_df = data_tuple.sort_values(by='user_count',ascending=False)\n",
    "sorted_df.head(50)"
   ]
  },
  {
   "cell_type": "code",
   "execution_count": 7,
   "metadata": {
    "collapsed": false
   },
   "outputs": [
    {
     "data": {
      "image/png": "[encoded data removed]",
      "text/plain": [
       "<matplotlib.figure.Figure at 0x1ff1a96d160>"
      ]
     },
     "metadata": {},
     "output_type": "display_data"
    }
   ],
   "source": [
    "user_summary = df.groupby(by=['user'])['user']\n",
    "plt.hist(user_summary.value_counts(), bins=100)\n",
    "plt.show()"
   ]
  },
  {
   "cell_type": "code",
   "execution_count": 8,
   "metadata": {
    "collapsed": false
   },
   "outputs": [
    {
     "data": {
      "image/png": "[encoded data removed]",
      "text/plain": [
       "<matplotlib.figure.Figure at 0x1fe2d450908>"
      ]
     },
     "metadata": {},
     "output_type": "display_data"
    }
   ],
   "source": [
    "plt.hist(user_summary.value_counts(), bins=100)\n",
    "axes = plt.gca()\n",
    "axes.set_ylim([0,500])\n",
    "plt.show()"
   ]
  },
  {
   "cell_type": "code",
   "execution_count": 9,
   "metadata": {
    "collapsed": false
   },
   "outputs": [],
   "source": [
    "users_vs_subs = []\n",
    "current_user = reddit_data[0][0]\n",
    "subs = []\n",
    "interaction_count = 0\n",
    "sub_discovery_time = []\n",
    "usr_sub_discovery_time = [0]\n",
    "user_subs_list = []\n",
    "for i,comment in enumerate(reddit_data):\n",
    "    if comment[0] != current_user:\n",
    "        user_subs_list = [comment[1]]\n",
    "        sub_discovery_time.append(usr_sub_discovery_time)\n",
    "        usr_sub_discovery_time = []\n",
    "        interaction_count = 0\n",
    "        users_vs_subs.append(len(subs))\n",
    "    elif comment[1] not in user_subs_list:\n",
    "        usr_sub_discovery_time.append(interaction_count)\n",
    "        interaction_count = 0\n",
    "        user_subs_list.append(comment[1])\n",
    "    if comment[1] not in subs:\n",
    "        subs.append(comment[1])\n",
    "    current_user = comment[0]\n",
    "    if comment[1] != reddit_data[i-1][1]:\n",
    "        interaction_count = interaction_count + 1"
   ]
  },
  {
   "cell_type": "code",
   "execution_count": 10,
   "metadata": {
    "collapsed": false
   },
   "outputs": [
    {
     "data": {
      "image/png": "[encoded data removed]",
      "text/plain": [
       "<matplotlib.figure.Figure at 0x1fe2d686c88>"
      ]
     },
     "metadata": {},
     "output_type": "display_data"
    }
   ],
   "source": [
    "indexes = np.arange(len(users_vs_subs))\n",
    "plt.plot(indexes,users_vs_subs)\n",
    "plt.title(\"Unique Subreddits vs User Count\")\n",
    "plt.show()"
   ]
  },
  {
   "cell_type": "markdown",
   "metadata": {},
   "source": [
    "<h1>Model Architecture</h1>\n",
    "\n",
    "The hypothesis of the recommender model is that, given an ordered sequence of user subreddit interactions, patterns will emerge that favour the discovery of paticular new subreddits given that historical user interaction sequence. The intuition is, that as users interact with the Reddit ecosystem, they discover new subreddits of interest, but these new discoveries are influenced by the communities they have previously been interacting with. We can then train a model to recognize these emergent subreddit discoveries based on users historical subreddit discovery patterns. When the model is presented with a new sequence of user interaction, it \"remembers\" other users that historically had similiar interaction habits and recommend their subreddits that the current user has yet to discover.  \n",
    "\n",
    "To build the training dataset, the subreddit interaction sequence for each user can be ordered and then split into chunks representing different periods of Reddit interaction and discovery. From each chunk, we can randomly remove a single subreddit from the interaction as the \"discovered\" subreddit and use it as our training label for the interaction sequences. This formulation brings with it a hyperparameter that will require tuning, namely the sequence size of each chunk of user interaction periods. There are also a couple design decisions needed that will create inherent assumptions in the model. This includes whether the labelled \"discovered\" subreddit should be randomly chosen from each interaction sequence, or should there be a more structured selection (ie. The latest subreddit to be interacted with in the sequence.) Also, should the sequences encode ever single comment interaction or only a subset, such as when the user switches between subreddits, as it may be possible to develop long sequences of the same subreddit repeatedly as the user engages in a conversation thread in a single subreddit over a short period. These design decisions will greatly influence the efficacy of the final model, and require exploration."
   ]
  },
  {
   "cell_type": "code",
   "execution_count": 11,
   "metadata": {
    "collapsed": false
   },
   "outputs": [
    {
     "data": {
      "image/png": "[encoded data removed]",
      "text/plain": [
       "<matplotlib.figure.Figure at 0x1fe2d8f4f28>"
      ]
     },
     "metadata": {},
     "output_type": "display_data"
    }
   ],
   "source": [
    "disc_times = [usr_dts[-1] for usr_dts in sub_discovery_time if usr_dts and usr_dts[-1] > 1 and  usr_dts[-1] <100]\n",
    "plt.hist(disc_times , bins=90)\n",
    "plt.title(\"New Sub Discovery Time Steps\")\n",
    "plt.show()"
   ]
  },
  {
   "cell_type": "code",
   "execution_count": 12,
   "metadata": {
    "collapsed": false
   },
   "outputs": [
    {
     "data": {
      "text/plain": [
       "53.0"
      ]
     },
     "execution_count": 12,
     "metadata": {},
     "output_type": "execute_result"
    }
   ],
   "source": [
    "np.percentile(disc_times,95)"
   ]
  },
  {
   "cell_type": "code",
   "execution_count": 13,
   "metadata": {
    "collapsed": false
   },
   "outputs": [
    {
     "data": {
      "image/png": "[encoded data removed]",
      "text/plain": [
       "<matplotlib.figure.Figure at 0x1fe2d8da240>"
      ]
     },
     "metadata": {},
     "output_type": "display_data"
    }
   ],
   "source": [
    "non_rep_interaction = [sum(usr_dts) for usr_dts in sub_discovery_time]\n",
    "plt.hist(non_rep_interaction , bins=90)\n",
    "plt.title(\"Total Non-Repeating User Interactions\")\n",
    "plt.show()"
   ]
  },
  {
   "cell_type": "code",
   "execution_count": 14,
   "metadata": {
    "collapsed": false
   },
   "outputs": [
    {
     "data": {
      "text/plain": [
       "244.85992954645531"
      ]
     },
     "execution_count": 14,
     "metadata": {},
     "output_type": "execute_result"
    }
   ],
   "source": [
    "np.mean(non_rep_interaction)"
   ]
  },
  {
   "cell_type": "code",
   "execution_count": 15,
   "metadata": {
    "collapsed": false
   },
   "outputs": [
    {
     "data": {
      "image/png": "[encoded data removed]",
      "text/plain": [
       "<matplotlib.figure.Figure at 0x1fe2d90cef0>"
      ]
     },
     "metadata": {},
     "output_type": "display_data"
    }
   ],
   "source": [
    "flt_disc_times = [dt for usr_dts in sub_discovery_time for dt in usr_dts[50:] if dt < 50]\n",
    "plt.hist(flt_disc_times , bins=50)\n",
    "plt.title(\"Truncated New Sub Discovery Time Steps\")\n",
    "plt.show()"
   ]
  },
  {
   "cell_type": "code",
   "execution_count": 16,
   "metadata": {
    "collapsed": false
   },
   "outputs": [
    {
     "data": {
      "text/plain": [
       "6.7527359379867544"
      ]
     },
     "execution_count": 16,
     "metadata": {},
     "output_type": "execute_result"
    }
   ],
   "source": [
    "np.mean(flt_disc_times)"
   ]
  },
  {
   "cell_type": "markdown",
   "metadata": {},
   "source": [
    "<h3>Network Embedding</h3>"
   ]
  },
  {
   "cell_type": "code",
   "execution_count": 17,
   "metadata": {
    "collapsed": false
   },
   "outputs": [],
   "source": [
    "soup = BeautifulSoup(open(\"data/embedding_network.html\"),\"html.parser\")"
   ]
  },
  {
   "cell_type": "code",
   "execution_count": 18,
   "metadata": {
    "collapsed": false
   },
   "outputs": [],
   "source": [
    "graph_cords = {}\n",
    "nodes = soup.findAll('node')\n",
    "max_d =0\n",
    "\n",
    "for nd in nodes:\n",
    "    crds = nd.find('viz:position')\n",
    "    if float(crds['x']) > max_d:\n",
    "        max_d = float(crds['x'])\n",
    "    if float(crds['y']) > max_d:\n",
    "        max_d = float(crds['y'])\n",
    "\n",
    "for nd in nodes:\n",
    "    crds = nd.find('viz:position')\n",
    "    graph_cords[nd['label']] = [float(crds['x'])/max_d,float(crds['y'])/max_d]\n",
    "\n",
    "with open('data/embeddings.json','w') as data_file:    \n",
    "    json.dump(graph_cords,data_file)"
   ]
  },
  {
   "cell_type": "code",
   "execution_count": 19,
   "metadata": {
    "collapsed": false
   },
   "outputs": [
    {
     "data": {
      "text/plain": [
       "[-0.4427980530112666, 0.012933187529738299]"
      ]
     },
     "execution_count": 19,
     "metadata": {},
     "output_type": "execute_result"
    }
   ],
   "source": [
    "graph_cords['AdultToons']"
   ]
  },
  {
   "cell_type": "markdown",
   "metadata": {},
   "source": [
    "<h3>Model Testing</h3>"
   ]
  },
  {
   "cell_type": "code",
   "execution_count": 2,
   "metadata": {
    "collapsed": false
   },
   "outputs": [
    {
     "name": "stdout",
     "output_type": "stream",
     "text": [
      "Training Step: 20175  | total loss: \u001b[1m\u001b[32m6.53455\u001b[0m\u001b[0m\n",
      "| Adam | epoch: 025 | loss: 6.53455 - acc: 0.0314 | val_loss: 7.67477 - val_acc: 0.0145 -- iter: 206432/206432\n",
      "Training Step: 20175  | total loss: \u001b[1m\u001b[32m6.53455\u001b[0m\u001b[0m\n",
      "| Adam | epoch: 025 | loss: 6.53455 - acc: 0.0314 | val_loss: 7.67477 - val_acc: 0.0145 -- iter: 206432/206432\n",
      "--\n"
     ]
    },
    {
     "data": {
      "text/plain": [
       "<tflearn.models.dnn.DNN at 0x20ad0976320>"
      ]
     },
     "execution_count": 2,
     "metadata": {},
     "output_type": "execute_result"
    }
   ],
   "source": [
    "import SubRecommender\n",
    "import json\n",
    "from collections import Counter\n",
    "tst = SubRecommender.SubRecommender('data/train_reddit_data.json',\n",
    "                                    sequence_chunk_size=15,min_seq_length=7,batch_size=256,min_count_thresh=100)\n",
    "train_df = tst.load_train_df(load_file=\"data/training_sequences/13968_15_7_sequence_data.json\")\n",
    "tst.train(num_epochs=25,npartitions=12)"
   ]
  },
  {
   "cell_type": "code",
   "execution_count": 12,
   "metadata": {
    "collapsed": false
   },
   "outputs": [
    {
     "data": {
      "text/plain": [
       "[(4, 1053)]"
      ]
     },
     "execution_count": 12,
     "metadata": {},
     "output_type": "execute_result"
    }
   ],
   "source": [
    "label_counter = Counter(tst.training_labels)\n",
    "label_counter.most_common(1)"
   ]
  },
  {
   "cell_type": "code",
   "execution_count": 13,
   "metadata": {
    "collapsed": false
   },
   "outputs": [
    {
     "data": {
      "text/plain": [
       "5159"
      ]
     },
     "execution_count": 13,
     "metadata": {},
     "output_type": "execute_result"
    }
   ],
   "source": [
    "len(label_counter.keys())"
   ]
  },
  {
   "cell_type": "markdown",
   "metadata": {},
   "source": [
    "<h3>Baseline KNN Model</h3>"
   ]
  },
  {
   "cell_type": "code",
   "execution_count": null,
   "metadata": {
    "collapsed": false
   },
   "outputs": [],
   "source": [
    "import numpy as np\n",
    "from sklearn.preprocessing import OneHotEncoder\n",
    "from sklearn.neighbors import KNeighborsClassifier\n",
    "from sklearn.metrics import accuracy_score\n",
    "from scipy.sparse import csr_matrix\n",
    "\n",
    "\n",
    "train,test = tst.split_train_test(train_df,0.8)\n",
    "X_train = np.array(train['sub_seqs'])\n",
    "y_train = np.array(train['sub_label']).astype(np.uint16)\n",
    "X_test = np.array(test['sub_seqs'])\n",
    "y_test =np.array(test['sub_label']).astype(np.uint16)\n",
    "\n",
    "enc = OneHotEncoder(n_values=tst.vocab_size)\n",
    "neigh = KNeighborsClassifier(n_neighbors=1,verbose=True)\n",
    "\n",
    "X_train = pad_sequences(X_train, maxlen=tst.sequence_chunk_size, value=0.,padding='post')\n",
    "X_test = pad_sequences(X_test, maxlen=tst.sequence_chunk_size, value=0.,padding='post')\n",
    "\n",
    "enc.fit(X_train)\n",
    "\n",
    "X_train = csr_matrix(enc.transform(X_train).toarray())\n",
    "X_test = csr_matrix(enc.transform(X_test).toarray())\n",
    "\n",
    "clf = neigh.fit(X_train, y_train,n_jobs=6)\n",
    "\n",
    "accuracy_score(clf.predict(X_test),y_test)"
   ]
  },
  {
   "cell_type": "code",
   "execution_count": 4,
   "metadata": {
    "collapsed": false
   },
   "outputs": [],
   "source": [
    "def recommendation_accuracy(user_data,model,clf,enc=None):\n",
    "    accuracies = []\n",
    "    for usr,user_subs in user_data.items():\n",
    "        user_seqs = tst.build_training_sequences(user_subs)\n",
    "        training_sequences = [data[0] for data in user_seqs]\n",
    "        training_labels = [data[1] for data in user_seqs]\n",
    "        X_test = pad_sequences(training_sequences, maxlen=tst.sequence_chunk_size, value=0.,padding='post')\n",
    "        if training_sequences:\n",
    "            if model == 'knn':\n",
    "                X_test = csr_matrix(enc.transform(X_test).toarray())\n",
    "                recs = set(clf.predict(X_test))\n",
    "            elif model == 'rnn':\n",
    "                sub_probs = clf.predict(X_test)\n",
    "                recs = set([probs.index(max(probs)) for probs in sub_probs])\n",
    "            elif model == 'most_common':\n",
    "                recs = [clf]\n",
    "            accuracy = sum([1 if rec in training_labels else 0 for rec in recs])/len(recs)\n",
    "            accuracies.append(accuracy)        \n",
    "    return np.mean(accuracies)"
   ]
  },
  {
   "cell_type": "code",
   "execution_count": 5,
   "metadata": {
    "collapsed": true
   },
   "outputs": [],
   "source": [
    "with open('data/test_user_comment_sequence_cache.json','r') as data_file:    \n",
    "    user_seqs = json.load(data_file)"
   ]
  },
  {
   "cell_type": "code",
   "execution_count": 6,
   "metadata": {
    "collapsed": false
   },
   "outputs": [
    {
     "data": {
      "text/plain": [
       "0.17678381685555289"
      ]
     },
     "execution_count": 6,
     "metadata": {},
     "output_type": "execute_result"
    }
   ],
   "source": [
    "recommendation_accuracy(user_seqs,'rnn',tst.model)"
   ]
  },
  {
   "cell_type": "code",
   "execution_count": 7,
   "metadata": {
    "collapsed": false
   },
   "outputs": [
    {
     "data": {
      "text/plain": [
       "0.025000000000000001"
      ]
     },
     "execution_count": 7,
     "metadata": {},
     "output_type": "execute_result"
    }
   ],
   "source": [
    "recommendation_accuracy(user_seqs,'most_common',4)"
   ]
  },
  {
   "cell_type": "markdown",
   "metadata": {},
   "source": [
    "<h3>Word Movers Distance</h3>"
   ]
  },
  {
   "cell_type": "code",
   "execution_count": null,
   "metadata": {
    "collapsed": false
   },
   "outputs": [],
   "source": [
    "def pairwise_emd(user_A,user_B,graph_cords):\n",
    "    set_subs = [sub for sub in set(list(user_A.keys())+list(user_A.keys())) if sub in graph_cords.keys()]\n",
    "    sub_cords = np.array([graph_cords[sub] for sub in set_subs]) \n",
    "    A_interacts = np.array([user_A[sub] if sub in list(user_A.keys()) else 0 for sub in set_subs])\n",
    "    B_interacts = np.array([user_B[sub] if sub in list(user_B.keys()) else 0 for sub in set_subs])\n",
    "    euc_dists = euclidean_distances(sub_cords,sub_cords)\n",
    "    emd_dist = emd(A_interacts.astype(np.double), B_interacts.astype(np.double), euc_dists.astype(np.double))\n",
    "    return emd_dist"
   ]
  },
  {
   "cell_type": "code",
   "execution_count": null,
   "metadata": {
    "collapsed": false
   },
   "outputs": [],
   "source": [
    "pairwise_emd(grouped['subreddit']['count']['-DEAD-'].sort_values(ascending=False),\n",
    "             grouped['subreddit']['count']['-Doomcrow-'].sort_values(ascending=False),graph_cords)"
   ]
  }
 ],
 "metadata": {
  "kernelspec": {
   "display_name": "Python 3",
   "language": "python",
   "name": "python3"
  },
  "language_info": {
   "codemirror_mode": {
    "name": "ipython",
    "version": 3
   },
   "file_extension": ".py",
   "mimetype": "text/x-python",
   "name": "python",
   "nbconvert_exporter": "python",
   "pygments_lexer": "ipython3",
   "version": "3.5.2"
  }
 },
 "nbformat": 4,
 "nbformat_minor": 0
}
